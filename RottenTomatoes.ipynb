{
  "cells": [
    {
      "cell_type": "markdown",
      "source": [
        "# **Text Mining** - Projeto Final"
      ],
      "metadata": {
        "id": "gqTtHVodr_0r"
      },
      "id": "gqTtHVodr_0r"
    },
    {
      "cell_type": "markdown",
      "source": [
        "## Trabalho realizado por:\n",
        "-  Beatriz Lopes - nº 120627\n",
        "-  Francisco Pereira - nº 99814\n",
        "-  Joana Almeida - nº 121157\n"
      ],
      "metadata": {
        "id": "ftY-t_o5sHQO"
      },
      "id": "ftY-t_o5sHQO"
    },
    {
      "cell_type": "markdown",
      "id": "kOHtl_lP8kEs",
      "metadata": {
        "id": "kOHtl_lP8kEs"
      },
      "source": [
        "## **Importação das Bibliotecas necessárias para o desenvolvimento do projeto -**"
      ]
    },
    {
      "cell_type": "code",
      "execution_count": 198,
      "id": "YjTvaG3E4_NZ",
      "metadata": {
        "id": "YjTvaG3E4_NZ"
      },
      "outputs": [],
      "source": [
        "#!pip install scikit-learn\n",
        "#!pip install pandas numpy seaborn matplotlib nltk spacy gensim torch textblob scikit-learn imbalanced-learn transformers"
      ]
    },
    {
      "cell_type": "code",
      "execution_count": 199,
      "id": "be99fa03-81f7-465e-96c1-0bdb5caa1f64",
      "metadata": {
        "colab": {
          "base_uri": "https://localhost:8080/"
        },
        "id": "be99fa03-81f7-465e-96c1-0bdb5caa1f64",
        "outputId": "2415b81f-83c2-47dc-97a1-71e87bbc3ba8"
      },
      "outputs": [
        {
          "output_type": "stream",
          "name": "stderr",
          "text": [
            "[nltk_data] Downloading package stopwords to /root/nltk_data...\n",
            "[nltk_data]   Package stopwords is already up-to-date!\n",
            "[nltk_data] Downloading package punkt to /root/nltk_data...\n",
            "[nltk_data]   Package punkt is already up-to-date!\n",
            "[nltk_data] Downloading package wordnet to /root/nltk_data...\n",
            "[nltk_data]   Package wordnet is already up-to-date!\n"
          ]
        }
      ],
      "source": [
        "import re\n",
        "import string\n",
        "import nltk\n",
        "import spacy\n",
        "\n",
        "import pandas            as pd\n",
        "import numpy             as np\n",
        "import seaborn           as sns\n",
        "import matplotlib.pyplot as plt\n",
        "import spacy\n",
        "import gensim.downloader as api\n",
        "import gensim\n",
        "import torch\n",
        "import torch.nn.functional as F\n",
        "import tensorflow as tf\n",
        "\n",
        "nltk.download('stopwords')\n",
        "nltk.download('punkt')\n",
        "nltk.download('wordnet')\n",
        "\n",
        "from textblob            import TextBlob\n",
        "\n",
        "from sklearn                         import metrics\n",
        "from sklearn.utils                   import shuffle\n",
        "from sklearn.svm                     import SVC\n",
        "from sklearn.metrics                 import classification_report\n",
        "from sklearn.naive_bayes             import MultinomialNB, GaussianNB\n",
        "from sklearn.linear_model            import LogisticRegression\n",
        "from sklearn.feature_extraction.text import CountVectorizer, TfidfVectorizer\n",
        "from sklearn.model_selection         import train_test_split\n",
        "\n",
        "from nltk.corpus         import stopwords\n",
        "from nltk.stem           import WordNetLemmatizer\n",
        "from nltk.tokenize       import word_tokenize\n",
        "from nltk.stem.snowball  import SnowballStemmer\n",
        "from nltk.sentiment.util import mark_negation\n",
        "\n",
        "from imblearn.under_sampling import RandomUnderSampler\n",
        "from imblearn.over_sampling  import SMOTE\n",
        "\n",
        "from transformers import BertTokenizer, TFBertForSequenceClassification\n",
        "from transformers import InputExample, InputFeatures\n",
        "from transformers import RobertaTokenizer, RobertaForSequenceClassification\n",
        "from transformers import BertTokenizer, BertForSequenceClassification\n",
        "from transformers import TFBertForSequenceClassification, BertTokenizer\n",
        "from transformers import TFBertModel,  BertConfig, BertTokenizerFast\n",
        "\n",
        "from tensorflow.keras.layers           import Input, Dropout, Dense\n",
        "from tensorflow.keras.models           import Model\n",
        "from tensorflow.keras.optimizers       import Adam\n",
        "from tensorflow.keras.callbacks        import EarlyStopping\n",
        "from tensorflow.keras.initializers     import TruncatedNormal\n",
        "from tensorflow.keras.losses           import CategoricalCrossentropy\n",
        "from tensorflow.keras.metrics          import CategoricalAccuracy\n",
        "from tensorflow.keras.utils            import to_categorical"
      ]
    },
    {
      "cell_type": "markdown",
      "source": [
        "# **1.1 Dados**"
      ],
      "metadata": {
        "id": "nckFO9U4svan"
      },
      "id": "nckFO9U4svan"
    },
    {
      "cell_type": "markdown",
      "id": "93431f72-2e9e-4da9-9cb9-94c3bd19d908",
      "metadata": {
        "id": "93431f72-2e9e-4da9-9cb9-94c3bd19d908"
      },
      "source": [
        "<br>\n",
        "\n",
        "## **Análise dos Dados de Treino -**"
      ]
    },
    {
      "cell_type": "code",
      "execution_count": 200,
      "id": "e6254b1e-0746-4484-b568-62dfda613c5c",
      "metadata": {
        "id": "e6254b1e-0746-4484-b568-62dfda613c5c"
      },
      "outputs": [],
      "source": [
        "# Ler os dados de treino do Rotten Tomatoes\n",
        "file_path = 'rotten_tomatoes_train.tsv'\n",
        "training_data = pd.read_csv(file_path, sep='\\t', header=None)"
      ]
    },
    {
      "cell_type": "code",
      "execution_count": 201,
      "id": "1d4db761-d481-4698-8601-247ec6f3d571",
      "metadata": {
        "colab": {
          "base_uri": "https://localhost:8080/",
          "height": 0
        },
        "id": "1d4db761-d481-4698-8601-247ec6f3d571",
        "outputId": "c1536324-0cd4-41b4-cae0-74e601d0864f"
      },
      "outputs": [
        {
          "output_type": "execute_result",
          "data": {
            "text/plain": [
              "      0         1                                                  2\n",
              "0  3088  positive          Foster and Whitaker are especially fine .\n",
              "1  6509  positive  It 's the brilliant surfing photography bringi...\n",
              "2  3022  positive            Spare but quietly effective retelling .\n",
              "3  3707  positive  -LRB- Leigh -RRB- has a true talent for drawin...\n",
              "4  4785  positive  Boasts enough funny dialogue and sharp charact..."
            ],
            "text/html": [
              "\n",
              "  <div id=\"df-578dcb9f-bf1b-438c-88a5-ec9678e65444\" class=\"colab-df-container\">\n",
              "    <div>\n",
              "<style scoped>\n",
              "    .dataframe tbody tr th:only-of-type {\n",
              "        vertical-align: middle;\n",
              "    }\n",
              "\n",
              "    .dataframe tbody tr th {\n",
              "        vertical-align: top;\n",
              "    }\n",
              "\n",
              "    .dataframe thead th {\n",
              "        text-align: right;\n",
              "    }\n",
              "</style>\n",
              "<table border=\"1\" class=\"dataframe\">\n",
              "  <thead>\n",
              "    <tr style=\"text-align: right;\">\n",
              "      <th></th>\n",
              "      <th>0</th>\n",
              "      <th>1</th>\n",
              "      <th>2</th>\n",
              "    </tr>\n",
              "  </thead>\n",
              "  <tbody>\n",
              "    <tr>\n",
              "      <th>0</th>\n",
              "      <td>3088</td>\n",
              "      <td>positive</td>\n",
              "      <td>Foster and Whitaker are especially fine .</td>\n",
              "    </tr>\n",
              "    <tr>\n",
              "      <th>1</th>\n",
              "      <td>6509</td>\n",
              "      <td>positive</td>\n",
              "      <td>It 's the brilliant surfing photography bringi...</td>\n",
              "    </tr>\n",
              "    <tr>\n",
              "      <th>2</th>\n",
              "      <td>3022</td>\n",
              "      <td>positive</td>\n",
              "      <td>Spare but quietly effective retelling .</td>\n",
              "    </tr>\n",
              "    <tr>\n",
              "      <th>3</th>\n",
              "      <td>3707</td>\n",
              "      <td>positive</td>\n",
              "      <td>-LRB- Leigh -RRB- has a true talent for drawin...</td>\n",
              "    </tr>\n",
              "    <tr>\n",
              "      <th>4</th>\n",
              "      <td>4785</td>\n",
              "      <td>positive</td>\n",
              "      <td>Boasts enough funny dialogue and sharp charact...</td>\n",
              "    </tr>\n",
              "  </tbody>\n",
              "</table>\n",
              "</div>\n",
              "    <div class=\"colab-df-buttons\">\n",
              "\n",
              "  <div class=\"colab-df-container\">\n",
              "    <button class=\"colab-df-convert\" onclick=\"convertToInteractive('df-578dcb9f-bf1b-438c-88a5-ec9678e65444')\"\n",
              "            title=\"Convert this dataframe to an interactive table.\"\n",
              "            style=\"display:none;\">\n",
              "\n",
              "  <svg xmlns=\"http://www.w3.org/2000/svg\" height=\"24px\" viewBox=\"0 -960 960 960\">\n",
              "    <path d=\"M120-120v-720h720v720H120Zm60-500h600v-160H180v160Zm220 220h160v-160H400v160Zm0 220h160v-160H400v160ZM180-400h160v-160H180v160Zm440 0h160v-160H620v160ZM180-180h160v-160H180v160Zm440 0h160v-160H620v160Z\"/>\n",
              "  </svg>\n",
              "    </button>\n",
              "\n",
              "  <style>\n",
              "    .colab-df-container {\n",
              "      display:flex;\n",
              "      gap: 12px;\n",
              "    }\n",
              "\n",
              "    .colab-df-convert {\n",
              "      background-color: #E8F0FE;\n",
              "      border: none;\n",
              "      border-radius: 50%;\n",
              "      cursor: pointer;\n",
              "      display: none;\n",
              "      fill: #1967D2;\n",
              "      height: 32px;\n",
              "      padding: 0 0 0 0;\n",
              "      width: 32px;\n",
              "    }\n",
              "\n",
              "    .colab-df-convert:hover {\n",
              "      background-color: #E2EBFA;\n",
              "      box-shadow: 0px 1px 2px rgba(60, 64, 67, 0.3), 0px 1px 3px 1px rgba(60, 64, 67, 0.15);\n",
              "      fill: #174EA6;\n",
              "    }\n",
              "\n",
              "    .colab-df-buttons div {\n",
              "      margin-bottom: 4px;\n",
              "    }\n",
              "\n",
              "    [theme=dark] .colab-df-convert {\n",
              "      background-color: #3B4455;\n",
              "      fill: #D2E3FC;\n",
              "    }\n",
              "\n",
              "    [theme=dark] .colab-df-convert:hover {\n",
              "      background-color: #434B5C;\n",
              "      box-shadow: 0px 1px 3px 1px rgba(0, 0, 0, 0.15);\n",
              "      filter: drop-shadow(0px 1px 2px rgba(0, 0, 0, 0.3));\n",
              "      fill: #FFFFFF;\n",
              "    }\n",
              "  </style>\n",
              "\n",
              "    <script>\n",
              "      const buttonEl =\n",
              "        document.querySelector('#df-578dcb9f-bf1b-438c-88a5-ec9678e65444 button.colab-df-convert');\n",
              "      buttonEl.style.display =\n",
              "        google.colab.kernel.accessAllowed ? 'block' : 'none';\n",
              "\n",
              "      async function convertToInteractive(key) {\n",
              "        const element = document.querySelector('#df-578dcb9f-bf1b-438c-88a5-ec9678e65444');\n",
              "        const dataTable =\n",
              "          await google.colab.kernel.invokeFunction('convertToInteractive',\n",
              "                                                    [key], {});\n",
              "        if (!dataTable) return;\n",
              "\n",
              "        const docLinkHtml = 'Like what you see? Visit the ' +\n",
              "          '<a target=\"_blank\" href=https://colab.research.google.com/notebooks/data_table.ipynb>data table notebook</a>'\n",
              "          + ' to learn more about interactive tables.';\n",
              "        element.innerHTML = '';\n",
              "        dataTable['output_type'] = 'display_data';\n",
              "        await google.colab.output.renderOutput(dataTable, element);\n",
              "        const docLink = document.createElement('div');\n",
              "        docLink.innerHTML = docLinkHtml;\n",
              "        element.appendChild(docLink);\n",
              "      }\n",
              "    </script>\n",
              "  </div>\n",
              "\n",
              "\n",
              "<div id=\"df-70eaf672-1556-4cc6-9ba7-8e11f670d595\">\n",
              "  <button class=\"colab-df-quickchart\" onclick=\"quickchart('df-70eaf672-1556-4cc6-9ba7-8e11f670d595')\"\n",
              "            title=\"Suggest charts\"\n",
              "            style=\"display:none;\">\n",
              "\n",
              "<svg xmlns=\"http://www.w3.org/2000/svg\" height=\"24px\"viewBox=\"0 0 24 24\"\n",
              "     width=\"24px\">\n",
              "    <g>\n",
              "        <path d=\"M19 3H5c-1.1 0-2 .9-2 2v14c0 1.1.9 2 2 2h14c1.1 0 2-.9 2-2V5c0-1.1-.9-2-2-2zM9 17H7v-7h2v7zm4 0h-2V7h2v10zm4 0h-2v-4h2v4z\"/>\n",
              "    </g>\n",
              "</svg>\n",
              "  </button>\n",
              "\n",
              "<style>\n",
              "  .colab-df-quickchart {\n",
              "      --bg-color: #E8F0FE;\n",
              "      --fill-color: #1967D2;\n",
              "      --hover-bg-color: #E2EBFA;\n",
              "      --hover-fill-color: #174EA6;\n",
              "      --disabled-fill-color: #AAA;\n",
              "      --disabled-bg-color: #DDD;\n",
              "  }\n",
              "\n",
              "  [theme=dark] .colab-df-quickchart {\n",
              "      --bg-color: #3B4455;\n",
              "      --fill-color: #D2E3FC;\n",
              "      --hover-bg-color: #434B5C;\n",
              "      --hover-fill-color: #FFFFFF;\n",
              "      --disabled-bg-color: #3B4455;\n",
              "      --disabled-fill-color: #666;\n",
              "  }\n",
              "\n",
              "  .colab-df-quickchart {\n",
              "    background-color: var(--bg-color);\n",
              "    border: none;\n",
              "    border-radius: 50%;\n",
              "    cursor: pointer;\n",
              "    display: none;\n",
              "    fill: var(--fill-color);\n",
              "    height: 32px;\n",
              "    padding: 0;\n",
              "    width: 32px;\n",
              "  }\n",
              "\n",
              "  .colab-df-quickchart:hover {\n",
              "    background-color: var(--hover-bg-color);\n",
              "    box-shadow: 0 1px 2px rgba(60, 64, 67, 0.3), 0 1px 3px 1px rgba(60, 64, 67, 0.15);\n",
              "    fill: var(--button-hover-fill-color);\n",
              "  }\n",
              "\n",
              "  .colab-df-quickchart-complete:disabled,\n",
              "  .colab-df-quickchart-complete:disabled:hover {\n",
              "    background-color: var(--disabled-bg-color);\n",
              "    fill: var(--disabled-fill-color);\n",
              "    box-shadow: none;\n",
              "  }\n",
              "\n",
              "  .colab-df-spinner {\n",
              "    border: 2px solid var(--fill-color);\n",
              "    border-color: transparent;\n",
              "    border-bottom-color: var(--fill-color);\n",
              "    animation:\n",
              "      spin 1s steps(1) infinite;\n",
              "  }\n",
              "\n",
              "  @keyframes spin {\n",
              "    0% {\n",
              "      border-color: transparent;\n",
              "      border-bottom-color: var(--fill-color);\n",
              "      border-left-color: var(--fill-color);\n",
              "    }\n",
              "    20% {\n",
              "      border-color: transparent;\n",
              "      border-left-color: var(--fill-color);\n",
              "      border-top-color: var(--fill-color);\n",
              "    }\n",
              "    30% {\n",
              "      border-color: transparent;\n",
              "      border-left-color: var(--fill-color);\n",
              "      border-top-color: var(--fill-color);\n",
              "      border-right-color: var(--fill-color);\n",
              "    }\n",
              "    40% {\n",
              "      border-color: transparent;\n",
              "      border-right-color: var(--fill-color);\n",
              "      border-top-color: var(--fill-color);\n",
              "    }\n",
              "    60% {\n",
              "      border-color: transparent;\n",
              "      border-right-color: var(--fill-color);\n",
              "    }\n",
              "    80% {\n",
              "      border-color: transparent;\n",
              "      border-right-color: var(--fill-color);\n",
              "      border-bottom-color: var(--fill-color);\n",
              "    }\n",
              "    90% {\n",
              "      border-color: transparent;\n",
              "      border-bottom-color: var(--fill-color);\n",
              "    }\n",
              "  }\n",
              "</style>\n",
              "\n",
              "  <script>\n",
              "    async function quickchart(key) {\n",
              "      const quickchartButtonEl =\n",
              "        document.querySelector('#' + key + ' button');\n",
              "      quickchartButtonEl.disabled = true;  // To prevent multiple clicks.\n",
              "      quickchartButtonEl.classList.add('colab-df-spinner');\n",
              "      try {\n",
              "        const charts = await google.colab.kernel.invokeFunction(\n",
              "            'suggestCharts', [key], {});\n",
              "      } catch (error) {\n",
              "        console.error('Error during call to suggestCharts:', error);\n",
              "      }\n",
              "      quickchartButtonEl.classList.remove('colab-df-spinner');\n",
              "      quickchartButtonEl.classList.add('colab-df-quickchart-complete');\n",
              "    }\n",
              "    (() => {\n",
              "      let quickchartButtonEl =\n",
              "        document.querySelector('#df-70eaf672-1556-4cc6-9ba7-8e11f670d595 button');\n",
              "      quickchartButtonEl.style.display =\n",
              "        google.colab.kernel.accessAllowed ? 'block' : 'none';\n",
              "    })();\n",
              "  </script>\n",
              "</div>\n",
              "    </div>\n",
              "  </div>\n"
            ],
            "application/vnd.google.colaboratory.intrinsic+json": {
              "type": "dataframe",
              "variable_name": "training_data",
              "summary": "{\n  \"name\": \"training_data\",\n  \"rows\": 6800,\n  \"fields\": [\n    {\n      \"column\": 0,\n      \"properties\": {\n        \"dtype\": \"number\",\n        \"std\": 2459,\n        \"min\": 2,\n        \"max\": 8543,\n        \"num_unique_values\": 6800,\n        \"samples\": [\n          4759,\n          549,\n          4326\n        ],\n        \"semantic_type\": \"\",\n        \"description\": \"\"\n      }\n    },\n    {\n      \"column\": 1,\n      \"properties\": {\n        \"dtype\": \"category\",\n        \"num_unique_values\": 3,\n        \"samples\": [\n          \"positive\",\n          \"negative\",\n          \"neutral\"\n        ],\n        \"semantic_type\": \"\",\n        \"description\": \"\"\n      }\n    },\n    {\n      \"column\": 2,\n      \"properties\": {\n        \"dtype\": \"string\",\n        \"num_unique_values\": 6800,\n        \"samples\": [\n          \"The story is virtually impossible to follow here , but there 's a certain style and wit to the dialogue .\",\n          \"Blue Crush follows the formula , but throws in too many conflicts to keep the story compelling .\",\n          \"Antwone Fisher certainly does the trick of making us care about its protagonist and celebrate his victories but , with few exceptions , it rarely stoops to cheap manipulation or corny conventions to do it .\"\n        ],\n        \"semantic_type\": \"\",\n        \"description\": \"\"\n      }\n    }\n  ]\n}"
            }
          },
          "metadata": {},
          "execution_count": 201
        }
      ],
      "source": [
        "# 5 entradas do dataset\n",
        "training_data.head()"
      ]
    },
    {
      "cell_type": "code",
      "execution_count": 202,
      "id": "c45008f8-4e68-48b6-8492-ea6832513758",
      "metadata": {
        "id": "c45008f8-4e68-48b6-8492-ea6832513758"
      },
      "outputs": [],
      "source": [
        "# Atribuir nomes às colunas\n",
        "training_data.columns = ['Id', 'Sentiment', 'Review']"
      ]
    },
    {
      "cell_type": "code",
      "execution_count": 203,
      "id": "e928e317-2f02-415f-8fb3-ea8aeec1352c",
      "metadata": {
        "id": "e928e317-2f02-415f-8fb3-ea8aeec1352c"
      },
      "outputs": [],
      "source": [
        "# Atribuir os data types corretos aos dados\n",
        "training_data['Id'] = training_data['Id'].astype(int)\n",
        "training_data['Sentiment'] = training_data['Sentiment'].astype(str)\n",
        "training_data['Review'] = training_data['Review'].astype(str)"
      ]
    },
    {
      "cell_type": "code",
      "execution_count": 204,
      "id": "5d2b92d6-a266-4822-a43c-fa138c68072f",
      "metadata": {
        "colab": {
          "base_uri": "https://localhost:8080/"
        },
        "id": "5d2b92d6-a266-4822-a43c-fa138c68072f",
        "outputId": "6b33bb57-133d-4061-bab1-a5cd3041c0d2"
      },
      "outputs": [
        {
          "output_type": "stream",
          "name": "stdout",
          "text": [
            "<class 'pandas.core.frame.DataFrame'>\n",
            "RangeIndex: 6800 entries, 0 to 6799\n",
            "Data columns (total 3 columns):\n",
            " #   Column     Non-Null Count  Dtype \n",
            "---  ------     --------------  ----- \n",
            " 0   Id         6800 non-null   int64 \n",
            " 1   Sentiment  6800 non-null   object\n",
            " 2   Review     6800 non-null   object\n",
            "dtypes: int64(1), object(2)\n",
            "memory usage: 159.5+ KB\n"
          ]
        }
      ],
      "source": [
        "# Info do dataset\n",
        "training_data.info()"
      ]
    },
    {
      "cell_type": "code",
      "execution_count": 205,
      "id": "ad12e3d4-2a80-4e61-8266-4536e37a3c48",
      "metadata": {
        "colab": {
          "base_uri": "https://localhost:8080/"
        },
        "id": "ad12e3d4-2a80-4e61-8266-4536e37a3c48",
        "outputId": "6079f0fc-c268-40a2-9ed4-69f797361585"
      },
      "outputs": [
        {
          "output_type": "execute_result",
          "data": {
            "text/plain": [
              "Id           0\n",
              "Sentiment    0\n",
              "Review       0\n",
              "dtype: int64"
            ]
          },
          "metadata": {},
          "execution_count": 205
        }
      ],
      "source": [
        "# Ver a quantidade de entradas nulas do dataset\n",
        "training_data.isnull().sum()\n",
        "\n",
        "# Não foram identificados valores nulos em nenhuma das classes"
      ]
    },
    {
      "cell_type": "code",
      "execution_count": 206,
      "id": "b156ec3e-fb9b-4a7a-8037-c5048aa3bf3e",
      "metadata": {
        "colab": {
          "base_uri": "https://localhost:8080/",
          "height": 0
        },
        "id": "b156ec3e-fb9b-4a7a-8037-c5048aa3bf3e",
        "outputId": "9ad77a59-3a64-48bd-ded2-aad7253fc7e2"
      },
      "outputs": [
        {
          "output_type": "stream",
          "name": "stdout",
          "text": [
            "Sentiment\n",
            "positive    2888\n",
            "negative    2601\n",
            "neutral     1311\n",
            "Name: count, dtype: int64\n"
          ]
        },
        {
          "output_type": "display_data",
          "data": {
            "text/plain": [
              "<Figure size 640x480 with 1 Axes>"
            ],
            "image/png": "[encoded data removed]"
          },
          "metadata": {}
        }
      ],
      "source": [
        "# Contar o número de entradas de cada tipo de sentiment\n",
        "sentiment_counts = training_data['Sentiment'].value_counts()\n",
        "print(sentiment_counts)\n",
        "\n",
        "# Criar o gráfico de barras\n",
        "sentiment_counts.plot(kind='bar', color='darkred')\n",
        "# Adicionar título e rótulos dos eixos\n",
        "plt.title('Número de Entradas por Sentimento')\n",
        "plt.xlabel('Sentimento')\n",
        "plt.ylabel('Contagem')\n",
        "plt.show()\n",
        "\n",
        "# Neste gráfico é possível verificar que as classes não se encontram balanceadas"
      ]
    },
    {
      "cell_type": "code",
      "execution_count": 207,
      "id": "3148b728-6a74-41fa-936d-dd282d386f02",
      "metadata": {
        "id": "3148b728-6a74-41fa-936d-dd282d386f02"
      },
      "outputs": [],
      "source": [
        "# Contar o número de caracteres de cada Review\n",
        "training_data['text_length'] = training_data['Review'].apply(len)"
      ]
    },
    {
      "cell_type": "code",
      "execution_count": 208,
      "id": "08e7120b-d510-409b-95a7-8609f62a81c0",
      "metadata": {
        "colab": {
          "base_uri": "https://localhost:8080/",
          "height": 0
        },
        "id": "08e7120b-d510-409b-95a7-8609f62a81c0",
        "outputId": "cbf9c2c3-c0bb-499d-ebbd-60d942415d01"
      },
      "outputs": [
        {
          "output_type": "display_data",
          "data": {
            "text/plain": [
              "<Figure size 640x480 with 1 Axes>"
            ],
            "image/png": "[encoded data removed]"
          },
          "metadata": {}
        }
      ],
      "source": [
        "# Plot com a distribuição do número de caracteres de cada Review\n",
        "training_data['text_length'].hist(bins=50, color='darkred')\n",
        "plt.xlabel('Text Length')\n",
        "plt.ylabel('Frequency')\n",
        "plt.title('Training Data Text Length')\n",
        "plt.show()\n",
        "\n",
        "# O histograma indica que os comprimentos da maioria das reviews nos dados de treino têm menos de 150 palavras"
      ]
    },
    {
      "cell_type": "code",
      "execution_count": 209,
      "id": "y2pQC08zKq7M",
      "metadata": {
        "colab": {
          "base_uri": "https://localhost:8080/"
        },
        "id": "y2pQC08zKq7M",
        "outputId": "0960427b-c162-4000-dfbd-4281c6dd27d8"
      },
      "outputs": [
        {
          "output_type": "stream",
          "name": "stdout",
          "text": [
            "A média do comprimento das reviews é: 101.82882352941176\n"
          ]
        }
      ],
      "source": [
        "# Calcular a média do comprimento das reviews\n",
        "average_length = training_data['text_length'].mean()\n",
        "print(f\"A média do comprimento das reviews é: {average_length}\")"
      ]
    },
    {
      "cell_type": "markdown",
      "id": "14b5487f-1289-4b9b-80d8-1465c234ce4e",
      "metadata": {
        "id": "14b5487f-1289-4b9b-80d8-1465c234ce4e"
      },
      "source": [
        "<br>\n",
        "\n",
        "## **Análise dos Dados de Teste -**"
      ]
    },
    {
      "cell_type": "code",
      "execution_count": 210,
      "id": "988c1695-596b-4383-b019-ec310a7b9499",
      "metadata": {
        "id": "988c1695-596b-4383-b019-ec310a7b9499"
      },
      "outputs": [],
      "source": [
        "# Ler os dados de teste do Rotten Tomatoes\n",
        "file_path = 'rotten_tomatoes_test.tsv'\n",
        "test_data = pd.read_csv(file_path, sep='\\t', header=None)"
      ]
    },
    {
      "cell_type": "code",
      "execution_count": 211,
      "id": "57b4f452-a3b7-4033-b4db-6dda54c6a682",
      "metadata": {
        "colab": {
          "base_uri": "https://localhost:8080/",
          "height": 0
        },
        "id": "57b4f452-a3b7-4033-b4db-6dda54c6a682",
        "outputId": "194d3286-4b63-46a8-de0d-5d874dfdcc28"
      },
      "outputs": [
        {
          "output_type": "execute_result",
          "data": {
            "text/plain": [
              "      0         1                                                  2\n",
              "0  3230  negative  With a tighter editorial process and firmer di...\n",
              "1  4659  positive  If ever a concept came handed down from the mo...\n",
              "2  7019  negative  Whether Jason X is this bad on purpose is neve...\n",
              "3  3258  positive  Alternates between deadpan comedy and heartbre...\n",
              "4  6978   neutral                  God is great , the movie 's not ."
            ],
            "text/html": [
              "\n",
              "  <div id=\"df-e6ce29c3-d354-4b9f-8abd-827c126172ec\" class=\"colab-df-container\">\n",
              "    <div>\n",
              "<style scoped>\n",
              "    .dataframe tbody tr th:only-of-type {\n",
              "        vertical-align: middle;\n",
              "    }\n",
              "\n",
              "    .dataframe tbody tr th {\n",
              "        vertical-align: top;\n",
              "    }\n",
              "\n",
              "    .dataframe thead th {\n",
              "        text-align: right;\n",
              "    }\n",
              "</style>\n",
              "<table border=\"1\" class=\"dataframe\">\n",
              "  <thead>\n",
              "    <tr style=\"text-align: right;\">\n",
              "      <th></th>\n",
              "      <th>0</th>\n",
              "      <th>1</th>\n",
              "      <th>2</th>\n",
              "    </tr>\n",
              "  </thead>\n",
              "  <tbody>\n",
              "    <tr>\n",
              "      <th>0</th>\n",
              "      <td>3230</td>\n",
              "      <td>negative</td>\n",
              "      <td>With a tighter editorial process and firmer di...</td>\n",
              "    </tr>\n",
              "    <tr>\n",
              "      <th>1</th>\n",
              "      <td>4659</td>\n",
              "      <td>positive</td>\n",
              "      <td>If ever a concept came handed down from the mo...</td>\n",
              "    </tr>\n",
              "    <tr>\n",
              "      <th>2</th>\n",
              "      <td>7019</td>\n",
              "      <td>negative</td>\n",
              "      <td>Whether Jason X is this bad on purpose is neve...</td>\n",
              "    </tr>\n",
              "    <tr>\n",
              "      <th>3</th>\n",
              "      <td>3258</td>\n",
              "      <td>positive</td>\n",
              "      <td>Alternates between deadpan comedy and heartbre...</td>\n",
              "    </tr>\n",
              "    <tr>\n",
              "      <th>4</th>\n",
              "      <td>6978</td>\n",
              "      <td>neutral</td>\n",
              "      <td>God is great , the movie 's not .</td>\n",
              "    </tr>\n",
              "  </tbody>\n",
              "</table>\n",
              "</div>\n",
              "    <div class=\"colab-df-buttons\">\n",
              "\n",
              "  <div class=\"colab-df-container\">\n",
              "    <button class=\"colab-df-convert\" onclick=\"convertToInteractive('df-e6ce29c3-d354-4b9f-8abd-827c126172ec')\"\n",
              "            title=\"Convert this dataframe to an interactive table.\"\n",
              "            style=\"display:none;\">\n",
              "\n",
              "  <svg xmlns=\"http://www.w3.org/2000/svg\" height=\"24px\" viewBox=\"0 -960 960 960\">\n",
              "    <path d=\"M120-120v-720h720v720H120Zm60-500h600v-160H180v160Zm220 220h160v-160H400v160Zm0 220h160v-160H400v160ZM180-400h160v-160H180v160Zm440 0h160v-160H620v160ZM180-180h160v-160H180v160Zm440 0h160v-160H620v160Z\"/>\n",
              "  </svg>\n",
              "    </button>\n",
              "\n",
              "  <style>\n",
              "    .colab-df-container {\n",
              "      display:flex;\n",
              "      gap: 12px;\n",
              "    }\n",
              "\n",
              "    .colab-df-convert {\n",
              "      background-color: #E8F0FE;\n",
              "      border: none;\n",
              "      border-radius: 50%;\n",
              "      cursor: pointer;\n",
              "      display: none;\n",
              "      fill: #1967D2;\n",
              "      height: 32px;\n",
              "      padding: 0 0 0 0;\n",
              "      width: 32px;\n",
              "    }\n",
              "\n",
              "    .colab-df-convert:hover {\n",
              "      background-color: #E2EBFA;\n",
              "      box-shadow: 0px 1px 2px rgba(60, 64, 67, 0.3), 0px 1px 3px 1px rgba(60, 64, 67, 0.15);\n",
              "      fill: #174EA6;\n",
              "    }\n",
              "\n",
              "    .colab-df-buttons div {\n",
              "      margin-bottom: 4px;\n",
              "    }\n",
              "\n",
              "    [theme=dark] .colab-df-convert {\n",
              "      background-color: #3B4455;\n",
              "      fill: #D2E3FC;\n",
              "    }\n",
              "\n",
              "    [theme=dark] .colab-df-convert:hover {\n",
              "      background-color: #434B5C;\n",
              "      box-shadow: 0px 1px 3px 1px rgba(0, 0, 0, 0.15);\n",
              "      filter: drop-shadow(0px 1px 2px rgba(0, 0, 0, 0.3));\n",
              "      fill: #FFFFFF;\n",
              "    }\n",
              "  </style>\n",
              "\n",
              "    <script>\n",
              "      const buttonEl =\n",
              "        document.querySelector('#df-e6ce29c3-d354-4b9f-8abd-827c126172ec button.colab-df-convert');\n",
              "      buttonEl.style.display =\n",
              "        google.colab.kernel.accessAllowed ? 'block' : 'none';\n",
              "\n",
              "      async function convertToInteractive(key) {\n",
              "        const element = document.querySelector('#df-e6ce29c3-d354-4b9f-8abd-827c126172ec');\n",
              "        const dataTable =\n",
              "          await google.colab.kernel.invokeFunction('convertToInteractive',\n",
              "                                                    [key], {});\n",
              "        if (!dataTable) return;\n",
              "\n",
              "        const docLinkHtml = 'Like what you see? Visit the ' +\n",
              "          '<a target=\"_blank\" href=https://colab.research.google.com/notebooks/data_table.ipynb>data table notebook</a>'\n",
              "          + ' to learn more about interactive tables.';\n",
              "        element.innerHTML = '';\n",
              "        dataTable['output_type'] = 'display_data';\n",
              "        await google.colab.output.renderOutput(dataTable, element);\n",
              "        const docLink = document.createElement('div');\n",
              "        docLink.innerHTML = docLinkHtml;\n",
              "        element.appendChild(docLink);\n",
              "      }\n",
              "    </script>\n",
              "  </div>\n",
              "\n",
              "\n",
              "<div id=\"df-25b379f2-62c3-4672-a627-64e815a7e91a\">\n",
              "  <button class=\"colab-df-quickchart\" onclick=\"quickchart('df-25b379f2-62c3-4672-a627-64e815a7e91a')\"\n",
              "            title=\"Suggest charts\"\n",
              "            style=\"display:none;\">\n",
              "\n",
              "<svg xmlns=\"http://www.w3.org/2000/svg\" height=\"24px\"viewBox=\"0 0 24 24\"\n",
              "     width=\"24px\">\n",
              "    <g>\n",
              "        <path d=\"M19 3H5c-1.1 0-2 .9-2 2v14c0 1.1.9 2 2 2h14c1.1 0 2-.9 2-2V5c0-1.1-.9-2-2-2zM9 17H7v-7h2v7zm4 0h-2V7h2v10zm4 0h-2v-4h2v4z\"/>\n",
              "    </g>\n",
              "</svg>\n",
              "  </button>\n",
              "\n",
              "<style>\n",
              "  .colab-df-quickchart {\n",
              "      --bg-color: #E8F0FE;\n",
              "      --fill-color: #1967D2;\n",
              "      --hover-bg-color: #E2EBFA;\n",
              "      --hover-fill-color: #174EA6;\n",
              "      --disabled-fill-color: #AAA;\n",
              "      --disabled-bg-color: #DDD;\n",
              "  }\n",
              "\n",
              "  [theme=dark] .colab-df-quickchart {\n",
              "      --bg-color: #3B4455;\n",
              "      --fill-color: #D2E3FC;\n",
              "      --hover-bg-color: #434B5C;\n",
              "      --hover-fill-color: #FFFFFF;\n",
              "      --disabled-bg-color: #3B4455;\n",
              "      --disabled-fill-color: #666;\n",
              "  }\n",
              "\n",
              "  .colab-df-quickchart {\n",
              "    background-color: var(--bg-color);\n",
              "    border: none;\n",
              "    border-radius: 50%;\n",
              "    cursor: pointer;\n",
              "    display: none;\n",
              "    fill: var(--fill-color);\n",
              "    height: 32px;\n",
              "    padding: 0;\n",
              "    width: 32px;\n",
              "  }\n",
              "\n",
              "  .colab-df-quickchart:hover {\n",
              "    background-color: var(--hover-bg-color);\n",
              "    box-shadow: 0 1px 2px rgba(60, 64, 67, 0.3), 0 1px 3px 1px rgba(60, 64, 67, 0.15);\n",
              "    fill: var(--button-hover-fill-color);\n",
              "  }\n",
              "\n",
              "  .colab-df-quickchart-complete:disabled,\n",
              "  .colab-df-quickchart-complete:disabled:hover {\n",
              "    background-color: var(--disabled-bg-color);\n",
              "    fill: var(--disabled-fill-color);\n",
              "    box-shadow: none;\n",
              "  }\n",
              "\n",
              "  .colab-df-spinner {\n",
              "    border: 2px solid var(--fill-color);\n",
              "    border-color: transparent;\n",
              "    border-bottom-color: var(--fill-color);\n",
              "    animation:\n",
              "      spin 1s steps(1) infinite;\n",
              "  }\n",
              "\n",
              "  @keyframes spin {\n",
              "    0% {\n",
              "      border-color: transparent;\n",
              "      border-bottom-color: var(--fill-color);\n",
              "      border-left-color: var(--fill-color);\n",
              "    }\n",
              "    20% {\n",
              "      border-color: transparent;\n",
              "      border-left-color: var(--fill-color);\n",
              "      border-top-color: var(--fill-color);\n",
              "    }\n",
              "    30% {\n",
              "      border-color: transparent;\n",
              "      border-left-color: var(--fill-color);\n",
              "      border-top-color: var(--fill-color);\n",
              "      border-right-color: var(--fill-color);\n",
              "    }\n",
              "    40% {\n",
              "      border-color: transparent;\n",
              "      border-right-color: var(--fill-color);\n",
              "      border-top-color: var(--fill-color);\n",
              "    }\n",
              "    60% {\n",
              "      border-color: transparent;\n",
              "      border-right-color: var(--fill-color);\n",
              "    }\n",
              "    80% {\n",
              "      border-color: transparent;\n",
              "      border-right-color: var(--fill-color);\n",
              "      border-bottom-color: var(--fill-color);\n",
              "    }\n",
              "    90% {\n",
              "      border-color: transparent;\n",
              "      border-bottom-color: var(--fill-color);\n",
              "    }\n",
              "  }\n",
              "</style>\n",
              "\n",
              "  <script>\n",
              "    async function quickchart(key) {\n",
              "      const quickchartButtonEl =\n",
              "        document.querySelector('#' + key + ' button');\n",
              "      quickchartButtonEl.disabled = true;  // To prevent multiple clicks.\n",
              "      quickchartButtonEl.classList.add('colab-df-spinner');\n",
              "      try {\n",
              "        const charts = await google.colab.kernel.invokeFunction(\n",
              "            'suggestCharts', [key], {});\n",
              "      } catch (error) {\n",
              "        console.error('Error during call to suggestCharts:', error);\n",
              "      }\n",
              "      quickchartButtonEl.classList.remove('colab-df-spinner');\n",
              "      quickchartButtonEl.classList.add('colab-df-quickchart-complete');\n",
              "    }\n",
              "    (() => {\n",
              "      let quickchartButtonEl =\n",
              "        document.querySelector('#df-25b379f2-62c3-4672-a627-64e815a7e91a button');\n",
              "      quickchartButtonEl.style.display =\n",
              "        google.colab.kernel.accessAllowed ? 'block' : 'none';\n",
              "    })();\n",
              "  </script>\n",
              "</div>\n",
              "    </div>\n",
              "  </div>\n"
            ],
            "application/vnd.google.colaboratory.intrinsic+json": {
              "type": "dataframe",
              "variable_name": "test_data",
              "summary": "{\n  \"name\": \"test_data\",\n  \"rows\": 1729,\n  \"fields\": [\n    {\n      \"column\": 0,\n      \"properties\": {\n        \"dtype\": \"number\",\n        \"std\": 2497,\n        \"min\": 1,\n        \"max\": 8544,\n        \"num_unique_values\": 1729,\n        \"samples\": [\n          4732,\n          3896,\n          2857\n        ],\n        \"semantic_type\": \"\",\n        \"description\": \"\"\n      }\n    },\n    {\n      \"column\": 1,\n      \"properties\": {\n        \"dtype\": \"category\",\n        \"num_unique_values\": 3,\n        \"samples\": [\n          \"negative\",\n          \"positive\",\n          \"neutral\"\n        ],\n        \"semantic_type\": \"\",\n        \"description\": \"\"\n      }\n    },\n    {\n      \"column\": 2,\n      \"properties\": {\n        \"dtype\": \"string\",\n        \"num_unique_values\": 1729,\n        \"samples\": [\n          \"It 's a funny little movie with clever dialogue and likeable characters .\",\n          \"More trifle than triumph .\",\n          \"The movie is amateurish , but it 's a minor treat .\"\n        ],\n        \"semantic_type\": \"\",\n        \"description\": \"\"\n      }\n    }\n  ]\n}"
            }
          },
          "metadata": {},
          "execution_count": 211
        }
      ],
      "source": [
        "# 5 entradas do dataset\n",
        "test_data.head()"
      ]
    },
    {
      "cell_type": "code",
      "execution_count": 212,
      "id": "e73bbf52-3636-464c-b009-751bb23b26f4",
      "metadata": {
        "id": "e73bbf52-3636-464c-b009-751bb23b26f4"
      },
      "outputs": [],
      "source": [
        "# Atribuir nomes às colunas\n",
        "test_data.columns = ['Id', 'Sentiment', 'Review']"
      ]
    },
    {
      "cell_type": "code",
      "execution_count": 213,
      "id": "d57fef47-3484-4417-8867-bbe746035df8",
      "metadata": {
        "id": "d57fef47-3484-4417-8867-bbe746035df8"
      },
      "outputs": [],
      "source": [
        "# Atribuir os data types corretos aos dados\n",
        "test_data['Id'] = test_data['Id'].astype(int)\n",
        "test_data['Sentiment'] = test_data['Sentiment'].astype(str)\n",
        "test_data['Review'] = test_data['Review'].astype(str)"
      ]
    },
    {
      "cell_type": "code",
      "execution_count": 214,
      "id": "3de5bda0-d955-4a30-bd2b-2278eb5d44ff",
      "metadata": {
        "colab": {
          "base_uri": "https://localhost:8080/"
        },
        "id": "3de5bda0-d955-4a30-bd2b-2278eb5d44ff",
        "outputId": "19289d9c-6276-470a-c2b2-884c11d2a904"
      },
      "outputs": [
        {
          "output_type": "stream",
          "name": "stdout",
          "text": [
            "<class 'pandas.core.frame.DataFrame'>\n",
            "RangeIndex: 1729 entries, 0 to 1728\n",
            "Data columns (total 3 columns):\n",
            " #   Column     Non-Null Count  Dtype \n",
            "---  ------     --------------  ----- \n",
            " 0   Id         1729 non-null   int64 \n",
            " 1   Sentiment  1729 non-null   object\n",
            " 2   Review     1729 non-null   object\n",
            "dtypes: int64(1), object(2)\n",
            "memory usage: 40.6+ KB\n"
          ]
        }
      ],
      "source": [
        "# Info do dataset\n",
        "test_data.info()"
      ]
    },
    {
      "cell_type": "code",
      "execution_count": 215,
      "id": "7e5d32e0-1828-4fb0-b1ac-4781f4314cde",
      "metadata": {
        "colab": {
          "base_uri": "https://localhost:8080/"
        },
        "id": "7e5d32e0-1828-4fb0-b1ac-4781f4314cde",
        "outputId": "5ac5863d-6498-40d6-9a8d-543149a5db74"
      },
      "outputs": [
        {
          "output_type": "execute_result",
          "data": {
            "text/plain": [
              "Id           0\n",
              "Sentiment    0\n",
              "Review       0\n",
              "dtype: int64"
            ]
          },
          "metadata": {},
          "execution_count": 215
        }
      ],
      "source": [
        "# Ver a quantidade de entradas nulas do dataset\n",
        "test_data.isnull().sum()\n",
        "\n",
        "# Não foram identificados valores nulos em nenhuma das classes"
      ]
    },
    {
      "cell_type": "code",
      "execution_count": 216,
      "id": "ecdfcd71-03bd-40d9-9d76-cf33924af3d9",
      "metadata": {
        "colab": {
          "base_uri": "https://localhost:8080/"
        },
        "id": "ecdfcd71-03bd-40d9-9d76-cf33924af3d9",
        "outputId": "d5c575d9-6c1f-409e-9dde-d4e1546db93b"
      },
      "outputs": [
        {
          "output_type": "stream",
          "name": "stdout",
          "text": [
            "Sentiment\n",
            "positive    714\n",
            "negative    671\n",
            "neutral     344\n",
            "Name: count, dtype: int64\n"
          ]
        }
      ],
      "source": [
        "# Contar o número de entradas de cada tipo de sentiment\n",
        "sentiment_counts = test_data['Sentiment'].value_counts()\n",
        "print(sentiment_counts)\n",
        "\n",
        "# Podemos observar, tal como nos dados de treino, um desequilíbrio nas classes.\n",
        "# As classes \"positive\" e \"negative\" possuem um número significativamente maior de entradas em comparação com a classe \"neutral\"."
      ]
    },
    {
      "cell_type": "code",
      "execution_count": 217,
      "id": "abfc8473-db99-46e3-abb4-5a19e4b2aebc",
      "metadata": {
        "id": "abfc8473-db99-46e3-abb4-5a19e4b2aebc"
      },
      "outputs": [],
      "source": [
        "# Contar o número de caracteres de cada Review\n",
        "test_data['text_length'] = test_data['Review'].apply(len)"
      ]
    },
    {
      "cell_type": "code",
      "execution_count": 218,
      "id": "97d62e68-b2be-4deb-aac8-f71fac3aa5ae",
      "metadata": {
        "colab": {
          "base_uri": "https://localhost:8080/",
          "height": 0
        },
        "id": "97d62e68-b2be-4deb-aac8-f71fac3aa5ae",
        "outputId": "e1730269-64ce-4fa1-c455-3bec04944ea0"
      },
      "outputs": [
        {
          "output_type": "display_data",
          "data": {
            "text/plain": [
              "<Figure size 640x480 with 1 Axes>"
            ],
            "image/png": "[encoded data removed]"
          },
          "metadata": {}
        }
      ],
      "source": [
        "# Plot com a distribuição do número de caractéres de cada Review\n",
        "test_data['text_length'].hist(bins=50, color='darkred')\n",
        "plt.xlabel('Text Length')\n",
        "plt.ylabel('Frequency')\n",
        "plt.title('Test Data Text Length')\n",
        "plt.show()\n",
        "\n",
        "# Face ao histograma referente aos dados de treino, este demonstra uma distribuição significativamente mais uniforme."
      ]
    },
    {
      "cell_type": "code",
      "execution_count": 219,
      "id": "YZ8g5RMpLYct",
      "metadata": {
        "colab": {
          "base_uri": "https://localhost:8080/"
        },
        "id": "YZ8g5RMpLYct",
        "outputId": "0383434e-dd86-4318-a3eb-deef543a613a"
      },
      "outputs": [
        {
          "output_type": "stream",
          "name": "stdout",
          "text": [
            "A média do comprimento das Reviews é: 102.04337767495662\n"
          ]
        }
      ],
      "source": [
        "# Calcular a média do comprimento das reviews\n",
        "average_length = test_data['text_length'].mean()\n",
        "print(f\"A média do comprimento das Reviews é: {average_length}\")\n",
        "\n",
        "# O comprimento médio das Reviews nos dados de teste está bastante próximo aos dados de treino."
      ]
    },
    {
      "cell_type": "markdown",
      "id": "I-Xb6DkV4a2-",
      "metadata": {
        "id": "I-Xb6DkV4a2-"
      },
      "source": [
        "<br>\n",
        "\n",
        "## **Remoção dos Dados classificados como neutros -**"
      ]
    },
    {
      "cell_type": "code",
      "execution_count": 220,
      "id": "1iWhyOo-4oAZ",
      "metadata": {
        "id": "1iWhyOo-4oAZ"
      },
      "outputs": [],
      "source": [
        "# Após uma análise cuidadosa do contexto do problema e dos dados disponíveis, e tendo em conta o proposto neste projeto, optou-se por não preservar os dados neutros.\n",
        "# Esta decisão foi tomada devido ao desequilíbrio significativo dos dados e a outras razões detalhadas no relatório.\n",
        "\n",
        "test_data = test_data[test_data['Sentiment'] != 'neutral']\n",
        "training_data = training_data[training_data['Sentiment'] != 'neutral']"
      ]
    },
    {
      "cell_type": "markdown",
      "id": "NnWo5LtT87tx",
      "metadata": {
        "id": "NnWo5LtT87tx"
      },
      "source": [
        "<br>\n",
        "<br>\n",
        "<br>\n",
        "\n",
        "# **1.2 Definição de uma baseline usando ferramentas já existentes**"
      ]
    },
    {
      "cell_type": "markdown",
      "id": "c257d1ca-4f59-4a2a-8a2a-af5807d24438",
      "metadata": {
        "id": "c257d1ca-4f59-4a2a-8a2a-af5807d24438"
      },
      "source": [
        "## **TextBlob -**"
      ]
    },
    {
      "cell_type": "code",
      "execution_count": null,
      "id": "TIGXd0GxivZ3",
      "metadata": {
        "id": "TIGXd0GxivZ3"
      },
      "outputs": [],
      "source": [
        "import spacy\n",
        "import pandas as pd\n",
        "from textblob import TextBlob\n",
        "from textblob import Word\n",
        "import re\n",
        "from nltk import bigrams\n",
        "from nltk.corpus import stopwords"
      ]
    },
    {
      "cell_type": "code",
      "execution_count": null,
      "id": "276T36g8D9Sy",
      "metadata": {
        "id": "276T36g8D9Sy"
      },
      "outputs": [],
      "source": [
        "def classify_sentiment(text):\n",
        "    # Criar um objeto TextBlob\n",
        "    blob = TextBlob(text)\n",
        "    # Obter a pontuação de polaridade\n",
        "    polarity = blob.sentiment.polarity\n",
        "\n",
        "    # Classificar o rótulo de sentimento com base apenas na pontuação de polaridade\n",
        "    if polarity > 0.1:\n",
        "        return \"positive\"\n",
        "    else:\n",
        "        return \"negative\"\n",
        "\n",
        "    return Sentiment_label"
      ]
    },
    {
      "cell_type": "code",
      "execution_count": null,
      "id": "LtdDlyGGD9Pe",
      "metadata": {
        "id": "LtdDlyGGD9Pe"
      },
      "outputs": [],
      "source": [
        "# Aplicar a função classify_sentiment para a coluna 'Review' ao conjunto de teste\n",
        "test_data['Sentiment_label'] = test_data['Review'].apply(classify_sentiment)"
      ]
    },
    {
      "cell_type": "code",
      "execution_count": null,
      "id": "XqwrvteCD9M7",
      "metadata": {
        "colab": {
          "base_uri": "https://localhost:8080/"
        },
        "id": "XqwrvteCD9M7",
        "outputId": "bbe73ed8-34a1-4f60-cf77-b730c84aead9"
      },
      "outputs": [
        {
          "output_type": "execute_result",
          "data": {
            "text/plain": [
              "     Id Sentiment                                             Review  \\\n",
              "0  3230  negative  With a tighter editorial process and firmer di...   \n",
              "1  4659  positive  If ever a concept came handed down from the mo...   \n",
              "2  7019  negative  Whether Jason X is this bad on purpose is neve...   \n",
              "3  3258  positive  Alternates between deadpan comedy and heartbre...   \n",
              "6  7102  positive  This time , the hype is quieter , and while th...   \n",
              "\n",
              "   text_length Sentiment_label  \n",
              "0          221        positive  \n",
              "1           89        negative  \n",
              "2           55        negative  \n",
              "3          147        negative  \n",
              "6          153        positive  "
            ],
            "text/html": [
              "\n",
              "  <div id=\"df-1df0ae6f-a2e4-4321-8d47-75fff879bafc\" class=\"colab-df-container\">\n",
              "    <div>\n",
              "<style scoped>\n",
              "    .dataframe tbody tr th:only-of-type {\n",
              "        vertical-align: middle;\n",
              "    }\n",
              "\n",
              "    .dataframe tbody tr th {\n",
              "        vertical-align: top;\n",
              "    }\n",
              "\n",
              "    .dataframe thead th {\n",
              "        text-align: right;\n",
              "    }\n",
              "</style>\n",
              "<table border=\"1\" class=\"dataframe\">\n",
              "  <thead>\n",
              "    <tr style=\"text-align: right;\">\n",
              "      <th></th>\n",
              "      <th>Id</th>\n",
              "      <th>Sentiment</th>\n",
              "      <th>Review</th>\n",
              "      <th>text_length</th>\n",
              "      <th>Sentiment_label</th>\n",
              "    </tr>\n",
              "  </thead>\n",
              "  <tbody>\n",
              "    <tr>\n",
              "      <th>0</th>\n",
              "      <td>3230</td>\n",
              "      <td>negative</td>\n",
              "      <td>With a tighter editorial process and firmer di...</td>\n",
              "      <td>221</td>\n",
              "      <td>positive</td>\n",
              "    </tr>\n",
              "    <tr>\n",
              "      <th>1</th>\n",
              "      <td>4659</td>\n",
              "      <td>positive</td>\n",
              "      <td>If ever a concept came handed down from the mo...</td>\n",
              "      <td>89</td>\n",
              "      <td>negative</td>\n",
              "    </tr>\n",
              "    <tr>\n",
              "      <th>2</th>\n",
              "      <td>7019</td>\n",
              "      <td>negative</td>\n",
              "      <td>Whether Jason X is this bad on purpose is neve...</td>\n",
              "      <td>55</td>\n",
              "      <td>negative</td>\n",
              "    </tr>\n",
              "    <tr>\n",
              "      <th>3</th>\n",
              "      <td>3258</td>\n",
              "      <td>positive</td>\n",
              "      <td>Alternates between deadpan comedy and heartbre...</td>\n",
              "      <td>147</td>\n",
              "      <td>negative</td>\n",
              "    </tr>\n",
              "    <tr>\n",
              "      <th>6</th>\n",
              "      <td>7102</td>\n",
              "      <td>positive</td>\n",
              "      <td>This time , the hype is quieter , and while th...</td>\n",
              "      <td>153</td>\n",
              "      <td>positive</td>\n",
              "    </tr>\n",
              "  </tbody>\n",
              "</table>\n",
              "</div>\n",
              "    <div class=\"colab-df-buttons\">\n",
              "\n",
              "  <div class=\"colab-df-container\">\n",
              "    <button class=\"colab-df-convert\" onclick=\"convertToInteractive('df-1df0ae6f-a2e4-4321-8d47-75fff879bafc')\"\n",
              "            title=\"Convert this dataframe to an interactive table.\"\n",
              "            style=\"display:none;\">\n",
              "\n",
              "  <svg xmlns=\"http://www.w3.org/2000/svg\" height=\"24px\" viewBox=\"0 -960 960 960\">\n",
              "    <path d=\"M120-120v-720h720v720H120Zm60-500h600v-160H180v160Zm220 220h160v-160H400v160Zm0 220h160v-160H400v160ZM180-400h160v-160H180v160Zm440 0h160v-160H620v160ZM180-180h160v-160H180v160Zm440 0h160v-160H620v160Z\"/>\n",
              "  </svg>\n",
              "    </button>\n",
              "\n",
              "  <style>\n",
              "    .colab-df-container {\n",
              "      display:flex;\n",
              "      gap: 12px;\n",
              "    }\n",
              "\n",
              "    .colab-df-convert {\n",
              "      background-color: #E8F0FE;\n",
              "      border: none;\n",
              "      border-radius: 50%;\n",
              "      cursor: pointer;\n",
              "      display: none;\n",
              "      fill: #1967D2;\n",
              "      height: 32px;\n",
              "      padding: 0 0 0 0;\n",
              "      width: 32px;\n",
              "    }\n",
              "\n",
              "    .colab-df-convert:hover {\n",
              "      background-color: #E2EBFA;\n",
              "      box-shadow: 0px 1px 2px rgba(60, 64, 67, 0.3), 0px 1px 3px 1px rgba(60, 64, 67, 0.15);\n",
              "      fill: #174EA6;\n",
              "    }\n",
              "\n",
              "    .colab-df-buttons div {\n",
              "      margin-bottom: 4px;\n",
              "    }\n",
              "\n",
              "    [theme=dark] .colab-df-convert {\n",
              "      background-color: #3B4455;\n",
              "      fill: #D2E3FC;\n",
              "    }\n",
              "\n",
              "    [theme=dark] .colab-df-convert:hover {\n",
              "      background-color: #434B5C;\n",
              "      box-shadow: 0px 1px 3px 1px rgba(0, 0, 0, 0.15);\n",
              "      filter: drop-shadow(0px 1px 2px rgba(0, 0, 0, 0.3));\n",
              "      fill: #FFFFFF;\n",
              "    }\n",
              "  </style>\n",
              "\n",
              "    <script>\n",
              "      const buttonEl =\n",
              "        document.querySelector('#df-1df0ae6f-a2e4-4321-8d47-75fff879bafc button.colab-df-convert');\n",
              "      buttonEl.style.display =\n",
              "        google.colab.kernel.accessAllowed ? 'block' : 'none';\n",
              "\n",
              "      async function convertToInteractive(key) {\n",
              "        const element = document.querySelector('#df-1df0ae6f-a2e4-4321-8d47-75fff879bafc');\n",
              "        const dataTable =\n",
              "          await google.colab.kernel.invokeFunction('convertToInteractive',\n",
              "                                                    [key], {});\n",
              "        if (!dataTable) return;\n",
              "\n",
              "        const docLinkHtml = 'Like what you see? Visit the ' +\n",
              "          '<a target=\"_blank\" href=https://colab.research.google.com/notebooks/data_table.ipynb>data table notebook</a>'\n",
              "          + ' to learn more about interactive tables.';\n",
              "        element.innerHTML = '';\n",
              "        dataTable['output_type'] = 'display_data';\n",
              "        await google.colab.output.renderOutput(dataTable, element);\n",
              "        const docLink = document.createElement('div');\n",
              "        docLink.innerHTML = docLinkHtml;\n",
              "        element.appendChild(docLink);\n",
              "      }\n",
              "    </script>\n",
              "  </div>\n",
              "\n",
              "\n",
              "<div id=\"df-16b6edd6-c7a7-481d-8b60-6cd1ca494152\">\n",
              "  <button class=\"colab-df-quickchart\" onclick=\"quickchart('df-16b6edd6-c7a7-481d-8b60-6cd1ca494152')\"\n",
              "            title=\"Suggest charts\"\n",
              "            style=\"display:none;\">\n",
              "\n",
              "<svg xmlns=\"http://www.w3.org/2000/svg\" height=\"24px\"viewBox=\"0 0 24 24\"\n",
              "     width=\"24px\">\n",
              "    <g>\n",
              "        <path d=\"M19 3H5c-1.1 0-2 .9-2 2v14c0 1.1.9 2 2 2h14c1.1 0 2-.9 2-2V5c0-1.1-.9-2-2-2zM9 17H7v-7h2v7zm4 0h-2V7h2v10zm4 0h-2v-4h2v4z\"/>\n",
              "    </g>\n",
              "</svg>\n",
              "  </button>\n",
              "\n",
              "<style>\n",
              "  .colab-df-quickchart {\n",
              "      --bg-color: #E8F0FE;\n",
              "      --fill-color: #1967D2;\n",
              "      --hover-bg-color: #E2EBFA;\n",
              "      --hover-fill-color: #174EA6;\n",
              "      --disabled-fill-color: #AAA;\n",
              "      --disabled-bg-color: #DDD;\n",
              "  }\n",
              "\n",
              "  [theme=dark] .colab-df-quickchart {\n",
              "      --bg-color: #3B4455;\n",
              "      --fill-color: #D2E3FC;\n",
              "      --hover-bg-color: #434B5C;\n",
              "      --hover-fill-color: #FFFFFF;\n",
              "      --disabled-bg-color: #3B4455;\n",
              "      --disabled-fill-color: #666;\n",
              "  }\n",
              "\n",
              "  .colab-df-quickchart {\n",
              "    background-color: var(--bg-color);\n",
              "    border: none;\n",
              "    border-radius: 50%;\n",
              "    cursor: pointer;\n",
              "    display: none;\n",
              "    fill: var(--fill-color);\n",
              "    height: 32px;\n",
              "    padding: 0;\n",
              "    width: 32px;\n",
              "  }\n",
              "\n",
              "  .colab-df-quickchart:hover {\n",
              "    background-color: var(--hover-bg-color);\n",
              "    box-shadow: 0 1px 2px rgba(60, 64, 67, 0.3), 0 1px 3px 1px rgba(60, 64, 67, 0.15);\n",
              "    fill: var(--button-hover-fill-color);\n",
              "  }\n",
              "\n",
              "  .colab-df-quickchart-complete:disabled,\n",
              "  .colab-df-quickchart-complete:disabled:hover {\n",
              "    background-color: var(--disabled-bg-color);\n",
              "    fill: var(--disabled-fill-color);\n",
              "    box-shadow: none;\n",
              "  }\n",
              "\n",
              "  .colab-df-spinner {\n",
              "    border: 2px solid var(--fill-color);\n",
              "    border-color: transparent;\n",
              "    border-bottom-color: var(--fill-color);\n",
              "    animation:\n",
              "      spin 1s steps(1) infinite;\n",
              "  }\n",
              "\n",
              "  @keyframes spin {\n",
              "    0% {\n",
              "      border-color: transparent;\n",
              "      border-bottom-color: var(--fill-color);\n",
              "      border-left-color: var(--fill-color);\n",
              "    }\n",
              "    20% {\n",
              "      border-color: transparent;\n",
              "      border-left-color: var(--fill-color);\n",
              "      border-top-color: var(--fill-color);\n",
              "    }\n",
              "    30% {\n",
              "      border-color: transparent;\n",
              "      border-left-color: var(--fill-color);\n",
              "      border-top-color: var(--fill-color);\n",
              "      border-right-color: var(--fill-color);\n",
              "    }\n",
              "    40% {\n",
              "      border-color: transparent;\n",
              "      border-right-color: var(--fill-color);\n",
              "      border-top-color: var(--fill-color);\n",
              "    }\n",
              "    60% {\n",
              "      border-color: transparent;\n",
              "      border-right-color: var(--fill-color);\n",
              "    }\n",
              "    80% {\n",
              "      border-color: transparent;\n",
              "      border-right-color: var(--fill-color);\n",
              "      border-bottom-color: var(--fill-color);\n",
              "    }\n",
              "    90% {\n",
              "      border-color: transparent;\n",
              "      border-bottom-color: var(--fill-color);\n",
              "    }\n",
              "  }\n",
              "</style>\n",
              "\n",
              "  <script>\n",
              "    async function quickchart(key) {\n",
              "      const quickchartButtonEl =\n",
              "        document.querySelector('#' + key + ' button');\n",
              "      quickchartButtonEl.disabled = true;  // To prevent multiple clicks.\n",
              "      quickchartButtonEl.classList.add('colab-df-spinner');\n",
              "      try {\n",
              "        const charts = await google.colab.kernel.invokeFunction(\n",
              "            'suggestCharts', [key], {});\n",
              "      } catch (error) {\n",
              "        console.error('Error during call to suggestCharts:', error);\n",
              "      }\n",
              "      quickchartButtonEl.classList.remove('colab-df-spinner');\n",
              "      quickchartButtonEl.classList.add('colab-df-quickchart-complete');\n",
              "    }\n",
              "    (() => {\n",
              "      let quickchartButtonEl =\n",
              "        document.querySelector('#df-16b6edd6-c7a7-481d-8b60-6cd1ca494152 button');\n",
              "      quickchartButtonEl.style.display =\n",
              "        google.colab.kernel.accessAllowed ? 'block' : 'none';\n",
              "    })();\n",
              "  </script>\n",
              "</div>\n",
              "    </div>\n",
              "  </div>\n"
            ],
            "application/vnd.google.colaboratory.intrinsic+json": {
              "type": "dataframe",
              "variable_name": "test_data",
              "summary": "{\n  \"name\": \"test_data\",\n  \"rows\": 1385,\n  \"fields\": [\n    {\n      \"column\": \"Id\",\n      \"properties\": {\n        \"dtype\": \"number\",\n        \"std\": 2497,\n        \"min\": 1,\n        \"max\": 8536,\n        \"num_unique_values\": 1385,\n        \"samples\": [\n          8481,\n          4954,\n          3390\n        ],\n        \"semantic_type\": \"\",\n        \"description\": \"\"\n      }\n    },\n    {\n      \"column\": \"Sentiment\",\n      \"properties\": {\n        \"dtype\": \"category\",\n        \"num_unique_values\": 2,\n        \"samples\": [\n          \"positive\",\n          \"negative\"\n        ],\n        \"semantic_type\": \"\",\n        \"description\": \"\"\n      }\n    },\n    {\n      \"column\": \"Review\",\n      \"properties\": {\n        \"dtype\": \"string\",\n        \"num_unique_values\": 1385,\n        \"samples\": [\n          \"Still , it just sits there like a side dish no one ordered .\",\n          \"Too bad writer-director Adam Rifkin situates it all in a plot as musty as one of the Golden Eagle 's carpets .\"\n        ],\n        \"semantic_type\": \"\",\n        \"description\": \"\"\n      }\n    },\n    {\n      \"column\": \"text_length\",\n      \"properties\": {\n        \"dtype\": \"number\",\n        \"std\": 51,\n        \"min\": 1,\n        \"max\": 259,\n        \"num_unique_values\": 228,\n        \"samples\": [\n          15,\n          115\n        ],\n        \"semantic_type\": \"\",\n        \"description\": \"\"\n      }\n    },\n    {\n      \"column\": \"Sentiment_label\",\n      \"properties\": {\n        \"dtype\": \"category\",\n        \"num_unique_values\": 2,\n        \"samples\": [\n          \"negative\",\n          \"positive\"\n        ],\n        \"semantic_type\": \"\",\n        \"description\": \"\"\n      }\n    }\n  ]\n}"
            }
          },
          "metadata": {},
          "execution_count": 50
        }
      ],
      "source": [
        "test_data.head(5)"
      ]
    },
    {
      "cell_type": "code",
      "execution_count": null,
      "id": "KUXEjif5D9J4",
      "metadata": {
        "colab": {
          "base_uri": "https://localhost:8080/"
        },
        "id": "KUXEjif5D9J4",
        "outputId": "ac01a8e3-0d74-4cf5-cda9-6226c636e925"
      },
      "outputs": [
        {
          "output_type": "stream",
          "name": "stdout",
          "text": [
            "              precision    recall  f1-score   support\n",
            "\n",
            "    negative       0.65      0.72      0.68       671\n",
            "    positive       0.71      0.64      0.67       714\n",
            "\n",
            "    accuracy                           0.68      1385\n",
            "   macro avg       0.68      0.68      0.68      1385\n",
            "weighted avg       0.68      0.68      0.68      1385\n",
            "\n"
          ]
        }
      ],
      "source": [
        "from sklearn.metrics import classification_report\n",
        "\n",
        "# Suponha que test_data['true_label'] contém as verdadeiras etiquetas de sentimento\n",
        "true_labels = test_data['Sentiment']\n",
        "predicted_labels = test_data['Sentiment_label']\n",
        "\n",
        "# Gerar o classification report\n",
        "report = classification_report(true_labels, predicted_labels)\n",
        "print(report)\n",
        "\n",
        "# Alcançou uma accuracy de 68%, o que significa que o modelo classifica corretamente cerca de 68% dos dados de teste."
      ]
    },
    {
      "cell_type": "markdown",
      "id": "MRTlZBEy9ZAa",
      "metadata": {
        "id": "MRTlZBEy9ZAa"
      },
      "source": [
        "<br>\n",
        "<br>\n",
        "<br>\n",
        "\n",
        "# **1.3 Preparação de dados e aplicação de um léxico de sentimentos**"
      ]
    },
    {
      "cell_type": "markdown",
      "id": "g6-07OQAojjn",
      "metadata": {
        "id": "g6-07OQAojjn"
      },
      "source": [
        "## **Classificador de sentimentos baseado num léxico (sem tratamento da negação) -**"
      ]
    },
    {
      "cell_type": "code",
      "execution_count": 221,
      "id": "0qIx2Qe81ttI",
      "metadata": {
        "id": "0qIx2Qe81ttI"
      },
      "outputs": [],
      "source": [
        "# Importar e ler o léxico NRC através do github do professor\n",
        "lexname=\"https://raw.githubusercontent.com/fmmb/Text-Mining/main/data/NRC-lexicon.csv\"\n",
        "lex_data = pd.read_csv(lexname, encoding=\"utf-8\", index_col=[\"English\"])"
      ]
    },
    {
      "cell_type": "code",
      "execution_count": 222,
      "id": "PoahGcAI12rq",
      "metadata": {
        "colab": {
          "base_uri": "https://localhost:8080/",
          "height": 238
        },
        "id": "PoahGcAI12rq",
        "outputId": "a8513e27-20b8-46b2-dff5-338ca1a42041"
      },
      "outputs": [
        {
          "output_type": "execute_result",
          "data": {
            "text/plain": [
              "             Positive  Negative\n",
              "English                        \n",
              "aback               0         0\n",
              "abacus              0         0\n",
              "abandon             0         1\n",
              "abandoned           0         1\n",
              "abandonment         0         1"
            ],
            "text/html": [
              "\n",
              "  <div id=\"df-4b863be6-f022-47df-8012-ed4d078afe7b\" class=\"colab-df-container\">\n",
              "    <div>\n",
              "<style scoped>\n",
              "    .dataframe tbody tr th:only-of-type {\n",
              "        vertical-align: middle;\n",
              "    }\n",
              "\n",
              "    .dataframe tbody tr th {\n",
              "        vertical-align: top;\n",
              "    }\n",
              "\n",
              "    .dataframe thead th {\n",
              "        text-align: right;\n",
              "    }\n",
              "</style>\n",
              "<table border=\"1\" class=\"dataframe\">\n",
              "  <thead>\n",
              "    <tr style=\"text-align: right;\">\n",
              "      <th></th>\n",
              "      <th>Positive</th>\n",
              "      <th>Negative</th>\n",
              "    </tr>\n",
              "    <tr>\n",
              "      <th>English</th>\n",
              "      <th></th>\n",
              "      <th></th>\n",
              "    </tr>\n",
              "  </thead>\n",
              "  <tbody>\n",
              "    <tr>\n",
              "      <th>aback</th>\n",
              "      <td>0</td>\n",
              "      <td>0</td>\n",
              "    </tr>\n",
              "    <tr>\n",
              "      <th>abacus</th>\n",
              "      <td>0</td>\n",
              "      <td>0</td>\n",
              "    </tr>\n",
              "    <tr>\n",
              "      <th>abandon</th>\n",
              "      <td>0</td>\n",
              "      <td>1</td>\n",
              "    </tr>\n",
              "    <tr>\n",
              "      <th>abandoned</th>\n",
              "      <td>0</td>\n",
              "      <td>1</td>\n",
              "    </tr>\n",
              "    <tr>\n",
              "      <th>abandonment</th>\n",
              "      <td>0</td>\n",
              "      <td>1</td>\n",
              "    </tr>\n",
              "  </tbody>\n",
              "</table>\n",
              "</div>\n",
              "    <div class=\"colab-df-buttons\">\n",
              "\n",
              "  <div class=\"colab-df-container\">\n",
              "    <button class=\"colab-df-convert\" onclick=\"convertToInteractive('df-4b863be6-f022-47df-8012-ed4d078afe7b')\"\n",
              "            title=\"Convert this dataframe to an interactive table.\"\n",
              "            style=\"display:none;\">\n",
              "\n",
              "  <svg xmlns=\"http://www.w3.org/2000/svg\" height=\"24px\" viewBox=\"0 -960 960 960\">\n",
              "    <path d=\"M120-120v-720h720v720H120Zm60-500h600v-160H180v160Zm220 220h160v-160H400v160Zm0 220h160v-160H400v160ZM180-400h160v-160H180v160Zm440 0h160v-160H620v160ZM180-180h160v-160H180v160Zm440 0h160v-160H620v160Z\"/>\n",
              "  </svg>\n",
              "    </button>\n",
              "\n",
              "  <style>\n",
              "    .colab-df-container {\n",
              "      display:flex;\n",
              "      gap: 12px;\n",
              "    }\n",
              "\n",
              "    .colab-df-convert {\n",
              "      background-color: #E8F0FE;\n",
              "      border: none;\n",
              "      border-radius: 50%;\n",
              "      cursor: pointer;\n",
              "      display: none;\n",
              "      fill: #1967D2;\n",
              "      height: 32px;\n",
              "      padding: 0 0 0 0;\n",
              "      width: 32px;\n",
              "    }\n",
              "\n",
              "    .colab-df-convert:hover {\n",
              "      background-color: #E2EBFA;\n",
              "      box-shadow: 0px 1px 2px rgba(60, 64, 67, 0.3), 0px 1px 3px 1px rgba(60, 64, 67, 0.15);\n",
              "      fill: #174EA6;\n",
              "    }\n",
              "\n",
              "    .colab-df-buttons div {\n",
              "      margin-bottom: 4px;\n",
              "    }\n",
              "\n",
              "    [theme=dark] .colab-df-convert {\n",
              "      background-color: #3B4455;\n",
              "      fill: #D2E3FC;\n",
              "    }\n",
              "\n",
              "    [theme=dark] .colab-df-convert:hover {\n",
              "      background-color: #434B5C;\n",
              "      box-shadow: 0px 1px 3px 1px rgba(0, 0, 0, 0.15);\n",
              "      filter: drop-shadow(0px 1px 2px rgba(0, 0, 0, 0.3));\n",
              "      fill: #FFFFFF;\n",
              "    }\n",
              "  </style>\n",
              "\n",
              "    <script>\n",
              "      const buttonEl =\n",
              "        document.querySelector('#df-4b863be6-f022-47df-8012-ed4d078afe7b button.colab-df-convert');\n",
              "      buttonEl.style.display =\n",
              "        google.colab.kernel.accessAllowed ? 'block' : 'none';\n",
              "\n",
              "      async function convertToInteractive(key) {\n",
              "        const element = document.querySelector('#df-4b863be6-f022-47df-8012-ed4d078afe7b');\n",
              "        const dataTable =\n",
              "          await google.colab.kernel.invokeFunction('convertToInteractive',\n",
              "                                                    [key], {});\n",
              "        if (!dataTable) return;\n",
              "\n",
              "        const docLinkHtml = 'Like what you see? Visit the ' +\n",
              "          '<a target=\"_blank\" href=https://colab.research.google.com/notebooks/data_table.ipynb>data table notebook</a>'\n",
              "          + ' to learn more about interactive tables.';\n",
              "        element.innerHTML = '';\n",
              "        dataTable['output_type'] = 'display_data';\n",
              "        await google.colab.output.renderOutput(dataTable, element);\n",
              "        const docLink = document.createElement('div');\n",
              "        docLink.innerHTML = docLinkHtml;\n",
              "        element.appendChild(docLink);\n",
              "      }\n",
              "    </script>\n",
              "  </div>\n",
              "\n",
              "\n",
              "<div id=\"df-6fef251b-6cbc-4d81-8862-cf59ce9ac1c3\">\n",
              "  <button class=\"colab-df-quickchart\" onclick=\"quickchart('df-6fef251b-6cbc-4d81-8862-cf59ce9ac1c3')\"\n",
              "            title=\"Suggest charts\"\n",
              "            style=\"display:none;\">\n",
              "\n",
              "<svg xmlns=\"http://www.w3.org/2000/svg\" height=\"24px\"viewBox=\"0 0 24 24\"\n",
              "     width=\"24px\">\n",
              "    <g>\n",
              "        <path d=\"M19 3H5c-1.1 0-2 .9-2 2v14c0 1.1.9 2 2 2h14c1.1 0 2-.9 2-2V5c0-1.1-.9-2-2-2zM9 17H7v-7h2v7zm4 0h-2V7h2v10zm4 0h-2v-4h2v4z\"/>\n",
              "    </g>\n",
              "</svg>\n",
              "  </button>\n",
              "\n",
              "<style>\n",
              "  .colab-df-quickchart {\n",
              "      --bg-color: #E8F0FE;\n",
              "      --fill-color: #1967D2;\n",
              "      --hover-bg-color: #E2EBFA;\n",
              "      --hover-fill-color: #174EA6;\n",
              "      --disabled-fill-color: #AAA;\n",
              "      --disabled-bg-color: #DDD;\n",
              "  }\n",
              "\n",
              "  [theme=dark] .colab-df-quickchart {\n",
              "      --bg-color: #3B4455;\n",
              "      --fill-color: #D2E3FC;\n",
              "      --hover-bg-color: #434B5C;\n",
              "      --hover-fill-color: #FFFFFF;\n",
              "      --disabled-bg-color: #3B4455;\n",
              "      --disabled-fill-color: #666;\n",
              "  }\n",
              "\n",
              "  .colab-df-quickchart {\n",
              "    background-color: var(--bg-color);\n",
              "    border: none;\n",
              "    border-radius: 50%;\n",
              "    cursor: pointer;\n",
              "    display: none;\n",
              "    fill: var(--fill-color);\n",
              "    height: 32px;\n",
              "    padding: 0;\n",
              "    width: 32px;\n",
              "  }\n",
              "\n",
              "  .colab-df-quickchart:hover {\n",
              "    background-color: var(--hover-bg-color);\n",
              "    box-shadow: 0 1px 2px rgba(60, 64, 67, 0.3), 0 1px 3px 1px rgba(60, 64, 67, 0.15);\n",
              "    fill: var(--button-hover-fill-color);\n",
              "  }\n",
              "\n",
              "  .colab-df-quickchart-complete:disabled,\n",
              "  .colab-df-quickchart-complete:disabled:hover {\n",
              "    background-color: var(--disabled-bg-color);\n",
              "    fill: var(--disabled-fill-color);\n",
              "    box-shadow: none;\n",
              "  }\n",
              "\n",
              "  .colab-df-spinner {\n",
              "    border: 2px solid var(--fill-color);\n",
              "    border-color: transparent;\n",
              "    border-bottom-color: var(--fill-color);\n",
              "    animation:\n",
              "      spin 1s steps(1) infinite;\n",
              "  }\n",
              "\n",
              "  @keyframes spin {\n",
              "    0% {\n",
              "      border-color: transparent;\n",
              "      border-bottom-color: var(--fill-color);\n",
              "      border-left-color: var(--fill-color);\n",
              "    }\n",
              "    20% {\n",
              "      border-color: transparent;\n",
              "      border-left-color: var(--fill-color);\n",
              "      border-top-color: var(--fill-color);\n",
              "    }\n",
              "    30% {\n",
              "      border-color: transparent;\n",
              "      border-left-color: var(--fill-color);\n",
              "      border-top-color: var(--fill-color);\n",
              "      border-right-color: var(--fill-color);\n",
              "    }\n",
              "    40% {\n",
              "      border-color: transparent;\n",
              "      border-right-color: var(--fill-color);\n",
              "      border-top-color: var(--fill-color);\n",
              "    }\n",
              "    60% {\n",
              "      border-color: transparent;\n",
              "      border-right-color: var(--fill-color);\n",
              "    }\n",
              "    80% {\n",
              "      border-color: transparent;\n",
              "      border-right-color: var(--fill-color);\n",
              "      border-bottom-color: var(--fill-color);\n",
              "    }\n",
              "    90% {\n",
              "      border-color: transparent;\n",
              "      border-bottom-color: var(--fill-color);\n",
              "    }\n",
              "  }\n",
              "</style>\n",
              "\n",
              "  <script>\n",
              "    async function quickchart(key) {\n",
              "      const quickchartButtonEl =\n",
              "        document.querySelector('#' + key + ' button');\n",
              "      quickchartButtonEl.disabled = true;  // To prevent multiple clicks.\n",
              "      quickchartButtonEl.classList.add('colab-df-spinner');\n",
              "      try {\n",
              "        const charts = await google.colab.kernel.invokeFunction(\n",
              "            'suggestCharts', [key], {});\n",
              "      } catch (error) {\n",
              "        console.error('Error during call to suggestCharts:', error);\n",
              "      }\n",
              "      quickchartButtonEl.classList.remove('colab-df-spinner');\n",
              "      quickchartButtonEl.classList.add('colab-df-quickchart-complete');\n",
              "    }\n",
              "    (() => {\n",
              "      let quickchartButtonEl =\n",
              "        document.querySelector('#df-6fef251b-6cbc-4d81-8862-cf59ce9ac1c3 button');\n",
              "      quickchartButtonEl.style.display =\n",
              "        google.colab.kernel.accessAllowed ? 'block' : 'none';\n",
              "    })();\n",
              "  </script>\n",
              "</div>\n",
              "    </div>\n",
              "  </div>\n"
            ],
            "application/vnd.google.colaboratory.intrinsic+json": {
              "type": "dataframe",
              "variable_name": "lex_data",
              "summary": "{\n  \"name\": \"lex_data\",\n  \"rows\": 14182,\n  \"fields\": [\n    {\n      \"column\": \"English\",\n      \"properties\": {\n        \"dtype\": \"string\",\n        \"num_unique_values\": 14181,\n        \"samples\": [\n          \"grassy\",\n          \"heavenly\",\n          \"stow\"\n        ],\n        \"semantic_type\": \"\",\n        \"description\": \"\"\n      }\n    },\n    {\n      \"column\": \"Positive\",\n      \"properties\": {\n        \"dtype\": \"number\",\n        \"std\": 0,\n        \"min\": 0,\n        \"max\": 1,\n        \"num_unique_values\": 2,\n        \"samples\": [\n          1,\n          0\n        ],\n        \"semantic_type\": \"\",\n        \"description\": \"\"\n      }\n    },\n    {\n      \"column\": \"Negative\",\n      \"properties\": {\n        \"dtype\": \"number\",\n        \"std\": 0,\n        \"min\": 0,\n        \"max\": 1,\n        \"num_unique_values\": 2,\n        \"samples\": [\n          1,\n          0\n        ],\n        \"semantic_type\": \"\",\n        \"description\": \"\"\n      }\n    }\n  ]\n}"
            }
          },
          "metadata": {},
          "execution_count": 222
        }
      ],
      "source": [
        "# 5 primeiras entradas do léxico:\n",
        "lex_data.head(5)"
      ]
    },
    {
      "cell_type": "code",
      "execution_count": 223,
      "id": "7OB0hG-g12r5",
      "metadata": {
        "colab": {
          "base_uri": "https://localhost:8080/"
        },
        "id": "7OB0hG-g12r5",
        "outputId": "8611067a-ddc2-45be-f11e-3b2d1671bc3f"
      },
      "outputs": [
        {
          "output_type": "stream",
          "name": "stdout",
          "text": [
            "Lexicon Size: 14182 words\n"
          ]
        }
      ],
      "source": [
        "# Mostrar o tamanho do léxico\n",
        "print(f\"Lexicon Size: {len(lex_data)} words\")"
      ]
    },
    {
      "cell_type": "code",
      "execution_count": 224,
      "id": "HwKqb0vf12r6",
      "metadata": {
        "id": "HwKqb0vf12r6"
      },
      "outputs": [],
      "source": [
        "# Ao subtrair o valor de Positive por Negative obtemos um valor único associado a cada palavra\n",
        "\n",
        "# Palavra Positiva:  Positive = 1; Negative = 0  ->  1-0  =  1\n",
        "# Palavra Negativa:  Positive = 0; Negative = 1  ->  0-1  = -1\n",
        "\n",
        "# Efetuar este cálculo e armazenar as palavras com os seus respetivos valores num dicionário:\n",
        "lex = (lex_data['Positive']-lex_data['Negative']).to_dict()"
      ]
    },
    {
      "cell_type": "code",
      "execution_count": 225,
      "id": "wGpZXy4J12r6",
      "metadata": {
        "id": "wGpZXy4J12r6"
      },
      "outputs": [],
      "source": [
        "# Carregar o modelo do spaCy\n",
        "nlp = spacy.load(\"en_core_web_sm\")\n",
        "\n",
        "# Função para calcular o sentimento de um texto usando o spaCy para lematização\n",
        "def sentiment(text):\n",
        "    doc = nlp(text)\n",
        "    sum = 0\n",
        "    for token in doc:\n",
        "        # Usar o lema da palavra para melhorar a correspondência no léxico\n",
        "        sum += lex.get(token.lemma_, 0)\n",
        "    return \"positive\" if sum >= 0 else \"negative\""
      ]
    },
    {
      "cell_type": "code",
      "execution_count": 226,
      "id": "2cvWYsZg12r7",
      "metadata": {
        "id": "2cvWYsZg12r7"
      },
      "outputs": [],
      "source": [
        "# Aplicar a função de sentimento para cada revisão no DataFrame\n",
        "test_data['Sentiment_label_lexicon'] = test_data['Review'].apply(sentiment)"
      ]
    },
    {
      "cell_type": "code",
      "execution_count": 227,
      "id": "eijXVqVq12r7",
      "metadata": {
        "colab": {
          "base_uri": "https://localhost:8080/",
          "height": 206
        },
        "id": "eijXVqVq12r7",
        "outputId": "2aaf1c91-5ef2-499b-d929-f18bb61c8093"
      },
      "outputs": [
        {
          "output_type": "execute_result",
          "data": {
            "text/plain": [
              "     Id Sentiment                                             Review  \\\n",
              "0  3230  negative  With a tighter editorial process and firmer di...   \n",
              "1  4659  positive  If ever a concept came handed down from the mo...   \n",
              "2  7019  negative  Whether Jason X is this bad on purpose is neve...   \n",
              "3  3258  positive  Alternates between deadpan comedy and heartbre...   \n",
              "6  7102  positive  This time , the hype is quieter , and while th...   \n",
              "\n",
              "   text_length Sentiment_label_lexicon  \n",
              "0          221                positive  \n",
              "1           89                positive  \n",
              "2           55                negative  \n",
              "3          147                negative  \n",
              "6          153                positive  "
            ],
            "text/html": [
              "\n",
              "  <div id=\"df-0963bfb8-db25-4f0d-858d-605e2cc87c46\" class=\"colab-df-container\">\n",
              "    <div>\n",
              "<style scoped>\n",
              "    .dataframe tbody tr th:only-of-type {\n",
              "        vertical-align: middle;\n",
              "    }\n",
              "\n",
              "    .dataframe tbody tr th {\n",
              "        vertical-align: top;\n",
              "    }\n",
              "\n",
              "    .dataframe thead th {\n",
              "        text-align: right;\n",
              "    }\n",
              "</style>\n",
              "<table border=\"1\" class=\"dataframe\">\n",
              "  <thead>\n",
              "    <tr style=\"text-align: right;\">\n",
              "      <th></th>\n",
              "      <th>Id</th>\n",
              "      <th>Sentiment</th>\n",
              "      <th>Review</th>\n",
              "      <th>text_length</th>\n",
              "      <th>Sentiment_label_lexicon</th>\n",
              "    </tr>\n",
              "  </thead>\n",
              "  <tbody>\n",
              "    <tr>\n",
              "      <th>0</th>\n",
              "      <td>3230</td>\n",
              "      <td>negative</td>\n",
              "      <td>With a tighter editorial process and firmer di...</td>\n",
              "      <td>221</td>\n",
              "      <td>positive</td>\n",
              "    </tr>\n",
              "    <tr>\n",
              "      <th>1</th>\n",
              "      <td>4659</td>\n",
              "      <td>positive</td>\n",
              "      <td>If ever a concept came handed down from the mo...</td>\n",
              "      <td>89</td>\n",
              "      <td>positive</td>\n",
              "    </tr>\n",
              "    <tr>\n",
              "      <th>2</th>\n",
              "      <td>7019</td>\n",
              "      <td>negative</td>\n",
              "      <td>Whether Jason X is this bad on purpose is neve...</td>\n",
              "      <td>55</td>\n",
              "      <td>negative</td>\n",
              "    </tr>\n",
              "    <tr>\n",
              "      <th>3</th>\n",
              "      <td>3258</td>\n",
              "      <td>positive</td>\n",
              "      <td>Alternates between deadpan comedy and heartbre...</td>\n",
              "      <td>147</td>\n",
              "      <td>negative</td>\n",
              "    </tr>\n",
              "    <tr>\n",
              "      <th>6</th>\n",
              "      <td>7102</td>\n",
              "      <td>positive</td>\n",
              "      <td>This time , the hype is quieter , and while th...</td>\n",
              "      <td>153</td>\n",
              "      <td>positive</td>\n",
              "    </tr>\n",
              "  </tbody>\n",
              "</table>\n",
              "</div>\n",
              "    <div class=\"colab-df-buttons\">\n",
              "\n",
              "  <div class=\"colab-df-container\">\n",
              "    <button class=\"colab-df-convert\" onclick=\"convertToInteractive('df-0963bfb8-db25-4f0d-858d-605e2cc87c46')\"\n",
              "            title=\"Convert this dataframe to an interactive table.\"\n",
              "            style=\"display:none;\">\n",
              "\n",
              "  <svg xmlns=\"http://www.w3.org/2000/svg\" height=\"24px\" viewBox=\"0 -960 960 960\">\n",
              "    <path d=\"M120-120v-720h720v720H120Zm60-500h600v-160H180v160Zm220 220h160v-160H400v160Zm0 220h160v-160H400v160ZM180-400h160v-160H180v160Zm440 0h160v-160H620v160ZM180-180h160v-160H180v160Zm440 0h160v-160H620v160Z\"/>\n",
              "  </svg>\n",
              "    </button>\n",
              "\n",
              "  <style>\n",
              "    .colab-df-container {\n",
              "      display:flex;\n",
              "      gap: 12px;\n",
              "    }\n",
              "\n",
              "    .colab-df-convert {\n",
              "      background-color: #E8F0FE;\n",
              "      border: none;\n",
              "      border-radius: 50%;\n",
              "      cursor: pointer;\n",
              "      display: none;\n",
              "      fill: #1967D2;\n",
              "      height: 32px;\n",
              "      padding: 0 0 0 0;\n",
              "      width: 32px;\n",
              "    }\n",
              "\n",
              "    .colab-df-convert:hover {\n",
              "      background-color: #E2EBFA;\n",
              "      box-shadow: 0px 1px 2px rgba(60, 64, 67, 0.3), 0px 1px 3px 1px rgba(60, 64, 67, 0.15);\n",
              "      fill: #174EA6;\n",
              "    }\n",
              "\n",
              "    .colab-df-buttons div {\n",
              "      margin-bottom: 4px;\n",
              "    }\n",
              "\n",
              "    [theme=dark] .colab-df-convert {\n",
              "      background-color: #3B4455;\n",
              "      fill: #D2E3FC;\n",
              "    }\n",
              "\n",
              "    [theme=dark] .colab-df-convert:hover {\n",
              "      background-color: #434B5C;\n",
              "      box-shadow: 0px 1px 3px 1px rgba(0, 0, 0, 0.15);\n",
              "      filter: drop-shadow(0px 1px 2px rgba(0, 0, 0, 0.3));\n",
              "      fill: #FFFFFF;\n",
              "    }\n",
              "  </style>\n",
              "\n",
              "    <script>\n",
              "      const buttonEl =\n",
              "        document.querySelector('#df-0963bfb8-db25-4f0d-858d-605e2cc87c46 button.colab-df-convert');\n",
              "      buttonEl.style.display =\n",
              "        google.colab.kernel.accessAllowed ? 'block' : 'none';\n",
              "\n",
              "      async function convertToInteractive(key) {\n",
              "        const element = document.querySelector('#df-0963bfb8-db25-4f0d-858d-605e2cc87c46');\n",
              "        const dataTable =\n",
              "          await google.colab.kernel.invokeFunction('convertToInteractive',\n",
              "                                                    [key], {});\n",
              "        if (!dataTable) return;\n",
              "\n",
              "        const docLinkHtml = 'Like what you see? Visit the ' +\n",
              "          '<a target=\"_blank\" href=https://colab.research.google.com/notebooks/data_table.ipynb>data table notebook</a>'\n",
              "          + ' to learn more about interactive tables.';\n",
              "        element.innerHTML = '';\n",
              "        dataTable['output_type'] = 'display_data';\n",
              "        await google.colab.output.renderOutput(dataTable, element);\n",
              "        const docLink = document.createElement('div');\n",
              "        docLink.innerHTML = docLinkHtml;\n",
              "        element.appendChild(docLink);\n",
              "      }\n",
              "    </script>\n",
              "  </div>\n",
              "\n",
              "\n",
              "<div id=\"df-a2d872dc-af80-47d5-a656-93a64d5ed954\">\n",
              "  <button class=\"colab-df-quickchart\" onclick=\"quickchart('df-a2d872dc-af80-47d5-a656-93a64d5ed954')\"\n",
              "            title=\"Suggest charts\"\n",
              "            style=\"display:none;\">\n",
              "\n",
              "<svg xmlns=\"http://www.w3.org/2000/svg\" height=\"24px\"viewBox=\"0 0 24 24\"\n",
              "     width=\"24px\">\n",
              "    <g>\n",
              "        <path d=\"M19 3H5c-1.1 0-2 .9-2 2v14c0 1.1.9 2 2 2h14c1.1 0 2-.9 2-2V5c0-1.1-.9-2-2-2zM9 17H7v-7h2v7zm4 0h-2V7h2v10zm4 0h-2v-4h2v4z\"/>\n",
              "    </g>\n",
              "</svg>\n",
              "  </button>\n",
              "\n",
              "<style>\n",
              "  .colab-df-quickchart {\n",
              "      --bg-color: #E8F0FE;\n",
              "      --fill-color: #1967D2;\n",
              "      --hover-bg-color: #E2EBFA;\n",
              "      --hover-fill-color: #174EA6;\n",
              "      --disabled-fill-color: #AAA;\n",
              "      --disabled-bg-color: #DDD;\n",
              "  }\n",
              "\n",
              "  [theme=dark] .colab-df-quickchart {\n",
              "      --bg-color: #3B4455;\n",
              "      --fill-color: #D2E3FC;\n",
              "      --hover-bg-color: #434B5C;\n",
              "      --hover-fill-color: #FFFFFF;\n",
              "      --disabled-bg-color: #3B4455;\n",
              "      --disabled-fill-color: #666;\n",
              "  }\n",
              "\n",
              "  .colab-df-quickchart {\n",
              "    background-color: var(--bg-color);\n",
              "    border: none;\n",
              "    border-radius: 50%;\n",
              "    cursor: pointer;\n",
              "    display: none;\n",
              "    fill: var(--fill-color);\n",
              "    height: 32px;\n",
              "    padding: 0;\n",
              "    width: 32px;\n",
              "  }\n",
              "\n",
              "  .colab-df-quickchart:hover {\n",
              "    background-color: var(--hover-bg-color);\n",
              "    box-shadow: 0 1px 2px rgba(60, 64, 67, 0.3), 0 1px 3px 1px rgba(60, 64, 67, 0.15);\n",
              "    fill: var(--button-hover-fill-color);\n",
              "  }\n",
              "\n",
              "  .colab-df-quickchart-complete:disabled,\n",
              "  .colab-df-quickchart-complete:disabled:hover {\n",
              "    background-color: var(--disabled-bg-color);\n",
              "    fill: var(--disabled-fill-color);\n",
              "    box-shadow: none;\n",
              "  }\n",
              "\n",
              "  .colab-df-spinner {\n",
              "    border: 2px solid var(--fill-color);\n",
              "    border-color: transparent;\n",
              "    border-bottom-color: var(--fill-color);\n",
              "    animation:\n",
              "      spin 1s steps(1) infinite;\n",
              "  }\n",
              "\n",
              "  @keyframes spin {\n",
              "    0% {\n",
              "      border-color: transparent;\n",
              "      border-bottom-color: var(--fill-color);\n",
              "      border-left-color: var(--fill-color);\n",
              "    }\n",
              "    20% {\n",
              "      border-color: transparent;\n",
              "      border-left-color: var(--fill-color);\n",
              "      border-top-color: var(--fill-color);\n",
              "    }\n",
              "    30% {\n",
              "      border-color: transparent;\n",
              "      border-left-color: var(--fill-color);\n",
              "      border-top-color: var(--fill-color);\n",
              "      border-right-color: var(--fill-color);\n",
              "    }\n",
              "    40% {\n",
              "      border-color: transparent;\n",
              "      border-right-color: var(--fill-color);\n",
              "      border-top-color: var(--fill-color);\n",
              "    }\n",
              "    60% {\n",
              "      border-color: transparent;\n",
              "      border-right-color: var(--fill-color);\n",
              "    }\n",
              "    80% {\n",
              "      border-color: transparent;\n",
              "      border-right-color: var(--fill-color);\n",
              "      border-bottom-color: var(--fill-color);\n",
              "    }\n",
              "    90% {\n",
              "      border-color: transparent;\n",
              "      border-bottom-color: var(--fill-color);\n",
              "    }\n",
              "  }\n",
              "</style>\n",
              "\n",
              "  <script>\n",
              "    async function quickchart(key) {\n",
              "      const quickchartButtonEl =\n",
              "        document.querySelector('#' + key + ' button');\n",
              "      quickchartButtonEl.disabled = true;  // To prevent multiple clicks.\n",
              "      quickchartButtonEl.classList.add('colab-df-spinner');\n",
              "      try {\n",
              "        const charts = await google.colab.kernel.invokeFunction(\n",
              "            'suggestCharts', [key], {});\n",
              "      } catch (error) {\n",
              "        console.error('Error during call to suggestCharts:', error);\n",
              "      }\n",
              "      quickchartButtonEl.classList.remove('colab-df-spinner');\n",
              "      quickchartButtonEl.classList.add('colab-df-quickchart-complete');\n",
              "    }\n",
              "    (() => {\n",
              "      let quickchartButtonEl =\n",
              "        document.querySelector('#df-a2d872dc-af80-47d5-a656-93a64d5ed954 button');\n",
              "      quickchartButtonEl.style.display =\n",
              "        google.colab.kernel.accessAllowed ? 'block' : 'none';\n",
              "    })();\n",
              "  </script>\n",
              "</div>\n",
              "    </div>\n",
              "  </div>\n"
            ],
            "application/vnd.google.colaboratory.intrinsic+json": {
              "type": "dataframe",
              "variable_name": "test_data",
              "summary": "{\n  \"name\": \"test_data\",\n  \"rows\": 1385,\n  \"fields\": [\n    {\n      \"column\": \"Id\",\n      \"properties\": {\n        \"dtype\": \"number\",\n        \"std\": 2497,\n        \"min\": 1,\n        \"max\": 8536,\n        \"num_unique_values\": 1385,\n        \"samples\": [\n          8481,\n          4954,\n          3390\n        ],\n        \"semantic_type\": \"\",\n        \"description\": \"\"\n      }\n    },\n    {\n      \"column\": \"Sentiment\",\n      \"properties\": {\n        \"dtype\": \"category\",\n        \"num_unique_values\": 2,\n        \"samples\": [\n          \"positive\",\n          \"negative\"\n        ],\n        \"semantic_type\": \"\",\n        \"description\": \"\"\n      }\n    },\n    {\n      \"column\": \"Review\",\n      \"properties\": {\n        \"dtype\": \"string\",\n        \"num_unique_values\": 1385,\n        \"samples\": [\n          \"Still , it just sits there like a side dish no one ordered .\",\n          \"Too bad writer-director Adam Rifkin situates it all in a plot as musty as one of the Golden Eagle 's carpets .\"\n        ],\n        \"semantic_type\": \"\",\n        \"description\": \"\"\n      }\n    },\n    {\n      \"column\": \"text_length\",\n      \"properties\": {\n        \"dtype\": \"number\",\n        \"std\": 51,\n        \"min\": 1,\n        \"max\": 259,\n        \"num_unique_values\": 228,\n        \"samples\": [\n          15,\n          115\n        ],\n        \"semantic_type\": \"\",\n        \"description\": \"\"\n      }\n    },\n    {\n      \"column\": \"Sentiment_label_lexicon\",\n      \"properties\": {\n        \"dtype\": \"category\",\n        \"num_unique_values\": 2,\n        \"samples\": [\n          \"negative\",\n          \"positive\"\n        ],\n        \"semantic_type\": \"\",\n        \"description\": \"\"\n      }\n    }\n  ]\n}"
            }
          },
          "metadata": {},
          "execution_count": 227
        }
      ],
      "source": [
        "test_data.head(5)"
      ]
    },
    {
      "cell_type": "code",
      "execution_count": 228,
      "id": "ZFLcw1RO12r7",
      "metadata": {
        "colab": {
          "base_uri": "https://localhost:8080/"
        },
        "id": "ZFLcw1RO12r7",
        "outputId": "9fdd3dbc-7ddc-4340-b8b3-0f0a50f8d49a"
      },
      "outputs": [
        {
          "output_type": "stream",
          "name": "stdout",
          "text": [
            "              precision    recall  f1-score   support\n",
            "\n",
            "    negative       0.70      0.34      0.45       671\n",
            "    positive       0.58      0.86      0.69       714\n",
            "\n",
            "    accuracy                           0.61      1385\n",
            "   macro avg       0.64      0.60      0.57      1385\n",
            "weighted avg       0.64      0.61      0.58      1385\n",
            "\n"
          ]
        }
      ],
      "source": [
        "from sklearn.metrics import classification_report\n",
        "\n",
        "true_labels = test_data['Sentiment'] # valores verdadeiros de sentimento\n",
        "predicted_labels = test_data['Sentiment_label_lexicon'] # valores previstos de sentimento\n",
        "\n",
        "# Gerar o report de classificação\n",
        "report = classification_report(true_labels, predicted_labels)\n",
        "print(report)\n",
        "\n",
        "# Os resultados mostram que o modelo alcançou uma precisão menor do que a atingida com o TextBlob"
      ]
    },
    {
      "cell_type": "markdown",
      "id": "GDvd8I2opq7I",
      "metadata": {
        "id": "GDvd8I2opq7I"
      },
      "source": [
        "## **Pré-processamento -**"
      ]
    },
    {
      "cell_type": "code",
      "execution_count": null,
      "id": "CqLQuKBDpvRt",
      "metadata": {
        "id": "CqLQuKBDpvRt"
      },
      "outputs": [],
      "source": [
        "def preprocess_text(text):\n",
        "    # Converter para minúsculas\n",
        "    text = text.lower()\n",
        "    # Remover números (opcional)\n",
        "    text = re.sub(r'\\d+', '', text)\n",
        "    # Expandir contrações\n",
        "    text = \" \".join([Word(word).spellcheck()[0][0] if Word(word).spellcheck()[0][1] < 0.95 else word for word in text.split()])\n",
        "    # Tokenizar com o SpaCy\n",
        "    doc = nlp(text)\n",
        "    # Filtrar tokens (remover stopwords, pontuações e aplicar lematização)\n",
        "    filtered_tokens = [token.lemma_ for token in doc if not token.is_stop and token.text.isalpha()]\n",
        "    # Juntar os tokens de volta numa string\n",
        "    preprocessed_text = \" \".join(filtered_tokens)\n",
        "    return preprocessed_text"
      ]
    },
    {
      "cell_type": "code",
      "execution_count": null,
      "id": "08jw8bbd8xxe",
      "metadata": {
        "id": "08jw8bbd8xxe"
      },
      "outputs": [],
      "source": [
        "# Aplicar a função de sentimento para cada revisão no DataFrame\n",
        "test_data['Preprocessed_Review'] = test_data['Review'].apply(preprocess_text)\n",
        "training_data['Preprocessed_Review'] = training_data['Review'].apply(preprocess_text)"
      ]
    },
    {
      "cell_type": "code",
      "execution_count": null,
      "id": "CArocoRD0-T-",
      "metadata": {
        "id": "CArocoRD0-T-"
      },
      "outputs": [],
      "source": [
        "# Definindo as opções de exibição para mostrar o texto completo no output.\n",
        "pd.set_option('display.max_colwidth', None)\n",
        "test_data"
      ]
    },
    {
      "cell_type": "markdown",
      "id": "MKg-iE7_vsEz",
      "metadata": {
        "id": "MKg-iE7_vsEz"
      },
      "source": [
        "## **Classificador de sentimentos baseado num léxico (com tratamento da negação) -**"
      ]
    },
    {
      "cell_type": "code",
      "execution_count": null,
      "id": "sycLfYbevwGM",
      "metadata": {
        "id": "sycLfYbevwGM"
      },
      "outputs": [],
      "source": [
        "# Função que determina se uma palavra é uma negação\n",
        "def is_negation(token):\n",
        "    negations = {\"not\", \"n't\", \"no\", \"never\", \"none\"}\n",
        "    return token.lemma_ in negations"
      ]
    },
    {
      "cell_type": "code",
      "execution_count": null,
      "id": "MC5pw6d5A_uo",
      "metadata": {
        "id": "MC5pw6d5A_uo"
      },
      "outputs": [],
      "source": [
        "# Modificar a função de sentimento para considerar a negação\n",
        "def sentiment(text):\n",
        "    doc = nlp(text)\n",
        "    sum = 0\n",
        "    apply_negation = False\n",
        "    for token in doc:\n",
        "        if is_negation(token):\n",
        "            apply_negation = True  # Ativar a negação\n",
        "        elif token.pos_ == \"PUNCT\":\n",
        "            apply_negation = False  # Desativar a negação ao encontrar uma pontuação\n",
        "\n",
        "        # Obter valor do léxico\n",
        "        sentiment_value = lex.get(token.lemma_, 0)\n",
        "\n",
        "        # Inverter o sentimento se a negação estiver ativa\n",
        "        if apply_negation:\n",
        "            sentiment_value *= -1\n",
        "\n",
        "        sum += sentiment_value\n",
        "    return \"positive\" if sum >= 0 else \"negative\""
      ]
    },
    {
      "cell_type": "code",
      "execution_count": null,
      "id": "o7zpHEYmBAZx",
      "metadata": {
        "id": "o7zpHEYmBAZx"
      },
      "outputs": [],
      "source": [
        "# Gerar uma nova coluna com os sentimentos baseados num léxico com tratamento da negação\n",
        "test_data['Sentiment_label_lexicon_2'] = test_data['Preprocessed_Review'].apply(sentiment)"
      ]
    },
    {
      "cell_type": "code",
      "execution_count": null,
      "id": "NXW78Q4YBGYI",
      "metadata": {
        "id": "NXW78Q4YBGYI"
      },
      "outputs": [],
      "source": [
        "from sklearn.metrics import classification_report\n",
        "\n",
        "true_labels = test_data['Sentiment'] # valores verdadeiros de sentimento\n",
        "predicted_labels = test_data['Sentiment_label_lexicon_2'] # valores previstos de sentimento\n",
        "\n",
        "# Gerar o report de classificação\n",
        "report = classification_report(true_labels, predicted_labels)\n",
        "print(report)"
      ]
    },
    {
      "cell_type": "markdown",
      "id": "gDPezWGm_Xam",
      "metadata": {
        "id": "gDPezWGm_Xam"
      },
      "source": [
        "<br>\n",
        "<br>\n",
        "<br>\n",
        "\n",
        "# **4 - Treino de um modelo (aprendizagem automática)**"
      ]
    },
    {
      "cell_type": "markdown",
      "id": "FQRBUREUna_O",
      "metadata": {
        "id": "FQRBUREUna_O"
      },
      "source": [
        "## **Técnicas de Balanceamento -**"
      ]
    },
    {
      "cell_type": "code",
      "execution_count": null,
      "id": "D9YNHX5FoQwX",
      "metadata": {
        "id": "D9YNHX5FoQwX"
      },
      "outputs": [],
      "source": [
        "def oversampling(x, y):\n",
        "\n",
        "    smote = SMOTE() # Cria uma instância de SMOTE\n",
        "\n",
        "    # Aplica SMOTE para realizar o oversampling\n",
        "    x_resampled, y_resampled  = smote.fit_resample(x, y)\n",
        "\n",
        "    return x_resampled, y_resampled"
      ]
    },
    {
      "cell_type": "code",
      "execution_count": null,
      "id": "wppYz0p3oVBb",
      "metadata": {
        "id": "wppYz0p3oVBb"
      },
      "outputs": [],
      "source": [
        "def undersampling(x, y):\n",
        "\n",
        "    rus = RandomUnderSampler(random_state=42) # Cria uma instância de RandomUnderSampler\n",
        "\n",
        "    # Aplica RandomUnderSampler para realizar o undersampling\n",
        "    x_resampled, y_resampled = rus.fit_resample(x, y)\n",
        "\n",
        "    return x_resampled, y_resampled"
      ]
    },
    {
      "cell_type": "markdown",
      "id": "fSBWo1rioZRZ",
      "metadata": {
        "id": "fSBWo1rioZRZ"
      },
      "source": [
        "## **Técnicas de Vectorização -**"
      ]
    },
    {
      "cell_type": "code",
      "execution_count": null,
      "id": "cAI8smYtogye",
      "metadata": {
        "id": "cAI8smYtogye"
      },
      "outputs": [],
      "source": [
        "# Word2vec\n",
        "\n",
        "def tokenize(Review):\n",
        "    tokens = word_tokenize(Review)\n",
        "    return tokens\n",
        "\n",
        "def get_word_vectors(tokens, model):\n",
        "    vectors = []\n",
        "    for token in tokens:\n",
        "        if token in model:\n",
        "            vectors.append(model[token])\n",
        "    return vectors\n",
        "\n",
        "def get_review_vector(vectors, model):\n",
        "    if len(vectors) == 0:\n",
        "        return np.zeros(model.vector_size)\n",
        "    return np.mean(vectors, axis=0)\n",
        "\n",
        "def w2v(x_train, x_test):\n",
        "\n",
        "    model = api.load('word2vec-google-news-300')\n",
        "\n",
        "    tokenized_reviews = [tokenize(Review.lower()) for Review in x_train]\n",
        "\n",
        "    vectors     = [get_word_vectors(tokens, model) for tokens in tokenized_reviews]\n",
        "\n",
        "    x_train_vec = [get_review_vector(vectors[i], model) for i in range(len(x_train))]\n",
        "    x_test_vec  = [get_review_vector(vectors[i], model) for i in range(len(x_test))]\n",
        "\n",
        "    return x_train_vec, x_test_vec"
      ]
    },
    {
      "cell_type": "code",
      "execution_count": null,
      "id": "FZw7rHKSpnqZ",
      "metadata": {
        "id": "FZw7rHKSpnqZ"
      },
      "outputs": [],
      "source": [
        "# Definição da função TF-IDF\n",
        "\n",
        "def tf_idf(x_train, x_test):\n",
        "    tfidf_model  = TfidfVectorizer(max_df=0.85)\n",
        "    x_train_tfidf = tfidf_model.fit_transform(x_train)\n",
        "    x_test_tfidf  = tfidf_model.transform(x_test)\n",
        "    return x_train_tfidf, x_test_tfidf"
      ]
    },
    {
      "cell_type": "code",
      "execution_count": null,
      "id": "YMVvHVKVp-g7",
      "metadata": {
        "id": "YMVvHVKVp-g7"
      },
      "outputs": [],
      "source": [
        "# Definição da função vectorize\n",
        "\n",
        "def vectorize(x_train, x_test):\n",
        "\n",
        "    vectorizer = CountVectorizer(ngram_range=(1, 2), max_df=0.85)\n",
        "    x_train_vec = vectorizer.fit_transform(x_train)\n",
        "    x_test_vec  = vectorizer.transform(x_test)\n",
        "\n",
        "    return x_train_vec, x_test_vec"
      ]
    },
    {
      "cell_type": "markdown",
      "id": "BkYKGPPwdtSM",
      "metadata": {
        "id": "BkYKGPPwdtSM"
      },
      "source": [
        "## **Treino dos Modelos**"
      ]
    },
    {
      "cell_type": "code",
      "execution_count": null,
      "id": "QRTUuT8vHNWE",
      "metadata": {
        "id": "QRTUuT8vHNWE"
      },
      "outputs": [],
      "source": [
        "from sklearn.ensemble import RandomForestClassifier, GradientBoostingClassifier\n",
        "from sklearn.model_selection import GridSearchCV"
      ]
    },
    {
      "cell_type": "code",
      "execution_count": null,
      "id": "J3vG_KVQHOXo",
      "metadata": {
        "id": "J3vG_KVQHOXo"
      },
      "outputs": [],
      "source": [
        "# Treino do modelo\n",
        "\n",
        "def train_model(col_name, bd_train, bd_test, model, vec,  bal=False, results=False, conf_matrix=False):\n",
        "\n",
        "    # Obter os vetores para os textos de treino e teste\n",
        "    x_train = bd_train[col_name]\n",
        "    x_test  = bd_test[col_name]\n",
        "\n",
        "    # Escolher o tipo de vetorização\n",
        "    if vec == \"w2v\":\n",
        "        x_train, x_test = w2v(x_train, x_test)\n",
        "    elif vec == \"vectorize\":\n",
        "        x_train, x_test = vectorize(x_train, x_test)\n",
        "    elif vec == \"tf-idf\":\n",
        "        x_train, x_test = tf_idf(x_train, x_test)\n",
        "    else:\n",
        "        raise Exception(\"Vetorização inválida\")\n",
        "\n",
        "    # Obter as classes\n",
        "    y_train = bd_train['Sentiment']\n",
        "    y_test  = bd_test['Sentiment']\n",
        "\n",
        "    # Balancear os dados\n",
        "    if bal == \"oversampling\" :\n",
        "      x_train, y_train = oversampling(x_train, y_train)\n",
        "    if bal == \"undersampling\":\n",
        "      x_train, y_train = undersampling(x_train,y_train)\n",
        "\n",
        "    # Escolha do modelo\n",
        "    if model == \"MultinomialNB\":\n",
        "        model = MultinomialNB()\n",
        "    elif model == \"SVM\":\n",
        "        # Definir os hiperparâmetros para o GridSearchCV\n",
        "        svc_params = {'C': [1, 10, 100], 'gamma': [0.001, 0.0001]}\n",
        "        model = GridSearchCV(SVC(), svc_params)\n",
        "    elif model == \"LogisticRegression\":\n",
        "        model = LogisticRegression(max_iter=200)\n",
        "    elif model == \"RandomForest\":\n",
        "        model = RandomForestClassifier()\n",
        "    elif model == \"GradientBoosting\":\n",
        "        model = GradientBoostingClassifier()\n",
        "    else:\n",
        "        raise Exception(\"Modelo inválido\")\n",
        "\n",
        "    # Treinar o modelo\n",
        "    model.fit(x_train, y_train)\n",
        "\n",
        "    # Se GridSearchCV foi utilizado, imprimir os melhores parâmetros\n",
        "    if isinstance(model, GridSearchCV):\n",
        "        print(\"Melhores parâmetros encontrados:\", model.best_params_)\n",
        "\n",
        "    # Fazer previsões\n",
        "    y_pred = model.predict(x_test)\n",
        "\n",
        "    # Imprimir os resultados\n",
        "    if results:\n",
        "      print(classification_report(y_test, y_pred))\n",
        "\n",
        "    # Imprimir a matrix de confusão\n",
        "    if conf_matrix:\n",
        "      print_confusion_matrix(y_test, y_pred)\n",
        "\n",
        "    # Retornar as previsões das classificações\n",
        "    return y_pred"
      ]
    },
    {
      "cell_type": "code",
      "execution_count": null,
      "id": "CCdDeLdsd1Zh",
      "metadata": {
        "id": "CCdDeLdsd1Zh"
      },
      "outputs": [],
      "source": [
        "# Métodos de vetorização dos dados\n",
        "vectors_type = [\"w2v\", \"vectorize\",\"tf-idf\"]\n",
        "\n",
        "# Métodos de balanceamento dos dados\n",
        "bal_type     = [\"undersampling\", \"oversampling\"]\n",
        "\n",
        "# Modelos\n",
        "model_type   = [\"MultinomialNB\", \"SVM\" , \"LogisticRegression\", \"RandomForest\", \"GradientBoosting\"]"
      ]
    },
    {
      "cell_type": "code",
      "execution_count": null,
      "id": "Xd-UdAXzQ-YZ",
      "metadata": {
        "colab": {
          "base_uri": "https://localhost:8080/"
        },
        "id": "Xd-UdAXzQ-YZ",
        "outputId": "1a845ccc-be6d-4820-9574-7c6e00706d68"
      },
      "outputs": [
        {
          "output_type": "stream",
          "name": "stdout",
          "text": [
            "              precision    recall  f1-score   support\n",
            "\n",
            "    negative       0.80      0.70      0.75       671\n",
            "    positive       0.75      0.84      0.79       714\n",
            "\n",
            "    accuracy                           0.77      1385\n",
            "   macro avg       0.78      0.77      0.77      1385\n",
            "weighted avg       0.77      0.77      0.77      1385\n",
            "\n"
          ]
        },
        {
          "output_type": "execute_result",
          "data": {
            "text/plain": [
              "array(['positive', 'positive', 'negative', ..., 'positive', 'positive',\n",
              "       'negative'], dtype='<U8')"
            ]
          },
          "metadata": {},
          "execution_count": 87
        }
      ],
      "source": [
        "# Testes para o MultinomialNB\n",
        "\n",
        "# train_model(\"Preprocessed_Review\", training_data, test_data, vec = vectors_type[0], model = model_type[0], bal = bal_type[0], results = True, conf_matrix = False)\n",
        "# train_model(\"Preprocessed_Review\", training_data, test_data, vec = vectors_type[1], model = model_type[0], bal = bal_type[0], results = True, conf_matrix = False)\n",
        "# train_model(\"Preprocessed_Review\", training_data, test_data, vec = vectors_type[2], model = model_type[0], bal = bal_type[0], results = True, conf_matrix = False)\n",
        "# train_model(\"Preprocessed_Review\", training_data, test_data, vec = vectors_type[0], model = model_type[0], bal = bal_type[1], results = True, conf_matrix = False)\n",
        "train_model(\"Preprocessed_Review\", training_data, test_data, vec = vectors_type[1], model = model_type[0], bal = bal_type[1], results = True, conf_matrix = False)\n",
        "# train_model(\"Preprocessed_Review\", training_data, test_data, vec = vectors_type[2], model = model_type[0], bal = bal_type[1], results = True, conf_matrix = False)"
      ]
    },
    {
      "cell_type": "code",
      "execution_count": null,
      "id": "mPiPtjLtRN-f",
      "metadata": {
        "colab": {
          "base_uri": "https://localhost:8080/"
        },
        "id": "mPiPtjLtRN-f",
        "outputId": "3e6943fb-efe0-4865-e860-83077c9c694b"
      },
      "outputs": [
        {
          "output_type": "stream",
          "name": "stdout",
          "text": [
            "Melhores parâmetros encontrados: {'C': 100, 'gamma': 0.001}\n",
            "              precision    recall  f1-score   support\n",
            "\n",
            "    negative       0.68      0.84      0.75       671\n",
            "    positive       0.81      0.63      0.71       714\n",
            "\n",
            "    accuracy                           0.73      1385\n",
            "   macro avg       0.74      0.73      0.73      1385\n",
            "weighted avg       0.75      0.73      0.73      1385\n",
            "\n"
          ]
        },
        {
          "output_type": "execute_result",
          "data": {
            "text/plain": [
              "array(['positive', 'negative', 'negative', ..., 'positive', 'positive',\n",
              "       'negative'], dtype=object)"
            ]
          },
          "metadata": {},
          "execution_count": 86
        }
      ],
      "source": [
        "# Testes para o SVM\n",
        "\n",
        "# train_model(\"Preprocessed_Review\", training_data, test_data, vec = vectors_type[0], model = model_type[1], bal = bal_type[0], results = True, conf_matrix = False)\n",
        "# train_model(\"Preprocessed_Review\", training_data, test_data, vec = vectors_type[1], model = model_type[1], bal = bal_type[0], results = True, conf_matrix = False)\n",
        "# train_model(\"Preprocessed_Review\", training_data, test_data, vec = vectors_type[2], model = model_type[1], bal = bal_type[0], results = True, conf_matrix = False)\n",
        "# train_model(\"Preprocessed_Review\", training_data, test_data, vec = vectors_type[0], model = model_type[1], bal = bal_type[1], results = True, conf_matrix = False)\n",
        "train_model(\"Preprocessed_Review\", training_data, test_data, vec = vectors_type[1], model = model_type[1], bal = bal_type[1], results = True, conf_matrix = False)\n",
        "# train_model(\"Preprocessed_Review\", training_data, test_data, vec = vectors_type[2], model = model_type[1], bal = bal_type[1], results = True, conf_matrix = False)"
      ]
    },
    {
      "cell_type": "code",
      "execution_count": null,
      "id": "_pGO3M9trjoY",
      "metadata": {
        "colab": {
          "base_uri": "https://localhost:8080/"
        },
        "id": "_pGO3M9trjoY",
        "outputId": "479a9906-1301-4d5c-d776-725d0fdd5823"
      },
      "outputs": [
        {
          "output_type": "stream",
          "name": "stdout",
          "text": [
            "              precision    recall  f1-score   support\n",
            "\n",
            "    negative       0.74      0.78      0.76       671\n",
            "    positive       0.78      0.74      0.76       714\n",
            "\n",
            "    accuracy                           0.76      1385\n",
            "   macro avg       0.76      0.76      0.76      1385\n",
            "weighted avg       0.76      0.76      0.76      1385\n",
            "\n"
          ]
        },
        {
          "output_type": "execute_result",
          "data": {
            "text/plain": [
              "array(['positive', 'negative', 'negative', ..., 'positive', 'positive',\n",
              "       'negative'], dtype=object)"
            ]
          },
          "metadata": {},
          "execution_count": 88
        }
      ],
      "source": [
        "# Testes para a Regressão Logística\n",
        "\n",
        "# train_model(\"Preprocessed_Review\", training_data, test_data, vec = vectors_type[0], model = model_type[2], bal = bal_type[0], results = True, conf_matrix = False)\n",
        "# train_model(\"Preprocessed_Review\", training_data, test_data, vec = vectors_type[1], model = model_type[2], bal = bal_type[0], results = True, conf_matrix = False)\n",
        "# train_model(\"Preprocessed_Review\", training_data, test_data, vec = vectors_type[2], model = model_type[2], bal = bal_type[0], results = True, conf_matrix = False)\n",
        "# train_model(\"Preprocessed_Review\", training_data, test_data, vec = vectors_type[0], model = model_type[2], bal = bal_type[1], results = True, conf_matrix = False)\n",
        "train_model(\"Preprocessed_Review\", training_data, test_data, vec = vectors_type[1], model = model_type[2], bal = bal_type[1], results = True, conf_matrix = False)\n",
        "# train_model(\"Preprocessed_Review\", training_data, test_data, vec = vectors_type[2], model = model_type[2], bal = bal_type[1], results = True, conf_matrix = False)"
      ]
    },
    {
      "cell_type": "code",
      "execution_count": null,
      "id": "qiApDVeBLQ55",
      "metadata": {
        "colab": {
          "base_uri": "https://localhost:8080/"
        },
        "id": "qiApDVeBLQ55",
        "outputId": "6d8d21ae-e62e-464b-a568-d08aac818286"
      },
      "outputs": [
        {
          "output_type": "stream",
          "name": "stdout",
          "text": [
            "              precision    recall  f1-score   support\n",
            "\n",
            "    negative       0.68      0.80      0.73       671\n",
            "    positive       0.78      0.64      0.70       714\n",
            "\n",
            "    accuracy                           0.72      1385\n",
            "   macro avg       0.73      0.72      0.72      1385\n",
            "weighted avg       0.73      0.72      0.72      1385\n",
            "\n"
          ]
        },
        {
          "output_type": "execute_result",
          "data": {
            "text/plain": [
              "array(['positive', 'negative', 'negative', ..., 'negative', 'positive',\n",
              "       'negative'], dtype=object)"
            ]
          },
          "metadata": {},
          "execution_count": 89
        }
      ],
      "source": [
        "# Testes para o Random Forest\n",
        "\n",
        "# train_model(\"Preprocessed_Review\", training_data, test_data, vec = vectors_type[0], model = model_type[3], bal = bal_type[0], results = True, conf_matrix = False)\n",
        "# train_model(\"Preprocessed_Review\", training_data, test_data, vec = vectors_type[1], model = model_type[3], bal = bal_type[0], results = True, conf_matrix = False)\n",
        "# train_model(\"Preprocessed_Review\", training_data, test_data, vec = vectors_type[2], model = model_type[3], bal = bal_type[0], results = True, conf_matrix = False)\n",
        "# train_model(\"Preprocessed_Review\", training_data, test_data, vec = vectors_type[0], model = model_type[3], bal = bal_type[1], results = True, conf_matrix = False)\n",
        "train_model(\"Preprocessed_Review\", training_data, test_data, vec = vectors_type[1], model = model_type[3], bal = bal_type[1], results = True, conf_matrix = False)\n",
        "# train_model(\"Preprocessed_Review\", training_data, test_data, vec = vectors_type[2], model = model_type[3], bal = bal_type[1], results = True, conf_matrix = False)"
      ]
    },
    {
      "cell_type": "code",
      "execution_count": null,
      "id": "Z6tmADnPLJ6Q",
      "metadata": {
        "colab": {
          "base_uri": "https://localhost:8080/"
        },
        "id": "Z6tmADnPLJ6Q",
        "outputId": "e23edb48-d064-4956-fe69-271af77f7f6f"
      },
      "outputs": [
        {
          "output_type": "stream",
          "name": "stdout",
          "text": [
            "              precision    recall  f1-score   support\n",
            "\n",
            "    negative       0.63      0.75      0.68       671\n",
            "    positive       0.71      0.58      0.64       714\n",
            "\n",
            "    accuracy                           0.66      1385\n",
            "   macro avg       0.67      0.67      0.66      1385\n",
            "weighted avg       0.67      0.66      0.66      1385\n",
            "\n"
          ]
        },
        {
          "output_type": "execute_result",
          "data": {
            "text/plain": [
              "array(['positive', 'negative', 'negative', ..., 'positive', 'negative',\n",
              "       'negative'], dtype=object)"
            ]
          },
          "metadata": {},
          "execution_count": 90
        }
      ],
      "source": [
        "# Testes para o Gradient Boosting\n",
        "\n",
        "# train_model(\"Preprocessed_Review\", training_data, test_data, vec = vectors_type[0], model = model_type[4], bal = bal_type[0], results = True, conf_matrix = False)\n",
        "# train_model(\"Preprocessed_Review\", training_data, test_data, vec = vectors_type[1], model = model_type[4], bal = bal_type[0], results = True, conf_matrix = False)\n",
        "# train_model(\"Preprocessed_Review\", training_data, test_data, vec = vectors_type[2], model = model_type[4], bal = bal_type[0], results = True, conf_matrix = False)\n",
        "# train_model(\"Preprocessed_Review\", training_data, test_data, vec = vectors_type[0], model = model_type[4], bal = bal_type[1], results = True, conf_matrix = False)\n",
        "train_model(\"Preprocessed_Review\", training_data, test_data, vec = vectors_type[1], model = model_type[4], bal = bal_type[1], results = True, conf_matrix = False)\n",
        "# train_model(\"Preprocessed_Review\", training_data, test_data, vec = vectors_type[2], model = model_type[4], bal = bal_type[1], results = True, conf_matrix = False)"
      ]
    },
    {
      "cell_type": "markdown",
      "id": "y2o6gnj6AR0k",
      "metadata": {
        "id": "y2o6gnj6AR0k"
      },
      "source": [
        "<br>\n",
        "<br>\n",
        "<br>\n",
        "\n",
        "# **5 - Utilização de transformadores para classificação**"
      ]
    },
    {
      "cell_type": "markdown",
      "id": "qXjuYmzmit66",
      "metadata": {
        "id": "qXjuYmzmit66"
      },
      "source": [
        "## **Transformadores -**"
      ]
    },
    {
      "cell_type": "markdown",
      "id": "LaPKBaU8HGfF",
      "metadata": {
        "id": "LaPKBaU8HGfF"
      },
      "source": [
        "## **Tentativa RoBerta -**"
      ]
    },
    {
      "cell_type": "code",
      "execution_count": null,
      "id": "aLWcS6bGySTq",
      "metadata": {
        "colab": {
          "base_uri": "https://localhost:8080/"
        },
        "id": "aLWcS6bGySTq",
        "outputId": "72718f11-40f6-4040-8eff-5a2e02387801"
      },
      "outputs": [
        {
          "output_type": "stream",
          "name": "stdout",
          "text": [
            "Requirement already satisfied: transformers in /usr/local/lib/python3.10/dist-packages (4.38.2)\n",
            "Requirement already satisfied: filelock in /usr/local/lib/python3.10/dist-packages (from transformers) (3.13.4)\n",
            "Requirement already satisfied: huggingface-hub<1.0,>=0.19.3 in /usr/local/lib/python3.10/dist-packages (from transformers) (0.20.3)\n",
            "Requirement already satisfied: numpy>=1.17 in /usr/local/lib/python3.10/dist-packages (from transformers) (1.25.2)\n",
            "Requirement already satisfied: packaging>=20.0 in /usr/local/lib/python3.10/dist-packages (from transformers) (24.0)\n",
            "Requirement already satisfied: pyyaml>=5.1 in /usr/local/lib/python3.10/dist-packages (from transformers) (6.0.1)\n",
            "Requirement already satisfied: regex!=2019.12.17 in /usr/local/lib/python3.10/dist-packages (from transformers) (2023.12.25)\n",
            "Requirement already satisfied: requests in /usr/local/lib/python3.10/dist-packages (from transformers) (2.31.0)\n",
            "Requirement already satisfied: tokenizers<0.19,>=0.14 in /usr/local/lib/python3.10/dist-packages (from transformers) (0.15.2)\n",
            "Requirement already satisfied: safetensors>=0.4.1 in /usr/local/lib/python3.10/dist-packages (from transformers) (0.4.3)\n",
            "Requirement already satisfied: tqdm>=4.27 in /usr/local/lib/python3.10/dist-packages (from transformers) (4.66.2)\n",
            "Requirement already satisfied: fsspec>=2023.5.0 in /usr/local/lib/python3.10/dist-packages (from huggingface-hub<1.0,>=0.19.3->transformers) (2023.6.0)\n",
            "Requirement already satisfied: typing-extensions>=3.7.4.3 in /usr/local/lib/python3.10/dist-packages (from huggingface-hub<1.0,>=0.19.3->transformers) (4.11.0)\n",
            "Requirement already satisfied: charset-normalizer<4,>=2 in /usr/local/lib/python3.10/dist-packages (from requests->transformers) (3.3.2)\n",
            "Requirement already satisfied: idna<4,>=2.5 in /usr/local/lib/python3.10/dist-packages (from requests->transformers) (3.7)\n",
            "Requirement already satisfied: urllib3<3,>=1.21.1 in /usr/local/lib/python3.10/dist-packages (from requests->transformers) (2.0.7)\n",
            "Requirement already satisfied: certifi>=2017.4.17 in /usr/local/lib/python3.10/dist-packages (from requests->transformers) (2024.2.2)\n"
          ]
        }
      ],
      "source": [
        "pip install transformers"
      ]
    },
    {
      "cell_type": "code",
      "execution_count": 193,
      "id": "-oDSvlxM9XQh",
      "metadata": {
        "colab": {
          "base_uri": "https://localhost:8080/"
        },
        "id": "-oDSvlxM9XQh",
        "outputId": "303917a5-f585-4977-80db-697944bd09db"
      },
      "outputs": [
        {
          "output_type": "stream",
          "name": "stderr",
          "text": [
            "Some weights of the model checkpoint at cardiffnlp/twitter-roberta-base-sentiment-latest were not used when initializing RobertaForSequenceClassification: ['roberta.pooler.dense.bias', 'roberta.pooler.dense.weight']\n",
            "- This IS expected if you are initializing RobertaForSequenceClassification from the checkpoint of a model trained on another task or with another architecture (e.g. initializing a BertForSequenceClassification model from a BertForPreTraining model).\n",
            "- This IS NOT expected if you are initializing RobertaForSequenceClassification from the checkpoint of a model that you expect to be exactly identical (initializing a BertForSequenceClassification model from a BertForSequenceClassification model).\n"
          ]
        },
        {
          "output_type": "stream",
          "name": "stdout",
          "text": [
            "[{'label': 'negative', 'score': 0.7235766649246216}]\n"
          ]
        }
      ],
      "source": [
        "from transformers import pipeline\n",
        "\n",
        "# Carregar a pipeline de análise de sentimentos\n",
        "model_path = \"cardiffnlp/twitter-roberta-base-sentiment-latest\"\n",
        "sentiment_task = pipeline(\"sentiment-analysis\", model=model_path, tokenizer=model_path)\n",
        "\n",
        "# Testar a pipeline com um exemplo\n",
        "print(sentiment_task(\"Covid cases are increasing fast!\"))"
      ]
    },
    {
      "cell_type": "code",
      "execution_count": 194,
      "id": "1Me2NvS89rlk",
      "metadata": {
        "colab": {
          "base_uri": "https://localhost:8080/"
        },
        "id": "1Me2NvS89rlk",
        "outputId": "7b20bb23-8652-4144-c6ab-4ee3dd1ed1c2"
      },
      "outputs": [
        {
          "output_type": "execute_result",
          "data": {
            "text/plain": [
              "0     [{'label': 'positive', 'score': 0.479505747556...\n",
              "1     [{'label': 'neutral', 'score': 0.4514549374580...\n",
              "2     [{'label': 'negative', 'score': 0.833378612995...\n",
              "3     [{'label': 'neutral', 'score': 0.6156367063522...\n",
              "6     [{'label': 'positive', 'score': 0.912983953952...\n",
              "7     [{'label': 'negative', 'score': 0.829647064208...\n",
              "8     [{'label': 'negative', 'score': 0.895328283309...\n",
              "10    [{'label': 'positive', 'score': 0.923937320709...\n",
              "12    [{'label': 'negative', 'score': 0.794546544551...\n",
              "13    [{'label': 'negative', 'score': 0.873841285705...\n",
              "Name: Review, dtype: object"
            ]
          },
          "metadata": {},
          "execution_count": 194
        }
      ],
      "source": [
        "# Aplicar a pipeline aos nossos dados de teste\n",
        "results = test_data['Review'].apply(sentiment_task)\n",
        "results.head(10)"
      ]
    },
    {
      "cell_type": "code",
      "source": [
        "from transformers import pipeline\n",
        "from sklearn.metrics import accuracy_score, confusion_matrix, precision_recall_fscore_support\n",
        "import pandas as pd\n",
        "\n",
        "labels = test_data['Sentiment']\n",
        "\n",
        "# Aplicar a pipeline aos nossos dados de teste\n",
        "predictions = test_data['Review'].apply(sentiment_task)\n",
        "\n",
        "# Converter os resultados em rótulos\n",
        "predicted_labels = [result[0]['label'] for result in predictions]\n",
        "\n",
        "# Calcular a acurácia\n",
        "accuracy = accuracy_score(labels, predicted_labels)\n",
        "\n",
        "# Calcular a matriz de confusão\n",
        "conf_matrix = confusion_matrix(labels, predicted_labels, labels=[\"negative\", \"positive\"])\n",
        "\n",
        "# Calcular as métricas de precisão, recall e F1\n",
        "precision, recall, f1, _ = precision_recall_fscore_support(labels, predicted_labels, labels=[\"negative\", \"positive\"], average='weighted')\n",
        "\n",
        "# Imprimir o relatório de desempenho do modelo\n",
        "print(f\"Accuracy: {accuracy}\")\n",
        "print(\"Matriz de Confusão:\")\n",
        "print(pd.DataFrame(conf_matrix, index=[\"True Negative\", \"True Positive\"], columns=[\"Predicted Negative\", \"Predicted Positive\"]))\n",
        "print(f\"Precision: {precision}\")\n",
        "print(f\"Recall: {recall}\")\n",
        "print(f\"F1 Score: {f1}\")"
      ],
      "metadata": {
        "id": "1MdFj-mHzd6M",
        "colab": {
          "base_uri": "https://localhost:8080/"
        },
        "outputId": "370e6138-8784-479d-f2d0-93189edd836a"
      },
      "id": "1MdFj-mHzd6M",
      "execution_count": 230,
      "outputs": [
        {
          "output_type": "stream",
          "name": "stdout",
          "text": [
            "Accuracy: 0.7046931407942238\n",
            "Matriz de Confusão:\n",
            "               Predicted Negative  Predicted Positive\n",
            "True Negative                 495                  18\n",
            "True Positive                  62                 481\n",
            "Precision: 0.927476593095712\n",
            "Recall: 0.7046931407942238\n",
            "F1 Score: 0.7994283995994389\n"
          ]
        }
      ]
    },
    {
      "cell_type": "markdown",
      "id": "0U7AVLkeEj-G",
      "metadata": {
        "id": "0U7AVLkeEj-G"
      },
      "source": [
        "## **Tentativa com distilbert-base-uncased -**"
      ]
    },
    {
      "cell_type": "code",
      "source": [
        "from transformers import AutoTokenizer, AutoModelForSequenceClassification\n",
        "import pandas as pd\n",
        "\n",
        "# Carregue o tokenizer e o modelo\n",
        "tokenizer = AutoTokenizer.from_pretrained(\"distilbert-base-uncased\")\n",
        "model = AutoModelForSequenceClassification.from_pretrained(\"distilbert-base-uncased\", num_labels=3)\n",
        "\n",
        "# Defina a função de classificação\n",
        "def classify_review(text):\n",
        "    inputs = tokenizer(text, padding=True, truncation=True, return_tensors=\"pt\")\n",
        "    outputs = model(**inputs)\n",
        "    predicted_class = torch.argmax(outputs.logits)\n",
        "    if predicted_class == 0:\n",
        "        label = 'negative'\n",
        "    elif predicted_class == 1:\n",
        "        label = 'neutral'\n",
        "    else:\n",
        "        label = 'positive'\n",
        "    score = outputs.logits.softmax(dim=1)[0][predicted_class].item()\n",
        "    return [{'label': label, 'score': score}]"
      ],
      "metadata": {
        "colab": {
          "base_uri": "https://localhost:8080/"
        },
        "id": "Sz1KtypYcm0K",
        "outputId": "25806250-1705-4d9b-911c-63f6f931c079"
      },
      "id": "Sz1KtypYcm0K",
      "execution_count": 231,
      "outputs": [
        {
          "output_type": "stream",
          "name": "stderr",
          "text": [
            "Some weights of DistilBertForSequenceClassification were not initialized from the model checkpoint at distilbert-base-uncased and are newly initialized: ['classifier.bias', 'classifier.weight', 'pre_classifier.bias', 'pre_classifier.weight']\n",
            "You should probably TRAIN this model on a down-stream task to be able to use it for predictions and inference.\n"
          ]
        }
      ]
    },
    {
      "cell_type": "code",
      "source": [
        "# Aplica a função aos dados de teste\n",
        "results = test_data['Review'].apply(classify_review)\n",
        "print(results)"
      ],
      "metadata": {
        "colab": {
          "base_uri": "https://localhost:8080/"
        },
        "id": "iWgSoYiccmqf",
        "outputId": "bc6dfdbe-1c79-411b-82b9-1d1fa2c3fcd5"
      },
      "id": "iWgSoYiccmqf",
      "execution_count": 232,
      "outputs": [
        {
          "output_type": "stream",
          "name": "stdout",
          "text": [
            "0       [{'label': 'negative', 'score': 0.370092928409...\n",
            "1       [{'label': 'negative', 'score': 0.362357407808...\n",
            "2       [{'label': 'negative', 'score': 0.363586962223...\n",
            "3       [{'label': 'negative', 'score': 0.380797922611...\n",
            "6       [{'label': 'negative', 'score': 0.372474819421...\n",
            "                              ...                        \n",
            "1723    [{'label': 'negative', 'score': 0.368795543909...\n",
            "1725    [{'label': 'negative', 'score': 0.374726176261...\n",
            "1726    [{'label': 'negative', 'score': 0.367366671562...\n",
            "1727    [{'label': 'negative', 'score': 0.374587297439...\n",
            "1728    [{'label': 'negative', 'score': 0.368065446615...\n",
            "Name: Review, Length: 1385, dtype: object\n"
          ]
        }
      ]
    },
    {
      "cell_type": "code",
      "source": [
        "from transformers import pipeline\n",
        "from sklearn.metrics import accuracy_score, confusion_matrix, precision_recall_fscore_support\n",
        "import pandas as pd\n",
        "\n",
        "labels = test_data['Sentiment']\n",
        "\n",
        "# Aplicar a pipeline aos nossos dados de teste\n",
        "predictions = test_data['Review'].apply(classify_review)\n",
        "\n",
        "# Converter os resultados em rótulos\n",
        "predicted_labels = [result[0]['label'] for result in predictions]\n",
        "\n",
        "# Calcular a acurácia\n",
        "accuracy = accuracy_score(labels, predicted_labels)\n",
        "\n",
        "# Calcular a matriz de confusão\n",
        "conf_matrix = confusion_matrix(labels, predicted_labels, labels=[\"negative\", \"positive\"])\n",
        "\n",
        "# Calcular as métricas de precisão, recall e F1\n",
        "precision, recall, f1, _ = precision_recall_fscore_support(labels, predicted_labels, labels=[\"negative\", \"positive\"], average='weighted')\n",
        "\n",
        "# Imprimir o relatório de desempenho do modelo\n",
        "print(f\"Accuracy: {accuracy}\")\n",
        "print(\"Matriz de Confusão:\")\n",
        "print(pd.DataFrame(conf_matrix, index=[\"True Negative\", \"True Positive\"], columns=[\"Predicted Negative\", \"Predicted Positive\"]))\n",
        "print(f\"Precision: {precision}\")\n",
        "print(f\"Recall: {recall}\")\n",
        "print(f\"F1 Score: {f1}\")"
      ],
      "metadata": {
        "colab": {
          "base_uri": "https://localhost:8080/"
        },
        "id": "XBC9RPynd6ly",
        "outputId": "3a1748c0-0dfc-4407-d10b-d21c60872480"
      },
      "id": "XBC9RPynd6ly",
      "execution_count": 233,
      "outputs": [
        {
          "output_type": "stream",
          "name": "stdout",
          "text": [
            "Accuracy: 0.4844765342960289\n",
            "Matriz de Confusão:\n",
            "               Predicted Negative  Predicted Positive\n",
            "True Negative                 671                   0\n",
            "True Positive                 714                   0\n",
            "Precision: 0.23471751228349125\n",
            "Recall: 0.4844765342960289\n",
            "F1 Score: 0.3162293331834975\n"
          ]
        }
      ]
    },
    {
      "cell_type": "markdown",
      "id": "Rcs77hqpAzQi",
      "metadata": {
        "id": "Rcs77hqpAzQi"
      },
      "source": [
        "<br>\n",
        "<br>\n",
        "<br>\n",
        "\n",
        "# **6 - Usar modelos generativos para classificação de sentimento**"
      ]
    },
    {
      "cell_type": "code",
      "source": [
        "# Importar os dados\n",
        "\n",
        "# Abre o arquivo em modo de leitura\n",
        "with open('notebooks-challenge.txt', 'r') as arquivo:\n",
        "    # Lê o conteúdo do arquivo\n",
        "    conteudo = arquivo.read()\n",
        "\n",
        "# Imprime o conteúdo\n",
        "print(conteudo)"
      ],
      "metadata": {
        "id": "j71d94d3Kflk",
        "colab": {
          "base_uri": "https://localhost:8080/"
        },
        "outputId": "14af63f1-db89-4607-cadc-e02a55eadd1f"
      },
      "id": "j71d94d3Kflk",
      "execution_count": 236,
      "outputs": [
        {
          "output_type": "stream",
          "name": "stdout",
          "text": [
            "O note é bom, mas não superou as expectativas quanto a velocidade, por isso sugiro 8GB\n",
            "Ele corresponde ao valor pago. Custando em média R$ 2000, não encontraremos nada melhor.\n",
            "O notebook é muito bom, o Windows 10 ferra um pouco com a velocidade, mas isso é coisa do sistema operacional. Recomendo muito esse produto.\n",
            "O notebook tem uma tela enorme, muito útil para trabalhar e fazer trabalhos acadêmicos. É lindo...\n",
            "review_text\n",
            "Muito bom ! Excelente notebook! Entrega rapida. Fiquei muito satisfeita.\n",
            "Excelente, é tudo de bom, já tenho um e não tenho do que reclamar...!\n",
            "Excelente produto superou todas as minhas expectativas. Excelente custo beneficio as <empresa> estão de parabéns, pelo produto, preço e entrega tudo perfeito.\n",
            "Ótima relação custo/benefício. O produto chegou em bom estado.\n",
            "produto chegou com defeito e ate agora não entram em contato comigo ligo e so fica em mensagem preciso de uma solução pois gastei 1749 reais não posso ficar no prejuizo\n",
            "Compra segura, entrega eficiente e produto de qualidade.\n",
            "Produto chegou antes do prazo. Até o momento um ótimo produto com bom desempenho. facilidade no uso e boa duração de bateria. Espero que continue a surpreender.\n",
            "NÃO USEI MUITO AINDA, MAS É LINDO E VAI ME AJUDAR MUITO NAS MINHAS TAREFAS.\n",
            "Gostei muito do produto é  leve e prático de carregar\n",
            "Estava receoso em comprar uma marca não tão conhecida no Brasil, como Dell e HP. Quando o produto chegou e comecei a usar percebi que é o melhor computador que já tive! Design, peso, tela, teclado, velocidade de processamento, tudo perfeito. Não pense duas vezes em adquirir. Já tive PC da Samsung que deu problema, da Toshiba e da Dell que deram problema, mas esse da Acer até agora está excelente.\n",
            "Estou gostando muito do produto. É leve, bonito e muito elegante. O Windows 10 é muito pratico e eficiente; quanto aos serviços das lojas <empresa>, um único comentário: NOTA 10\n",
            "O produto atendeu as expectativas.  A entrega foi feita antes da data aprazada A ùnica falha é que não tem indicação da letra maiúscula estar ligada e isso prejudica principalmente nas senhas\n",
            "Gostei chegou certinho e tudo conforme desejado. Ele um pouco pesado mas como e de alta performance já imagina que seria assim.\n",
            "Produto atende muito bem ao ofertado. Entrega rápida e eficaz. Super recomendo.\n",
            "Produto com tecnologia de ponta , muito  bonito designer, rapido, recomendo\n",
            "bateria de alta performace, leve e muito memória em HD, excelente compra\n",
            "O notebook chegou na minha casa apresentando defeito na tela. Percebi que o lado direito estava com uma mancha cinza. Depois de um tempo mexendo no notebook a tela ficou totalmente cinza, igual televisão quando sai do ar em filme de terror. E quando estava assistindo um video no youtube, fui colocar o fone de ouvido e o video desapareceu, só apresentava o som.  Péssimo produto, não recomendo. Passei muita raiva.\n",
            "Aparelho com belo design e muito fino e leve, até mais do que um ultrabook Asus que tenho. Mas é lento já na primeira utilização.\n",
            "A entrega foi rápida e o produto é bom. Atende muito bem quem tem necessidade de trabalhar e estudar por ele.\n",
            "muito bom, a um ano com ele, e não apresentou nem um problema\n",
            "Excelente qualidade, ótima configuração e o preço acessível. Estou muito satisfeita\n",
            "Super recomendo, muito versátil e de fácil uso!! Amei o formato, bem fino e leve. Parabéns!!\n",
            "Ele é bom para trabalhos escolares, pesquisas e ,jogos. Recomendo.\n",
            "Muito rápido, ótimo teclado, não trava com nada, melhor custo-benefício !\n",
            "As lojas <empresa> devia verde por este valor só o notebook de 4gb\n",
            "Gostei do produto, veio dentro do esperado leve para o seu tamanho ótimo sistema de som e ergonomia muito boa. Tempo de entrega muito bom antes do divulgado.\n",
            "Ótima qualidade,bom preço é fácil acessibilidade. Super recomendo\n",
            "Tem alguns comentários negativos aqui, mas oque acontece, quando vc compra o notebbok ele vem desatualizado e a primeiras vezes que vc liga o aparelho, ele vai ficar lento mesmo, porque esta fazendo atualizações, então não leve em consideração os seus primeiros usos do notebook. Passando o tempo de atualizações que podem durar de um a dois dias, este aparelho vai ser sim, rapido inicia rapido, entra em varios programas rapido, um otimo notebook, muito satisfeito com a compra, tenho varios programas pesados, como Corel, Vegas, photoshop, Sonar entre outros, basta ter um pouco de paciencia  nos primeiros dias e vai ver que fez uma ótima compra.\n",
            "Para uso de faculdade e trabalhos excelente,  Entrega no prazo,  Parabéns! !\n",
            "Computador é muito bom, atende bem as exigências. O índice de desempenho dele é ótimo.\n",
            "Ótimo produto! Recomendo entrega super rápida também!\n",
            "Otimo produto como anunciado, bom para dia a dia ...\n",
            "Não usei por completo ainda, mas parece ser perfeito.\n",
            "Comprei para meu olho e ele gostou muito!! Atendeu as expectativas dele para o estudo e para o lazer .\n",
            "Ótimo produto por um preço acessível. Mas precisei resetar pra poder utilizar. O ponteiro do mouse não respondia mesmo depois de fazer todas as configurações possíveis.\n",
            "NOTEBOOK FUNCIONANDO PERFEITO, BOM PRA VÍDEO, JOGAR E SERVIÇO COMUNS.\n",
            "Chegou antes do esperado e estou gostando do produto!!\n",
            "Não usei ainda a marca LENOVO.   Usei  ACER.  Gostaria de um outro ACER ou SAMSUNG.  Mas, creio que agora, todos são da mesma qualidade.  No que puder compro um.  Este LENOVO é exatamente tudo que quero.   Estou esperando um cartão de crédito.\n",
            "Comprei para estudar, ainda não instalei um único programa e ele  já está travando, pelas configurações deveria ser muito melhor. Compre de outra marca, pelo preço que paguei você consegue produto melhor.  Samsung nunca muda essa travação nojenta.\n",
            "Pena que não vem com reprodutor/gravador de dvd/cd.\n",
            "\"É como sempre digo e defendo: para 90% dos usuários desse segmento, ter um \"\"i3+SSD\"\" é infinitamente melhor do que um \"\"i5 ou i7+HD Convencional\"\". O gargalos dos computadores atuais está no HD e não no processador. Essa máquina é assustadoramente rápida. Dica: comprem sempre notebooks com SSDs, pois HDs convencionais são lentos e ficam mais lentos com o passar dos meses. SSD é o futuro!!! Parabéns a VAIO por perceber essa necessidade de mercado. Somos carentes de notebooks com SSDs a preços acessíveis. Gostamos tanto desse modelo i3+SSD que já encomendamos outro. Forte abraço!\"\n",
            "\"No começo é meio Lento... mais depois de uns 10 dias de uso ele deixar de ser lento. Sem esquecer, de desinstalar \"\"Noton\"\" que deixar ele muito lento.\"\n",
            "Muitooo bom! A entrega foi rápida, o produto de ótima qualidade, corresponde as minhas necessidades.Recomendo.\n",
            "Estou muito satisfeita com a compra. Chegou em apenas 4 dias úteis! O laptop é leve e fácil de ser transportado. Como o meu objetivo era estudar para a faculdade, realizar pequenos trabalhos e assistir vídeos, o produto alcançou todas as minhas expectativas. Espero que se mantenha assim por um bom tempo.   Se o objetivo de uso for jogar ou utilizar programas mais pesados, ele pode começar a ficar lento, por conta das configurações que são de nível intermediário.   Por fim, ao comparar com outras marcas e configurações, na faixa de preço de paguei, essa é uma excelente escolha!\n",
            "Uso para estudar e trabalhar e o notebook é rápido e para mim funciona perfeitamente. A tela tem um tamanho ótimo e a bateria tem boa duração, apesar de não durar as 8 horas prometidas.\n",
            "Os produtos da Samsung são excelentes, particularmente amei o Notebook, leve, fácil manuseio, maravilhoso.  Recomendo\n",
            "Ótimo custo benefício para tarefas diárias, como pacote office, internet etc.\n",
            "Eu recomendo ótimo produto supriu milhas necessidades\n",
            "Gostei muito bom o produto, seria melhor ainda se já viesse com o windows 10 instalado!\n",
            "Chegou direitinho e antes do prazo.  Pesquisei muito e foi o melhor preço que encontrei. Valeu a compra!!\n",
            "Gostei muito do produto. Atende perfeitamente. Recomendo!!\n",
            "Meu computador veio com defeito e eu tenho MT necessidade de usar\n",
            "Comprei para estudar, muito bom. Já e o segundo notebook que eu adquiro da marca HP. Só a bateria que deveria durar mais tempo.\n",
            "Ótima aquisição, entrega dentro do prazo, estou muito satisfeita.\n",
            "Chegou tudo certinho e antes do prazo ! Produto excelente! Super Recomendo !\n",
            "Ele atendeu todas as expectativas que tive sobre a princípio.\n",
            "Produto péssima qualidade tela fica preta.. solicitei a troca que foi rápida porém outro que chegou péssimo botão emperrando. Naaaaaaao compra .\n",
            "Eu sempre gostei da marca Samsung. E este produto era exatamente o que estava procurando.\n",
            "Custo benefício perfeito. Entrega rápida e sem problemas.\n",
            "Ótima máquina! Comprei para a minha filha estudar. Apenas precisei mandar instalar o Windows, ainda assim, valeu o custo benefício. Notebook pequeno, leve e eficiente, bem como ela queria! Entrega super rápida! Superou as expectativas!\n",
            "Produto muito bom, entrega realizada dentro do prazo\n",
            "A entrega do produto foi realizada dentro do prazo, quanto ao produto, achei ele simplesmente incrível, atendeu a todas as minhas expectativas, o designer dele é maravilhoso, ele não é um notebook pesado, não faz barulho algum... uso ele para jogar e os jogos rodam perfeitamente... realmente ele é incrível e o preço é muito acessível. Adorei!\n",
            "Olá, gosto de comprar da loja <empresa>, porem este produto esta faltando informações Não tem informações sobre a bateria Não tem informações sobre leitores de cartão Não tem informações sobre conexões e outras estão faltando\n",
            "PRECISAVA DE UM P/INSTALAR UM PROGRAMA DE ESTOQUE E FINANCEIRO, NÃO COUBE NA MEMÓRIA, UM PROGRAMA PEQUENO.\n",
            "Os fabricantes deveriam se envergonhar em produzir algo tão fraco.\n",
            "É leve, a tela é maravilhosa e é muito rápido. A bateria dura bem e suporta vários programas pesados ao mesmo tempo (como InDesign e Photoshop). A entrega foi eficiente.\n",
            "Chegou com uma 1 semana de antecedência, ótimo preço e atende as minhas necessidades.\n",
            "A entrega foi rápida e o produto muito bom. E eu recomendo para outros clientes da <empresa>\n",
            "Recebi dentro do prazo estabelecido, chegou com boa embalagem. Produto dentro do esperado para um notebook básico. Tela e imagem excelentes, teclado bom, som razoável e bateria com duração de uma 5 horas ara consumo normal (sem jogos). Auto instalação muito rábida. Notei falta de alguns led's, como por exemplo do Caps Lock e Num Lock, mas nada que atrapalhe muito.  Para iniciar não é assim uma Ferrari de rápido, mas alguns sugundos a mais não matam ninguém.\n",
            "roda de tudo de pubg ate cs go muito parabéns 10/10 melhor em custo beneficio\n",
            "Recomendo a todos! Um maravilhoso produto, rápido, prático e super bonito. A entrega foi super rápida e todos acham lindo e com razão. Podem comprar sem sombra de dúvidas, é um excelente notebook, estou imensamente satisfeita!\n",
            "Pessoal, este notebook traz o Mandriva, SO desatualizado e com várias falhas de drivers. Além do mais, uma semana depois deixou de ligar! Um mês à espera de noticias da assistência técnica.\n",
            "Eu estou super satisfeita com a performance do computador\n",
            "Chegou antes do prazo e estou muito satisfeito com o produto. Recomendo.\n",
            "Computador leve, fino e rápido. Seu tamanho é perfeito (não é grande nem pequeno), além de ser extremamente bonito! Estou amando!! Era exatamente como eu esperava.\n",
            "Escolhi esse notebook por 3 motivos principais:  1) A marca é conhecida pela durabilidade 2) 500 MB,1 T e i5 por esse valor = compensa muito 3) Muito leve e fino Por enquanto está me agradando bastante, vamos ver a longo prazo.\n",
            "Atendeu minhas expectativas, produto muito bom, sem problemas.\n",
            "Sempre considerei a Positivo como uma das melhores opções de compra. A entrega do produto ocorreu dentro do prazo previsto.\n",
            "Produto de qualidade  Padrao Dell de sempre   Ótimo\n",
            "Vi algumas avaliações sobre o produto reclamando de lentidão, de falta de gravador de dvd, etc. Para a finalidade que eu comprei o notebook, ele me satisfaz plenamente. Não vou usar jogos nele, nem vou usar programas de design pesados.   Para o que quero: navegar na internet, fazer compras, administrar minhas contas bancárias, ele é bem rápido e seguro. Gostei muito.\n",
            "O produto é ótimo, lindo, está atendendo bem minhas necessidades. Só achei um pouco lento pra um i5.\n",
            "Muito bonito, leve, rápido e com bateria muito boa. Tela grande e está atendendo minha necessidade de desempenho para programas de engenharia.\n",
            "Produto ótimo de fácil acesso , única reclamação é que vem com uns aplicativos de fabrica na qual não achei útil\n",
            "\"NO MEU USO DIÁRIO é bastante econômico com relação a bateria, já consegui quase 5 horas. Teclado é excelente, a tela antirreflexo é ótima mas tive que me acostumar pq não tem \"\"aquele\"\" brilho, entretanto, não troco mais pq na hora do clarão ela salva. <3 Não travou nada, nem jogo e nem programas pesados. Vou de celular Lenovo Motorola e agora Notebook também. Super indico! obs.: não vá atrás de quem diz que a bateria é ruim (isso serve pra qualquer notebook) pois depende muito de como o aparelho será usado, caso vc compre um aparelho e não lhe agrade, tem alguns dias pra trocar. obs.: minha compra foi feita no guichê da <empresa> no shopping, adorei a rapidez da entrega e a maneira como foi possível acompanhar o pedido no aplicativo.\"\n",
            "Excelente notebook para as tarefas diárias. Rápido e prático. E ainda roda vários jogos modernos.\n",
            "é um bom produto, tem um bom preço e beneficio, boa aparência.\n",
            "O computador é bom, vem com Windows 10 instalado. Design fino, fácil de transportar. Teclado com teclas separadas, o que facilita a digitação. A bateria é embutida, não dá para tirar e trocar, quando for preciso.   Como pontos negativos, ele não vem com CD de recuperação e o seu manual é genérico, escrito uma só vez para servir para vários modelos diferentes. Eu mesmo estou tendo dificuldade até agora para descobrir como faço no padmouse para simular os botões direito e esquerdo de um mouse convencional.   Mas, pelo preço, pode comprar que vale a pena.\n",
            "a placa mãe deu defeito e nem a samsung nem a <empresa> arrumam. computador não tem nem um ano. como vendem algo sem peça pra repor?\n",
            "em um otimo notebook não é aquele notebook que tu olha e fala NOSSA QUE NOTEBOOK FODAAA MEU!!!! mas da pro gasto,se tu quiser pra jogar ou algo assim eu não recomendaria pois não vai rodar muita coisa,mas se cs go for o suficiente pode pegar que vai tranquilo haha.\n",
            "Só deveria ter entrada pra cartão de memória, no mais tudo como descrito no anúncio\n",
            "Gostei muito bacana msm,leve definido design perfeito\n",
            "O produto é excelente para quem quer praticidade e seus componentes otimos, o preço melhor ainda.\n",
            "Adorei. Ótimo desempenho  Leve Responde super rápido.\n",
            "Muito bom, apenas travou a primeira vez que liguei!\n",
            "NOTEBOOK MUITO LENTO, PIOR DO QUE UMA CARROÇA. HORRÍVEL. UMA PENA NÃO PODER DEVOLVER. PENSE NUM ARREPENDIMENTO... MUITO RUIM..... NÃO RECOMENDO NEM PRO INIMIGO.....\n",
            "Super recomendo pra uso básico notebook Tá ótimo o ruim é a bateria que dura pouquíssimo tempo e resto td de bom\n",
            "Gostei muito do notebook, estou com quase 1 mês de uso e só não gosto do windows 10, horrível esse sistema operacional. Sugiro que assim que comprarem o note desativem todos os recursos de atualizações automáticas para evitar dor de cabeça. E sim, o note faz um barulho vindo do HD, mas não me incomoda nem um pouco, sendo que uso o mesmo com fones de ouvido e nem acabo ouvindo. Fora isso é um note muito bom.\n",
            "Pelas especificações do produto achei que seria melhor porém é lento para fazer coisas básicas... será que posso me arrepender da compra ainda?\n",
            "comprei achando que seria muito bom, porém tive o desprazer de  ter um produto que não superou minhas expectativas, depois de uns 8 meses de uso apareceu umas machas no display e  desde quando comprei percebi uma lentidão fora do comum ao inicializar e em alguns momentos o mesmo trava e não funciona de forma adequada como deveria, por isso não estou falando que o produto em si é ruim, foi o meu que veio com algum problema de fábrica pois já utilizei outras versões e não tenho do que reclamar porem essa pra mim me decepcionou.\n",
            "ESTOU MUITO SATISFEITO COM ATENDIMENTO <empresa>!\n",
            "É um ótimo notebook, leve, rápido e o melhor ainda tem uma secretária virtual\n",
            "chegou no dia combinado,não tive nenhum problema com o aparelho adorei o produto e como eu queria,obrigado.  Vocês estão de parabéns em atendimento\n",
            "Amei o computador, cumpre com o proposto, chegou bem antes do prazo. A única coisa que pecou foi que no site não informava que ele não possuía saída VGA, ou seja, se você precisar conectar a um monitor que ainda não tenha entrada HDMI, terá que comprar um adaptador e/ou desistir.\n",
            "Produto recebido conforme descrição, tem excelente qualidade. Recomendo!\n",
            "Tudo certo. Chegou antes do prazo. Produto perfeito.\n",
            "Super satisfeita com o produto, muito bom o desempenho e a entrega da <empresa> foi super rápida!\n",
            "Produto excelente, perfeito para mim que o uso para estudar.\n",
            "Atende as expectativas.   Ótimo custo x benefício. Satisfeito até o momento.\n",
            "Mochila muito boa, espaçosa, coube sem problemas meus materiais de informática, ajudou bastante pra carregar o notebook, recomendo sem dúvida\n",
            "Excelente produto, indico com certeza! Entrega dentro do prazo! Parabéns!\n",
            "Produto excelente e entrega muito rápida! Produto cumpre o que promete.\n",
            "Gostei muito do produto, entrega rápida, bom atendimento.  Parabéns continuem assim!!!\n",
            "gostei muito vale apena comprar! Chegou muito antes do prazo\n",
            "Gostei muito desse notebook, comprei para poder estudar e para fazer isso está de bom tamanho!!!\n",
            "Procurava um notebook barato e eficaz para alguns trabalhos caseiros. Este aí foi bem recomendado pelo técnico meu amigo e não decepcionou. Dentro de seu hardware ele é até veloz. E vem cumprindo bem seu propósito. Bem configurado, razoavelmente leve, conexões que funcionam. Recomendo, sim!\n",
            "Excelente o produto.. sempre compro aqui pq são rápidas as entregas vcs são ótimos no atendimento.  Parabéns ótimo atendimento.\n",
            "Atende minhas necessitades, estou utilizando para trabalhos univeritários\n",
            "Amei amei amei, muito bonito, rápido e eficiente, recomendo com certeza foi uma boa escolha.\n",
            "Ótimo produto, valeu muito a pena o investimento !\n",
            "Ótima maquina para se trabalhar ou utilizar para fins académicos. Recomendo para quem comprar, apenas que desativem essas atualizações automáticas do windows 10 que encomodam muito. No youtube ensina como.\n",
            "Umá ótima máquina, ótimo custo x benefício. Uso para jogos e trabalho, excelente desempenho. Recomendo\n",
            "Produto chegou antes do prazo, ótimo notebook, atende as necessidades diárias. pena não vim com o pacote office.\n",
            "Recomendo, pena que o Office e o antivírus e teste gratuito 30 Dias...\n",
            "Rápido, leve e bonito. Atende as necessidades de um user intermediário.\n",
            "Gostei bastante do notebook, mas acredito que poderia mais rápido.\n",
            "o produto corresponde ao anúncio,é fácil de manusear, leve e moderno. O único problema é a transportadora,que não fornece dados reais no site...\n",
            "Ele é muito lento, estou bem insatisfeita. Deveria ter investido mais e comprado de 8 GB de ram\n",
            "Produto atendeu minhas expectativas, gostei do teclado numérico e de já vir com operacional Windows\n",
            "Para que eu pudesse avaliar como excelente, teria 6 de manter o gravador/leitor de CD/DVD, está muito cedo para remover tal função do equipamento.\n",
            "Produto muito bom, leve e tamanho ideal. Rápido e bonito.\n",
            "Muito bom, só não gostei porque véi com o Linux....\n",
            "Realmente o produto é de boa qualidade e chegou em uma semana. Recomendo!\n",
            "Atendeu minhas expectativas dentro do que me propus investir. Atende minhas necessidades. Entrega surpreendentemente rápida.\n",
            "Notebook com performance ótima para esta faixa de preço. O processador i5 da oitava geração junto com a Geforce 150MX realmente surpreendem. Se você está atrás de um note com velocidade e não se importa muito com Full HD, pode comprar sem medo. Não é à toa que o preço disparou e os estoques secaram em poucas semanas após o lançamento.\n",
            "Comprei já tem uns meses e estou amando.. não trava.. o que é maravilhoso kkkk.. audio com volume muito bom, resolução maravilhosa; a única coisa que tenho a reclamar é sobre conectar ao wifi.. demora um pouquinho, porque fica dizendo que está com sinal fraco, ou que a internet caiu, porém os outros aparelhos da casa estão conectados e funcionando perfeitamente; mas após algumas tentativas ele funciona perfeitamente.. Recomendo bastante, sem contar no prazo de entrega da amaricanas que está mais que de parabéns, meu produto não só chegoi no prazo, como dias antes do prazo. Parabéns!!\n",
            "Melhor note na categoria, comparado custo x benefício. Muito bonito o design. Contra o teclado americano, questão de acostumar.\n",
            "O produto é ótimo, atendeu muito as minhas expectativas está servindo demais para os trabalhos da Universidade!\n",
            "O notebook já chegou pra mim com defeito, não ligava.\n",
            "O pc parecia ser bom mas travou geral durante uso de programa de edição de vídeo. Tive que resetar a bateria. Tentei 4 vezes mas não deu certo. Tentei trocar mas a americas disse que não tinha o produto em estoque.\n",
            "ainda nao posso recomendar. o notebook nao reinicia ado clicar no reiniciar ele simplesmente desliga sozinho. na a tualizaçao demorou 24 horas e pede para reiniciar e nao reinicia.\n",
            "Cheguei neste modelo depois de um bom tempo de pesquisa e para mim é o melhor custo benefício para quem quer um note leve com boas especificações. Depois de pouco mais de um mês de uso, o desempenho dele está atendendo muito bem minhas expectativas. A única coisa que posso mencionar com ruim do que usei é o leitor de digital, dificilmente consigo abrir o pc com ele porque sempre dá que minha digital não foi reconhecida, mas isso, é um detalhe que não atrapalha minha boa avaliação do produto.\n",
            "Produto ótimo de boa qualidade e desempenho recomendo.\n",
            "Chegou rápido e o equipamento é muito bom pra quem não pretende carregá-lo pra cima e pra baixo.\n",
            "Excelente produto, marca e qualidade. No começo estava bastante lento por causa de inúmeros aplicativos ACER instalados, fiz a remoção de 90% desses aplicativos e o PC funcionou corretamente. Recomendo este produto.\n",
            "O produto já chegou apresentando um problema de desligamento. Mas as lojas <empresa> resolveram meu problema aceitando a devolução.\n",
            "Entrega dentro do prazo, recomendo ótimo produto. Não irão se arrepender\n",
            "Maravilhoso!!! Chegou antes da data estimada. Recomendo!\n",
            "Computador bem bonito, tela com ótima resolução, super adequado para funções básicas do cotidiano, atende super bem às minhas necessidades. Entrega foi mais rápida do que o prazo dado.\n",
            "Produto muito bom, porém o HD faz um barulho bem chato. Coloquei um ssd e ficou excelente!\n",
            "Muito lento, trava as vezes, não entrega o que promete nos anúncios.\n",
            "Maravilhoso, amei demais! Super recomendo. Gostei muito do produto!\n",
            "Não usei nem 5 vezes e o notebook não liga mais! Muito lento! Não recomendo!\n",
            "Produto atendeu minhas expectativas! A marca promete e cumpre!\n",
            "Ótimo notebook, tela muito boa. Atendeu minhas espectativas!\n",
            "Excelente equipamento. Me surpreendi porque não esperava que o equipamento fosse tão bom e tão fácil de me adaptar. O touchpad é excelente e já vem configurado para o Windows 10, os gestos são intuitivos e você vai aprendendo aos poucos a usar. Excelente produto Recomendo.\n",
            "O notebook é tão ruim que dá raiva acessar qualquer pagina de tão lento. Não gostei e não recomendo.\n",
            "Baixíssimo custo ao se comparar com o benefício, tem uma ótima qualidade gráfica para realização de tarefas simples, por exemplo assistir Netflix em Ultra HD, vídeos com qualidade igual ou superior a 1080p, jogos como League of Legends. Roda DAWs leves, como o Reaper, também faço edições simples no Adobe Premiere Pro CC, mas a partir daí e o processamento não aguenta e o funcionamento do Pc fica sofrível. Mas é um PC de menos de 2000$., portanto o benefício é ligeiramente maior que o custo.\n",
            "Equipamento bom, rápido e bem leve para transportar. Porém comprei o Office 365 que terei que obter outro daqui há um ano. A Samsung poderia buscar uma forma para que seus clientes obtenha atualização do office sem ter que pagar novamente.\n",
            "O computador é lento, já tive um I3 antes da LG, e gostei muito da versatilidade, bateria, e velocidade de processamento! O note da Samsung me.decdpcionou, é uma vida para abrir aplicativos e entrar na internet!\n",
            "Como você compra um produto e ele não liga? O pior é que disseram que não posso trocar por outra marca, tenho que aguardar o conserto dessa porcaria! Não comprem pq POSITIVO é só dor de cabeça!\n",
            "foi fácil de de comprar a entrega foi dentro do prazo e o produto é muito bom\n",
            "Excelente desempenho, designe irado e preço muito justo. Super recomendo!\n",
            "Bom, leve e pratico, para quem usa para tarefas diárias.\n",
            "\"O produto em si é ótimo. Não escolhi essa marca atoa....pesquisei etc. Só que a tecla da letra \"\"R\"\" veio COMPLETAMENTE SOLTA......Nem pude pensar em devolver, pois estudo on line usando usando o notebook e também para trabalhar. Tenho medo de colar e piorar o negócio. Sigo usando assim. Só me chateia que não pagamos barato, ou pode-se dizer que é o valor do mercado, em suma, não é brinde, não é cortesia, para vir com algo danificado.\"\n",
            "Nos primeiros dias estava travando muito, mal dava para abrir as aba de internet, mas depois que atualizei o windows 10 só falta levantar voo ficou tudo rápido sem nenhuma travada, testei far cry 5 e rodou sem problema algum, excelente produto.\n",
            "Produto muito bom, compatível com o que procurava.\n",
            "Produto chegou em perfeito estado.Recomendo,pois é do jeito q eu imaginava.Totalmente satisfeita!\n",
            "Comprei um mês passado e com 11 dias deu problema, foi para a garantia e trocaram a placa mãe, voltou e semana passada deu problema de fabricação na tela, falaram que o problema não está coberto pela garantia e pediram para ligar para fazer um orçamento, vou ter que pagar para consertar um problema de fabricação deles, é muito descaso com o cliente, existem marcas que estão melhores que eles, inclusive no pós venda. Paguei caro para ter um computador bom e que não daria dor de cabeça mas fui enganado por esta falsa impressão, o caro saiu caro.\n",
            "Notebook bom para usar em casa, ver filmes e acessar a internet, além de ser super leve.\n",
            "Está funcionando perfeitamente, chegou na data prevista, um ótimo produto.\n",
            "O computador está travando as teclas e escurecendo a tela, não tem nada nele e já está com a memória cheia! Eu quero fazer a troca!\n",
            "Só o Windows e suas atualizações já ocupam todo o espaço da memória\n",
            "Corresponde todas as características e espectativas. Muito bom!\n",
            "Não é o que desejei, por isso optei pela devolução, obg.\n",
            "Já fiz uma avaliação e foi apagada, mais vou insistir em outos meios.         Notebook travou com dois diad de uso- muito ruim    Deposito da <empresa> em Seropédica e criente morador de Nova Iguaçú e eles só entregam com o prazo combinafo de quinze dias uteis e não adianta reclamar. Demoram muito pra entregar o produto - sem mais.\n",
            "Não deveriam anunciar como notebook, produto muito ruim\n",
            "Produto lindo, leve e funcional. Entrega super rápida. Recomendo!\n",
            "Bom notebook para estudos e pesquisas na internet. Tem um bom processador que consegue suportar uma boa quantidade de jogos.\n",
            "\"As imagens das especificações técnicas do produtos são completamente incoerentes ao produto entregue.  Isso é questão de falta de ética da empresa e de incapacidade de garantir o produto final conforme a foto, ou seja, apenas uma forma de \"\"Phishing\"\" sobre os panos, aonde eles culpam os fornecedores pelas imagens divulgadas EM SUA PÁGINA.  A Tela não é Full HD como diz a imagem principal do item E as configurações da imagem ? Esquece, não existem e não são aquelas.  Uma pena, a credibilidade de vocês morreu pra mim e para todos que conheço e que viram a historia de perto.  Espero que esse comentário a respeito do produto ajude a pessoas não terem o mesmo problema que o meu.  Obrigado a todos, e <empresa> seu serviço foi bem péssimo nessa situação.\"\n",
            "ótimo para desenvolvimento, leve e portátil, e bonito.\n",
            "Até o momento já passou 1 mês está tudo bem, principalmente depois que passei para o outro Linux chamado Fedora !\n",
            "Produto da linha samsung de excelente qualidade. Entrega foi muito rápida e atendeu as minhas expectativas. Compro outo e recomendo. Sempre compro com as <empresa>.\n",
            "O bom produto para usar no dia a dia, é rápido para executar trabalhos básicos, assistir vídeos, etc.\n",
            "Por hora tenho utilizado apenas para fazer curso online e navegar na internet. Para este propósito ele está aprovadissimo.  Mas comprei para editar vídeos. Mais ainda não utilizei para o mesmo, portanto não tenho como avaliar.\n",
            "Chegou na data correta. produto excelente. Recomendo. Era o que eu esperava.\n",
            "Nao comprem. Porque dao o prazo de entrega  e nao cumprem . Entregam quando querem deceoxao total\n",
            "Sem reclamações! Um dos melhores do mescado. Sem duvida um excelente compra pra quem quer um notebook completo.\n",
            "Notebook Perfeito, ele vem com linux, mas ai é só colocar o windows 10(ou o sistema operacional de sua preferencia), ele é super rápido, se for para usar para atividades normais como Youtube, Google, Facebook) funciona muito bem e se for para jogar, roda liso o Euro Truck Simulator 2 versão 1.1.1 no gráfico alto, e a entrega foi antes do prazo previsto.\n",
            "Esse laptop atende minhas necessidades presentes e futuras\n",
            "Gostei muito, vai ajudar bastante no meus trabalhos.\n",
            "Comprei focando em edição de vídeo e fiz a escolha certa!\n",
            "Ótimo custo beneficio. Na cor branca é lindo. Chegou bem rápido\n",
            "\"Aí você pede a entrega rápida, porque está com mais \"\"urgência\"\" e o prazo está de 6 a 8 dias úteis, hoje tem 10 dias úteis contando um dia após a confirmação da compra e ainda não chegou, sem contar que a previsão no site era 03/05 e não chegou nada em casa, péssimo atendimento!\"\n",
            "Gostei. Ótimo notebook, atende todos os meus requisitos. Ótimo desempenho. Consigo jogar meus jogos tranquilamente.\n",
            "Ótimo e bonito. Bem grande porem faz bastante barulho\n",
            "Notebook com ótimo preço, boa configuração. A bateria poderia durar mais tempo e o fio do carregador deveria ser maior.\n",
            "gente sempre compra nas lojas <empresa> se recomendo que vc comprei\n",
            "Produto conforme o anúncio, chegou antes do prazo e atende as expectativas.\n",
            "Gostei muito do notebook, não concordo com o Windows 10 ser tão lento para tudo. Fora isso está certo.\n",
            "Existem 3 entradas USB (Uma delas é USB 3.0, Existe 1 entrada de internet LAN, Entrada para fones de ouvido (entrada para  fones de celulares), Entrada para CD/DVD e mais\n",
            "Atendeu as minhas expectativas. Um ótimo notebook para quem quer usar para trabalho ou lazer.\n",
            "Atende as expectativas e a entrega antes do prazo!!! Produto leve, qualidade de som e resolução\n",
            "O notebook é de excelente qualidade e desempenho. O serviço das lojas <empresa> foi excelente, o produto chegou mais rápido que o previsto.\n",
            "Excelente produto, com desempenho maravilhoso. Com certeza acertei na compra.\n",
            "Muito ruim trava usei 5 vezes e agora não liga mais\n",
            "Gostei do produto, superou as expectativas, parabéns.\n",
            "Não preciso de grandes recursos porém não queria um computador que fosse defasado. Liga rápido e de fácil entendimento no primeiro uso.\n",
            "O produto possui excelente desempenho representando ótima relação custo benefício.\n",
            "Levissímo, super estiloso e com ótimas funções. Super recomendo!\n",
            "Muito prático e fácil de usar.  Além disso o equipamento  é   leve e com designer muito interessante.\n",
            "Gostei muito remcomdo produto de ótima qualidade show de bola\n",
            "\"Estou com o PC a poucos dias e não tive nenhum problema. Notebook liga extremamente rápido, tem uma assistente eletrônica que auxilia bastante nas dúvidas e pesquisas. É mais bonito do que na foto, com certeza. Enfim, cumpre o esperado para um PC com essas configurações e possui diversos \"\"plus\"\" do fabricante, por isso, recomendo.\"\n",
            "Com duas semanas de uso o produto tem se mostrado eficiente, bateria chega a durar por muitas vezes até bem mais do que as 7h que o especificado, é bem silencioso, rápido (removi alguns programas que não servem para nada a não ser deixar a inicialização lenta),  instalei GTA 5 e roda muito bem, tem entrada para instalação de ssd m.2, áudio acima da média. Único problema que encontrei foi em relação a tela possuir o branco amarelado e isso atrapalha muito pra quem edita fotos, entrei em contato com a acer a qual afirmou que isso era normal, espero não precisar do suporte deles pois tem um péssimo atendimento. A <empresa> me atendeu super bem e resolveu trocar mas preferi ficar com o notebook pois procurando no youtube vi que é possível melhorar a qualidade da tela fazendo a calibração do vídeo. Entrega foi super rápida.\n",
            "O produto é muito bom, mais é meio lento para algumas coisa!\n",
            "Para usuários com poucas necessidades,  este notebook é ótimo.\n",
            "Recomendo com certeza, muito bem nas tarefas do dia a dia.\n",
            "O produto é  bom, só  demorou um pouco mais pra chegar, mas está  tudo muito bom.\n",
            "O not é muito bom, mas axo que a tampa que fecha ele deveria ser mais firme, quando coloco ele em uma posição que não seja de uso a tampa fica semi aberta, parecendo que tem uma mola que ta com defeito. fora isso é bom.\n",
            "Tudo o que eu esperava, por um preço que vale. Resta saber a durabilidade.\n",
            "Para as configurações apresentadas e realização de tarefas diárias e estudo universitário atende muito bem as expectativas.\n",
            "Comprei e uso o computador há cerca de 1 mês e sábado ele simplesmente não ligou. Agora me vem o transtorno de ter que ir atrás de garantia, sair no horário de trabalho pra levar em assistência e ainda correr o risco de perder todos os documentos que estavam no computador. Até falaria que é o barato que vai sair caro, mas 1000 reais pra mim faz diferença, então não é barato pela péssima qualidade.\n",
            "Quem precisa de um computador que seja realmente para trabalho, que é o meu caso, não deixa a desejar em nada.\n",
            "comprei o produto no dia 24/04 e ate agora nao me entregaram sendo que optei por pagar pelo frete expresso , total desrepeito com o consumidor !!\n",
            "Muito lento, Não faz nem um mês que comprei e não baixei nada e já diz que não tem espaço para atualizar\n",
            "Bom acabamento, bom desempenho, bom prazo de entrega, estou satisfeito.\n",
            "Produto em perfeitas condições e entrega antecipada.\n",
            "Comprei pela confiança na marca Dell. E até agora não tem me decepcionado. Lindo e eficiente.\n",
            "Otimo e muito lindo mas o envio te que ser mas rápido\n",
            "A Bateria nao funciona e ate hoje espero a troca.. ja faz algumas semanas e nao aparece o tecnico da dell pra agendar\n",
            "Perfeito, com exceção de ser fino demais, então acaba esquentando quando vc usa algo mais pesado, como um jogo no máximo. Mas provavelmente vc vai estar em casa e deveria estar usando um cooler externo ou um suporte com cooler. Resolve.  O custo benefício daria uns 9.8. Meio caro, mas vale totalmente a pena. Difícil achar um note com o mesmo hardware por menos de 5k, mesmo montando. E já vem com tudo, então basta usar. E levar por aí, pq com 2kg e fino desse jeito, vc nem sente na mochila\n",
            "Excelente custo beneficio já que é mais barato por vir com linux(Satux linux). O código de rastreio não funcionou nenhuma vez e quando vi o produto já estava chegando, mas fora isso o produto é de qualidade e vale a pena.\n",
            "Comprei o notebook a mais de 20 diass e ainda não foi gerada nem a nota fiscal!\n",
            "Achei muito leve, excelente processador,  Chegou perfeito e antes do prozo combinado. Super recomendo.\n",
            "Ele tem o processador Linux e não consigo usar para algumas funções de estudo. Tentei por varias vezes entrar em contato com a Positivo e com o seguro para saber se posso mudar de Linux para Windows porém não consigo contato.  Infelizmente esta sem muito uso, pois não tem as mesmas funções do Windows e os programas do portal da faculdade não roda bem com esse processador.\n",
            "Produto muito bom preço benefício Anericanas está de parabéns chegou antes do previsto\n",
            "Leve, prático, comprei para estudar. Estou gostando muito! Chegou bem antes da data prevista!\n",
            "excelente para o uso trabalho e para jogos pesados\n",
            "As lojas <empresa> não está cumprindo prazos, não como antes quando o serviço era impecavel. Não recomendo comprar nesta loja, sobre o notebook nem sei, não recebi ainda\n",
            "Por enquanto não estou tendo problemas. Meu uso é cotidiano e a máquina é responsiva. A única coisa que não gosto é a qualidade da tela. Apesar de ser Full HD, o visor tem brancos muito fortes, e os ângulos de visão são reduzidos. Tem que ficar o tempo todo ajustando a tampa pra obter uma visualização adequada. A bateria dura bastante se usar os modos de economia da Samsung. O teclado é bom. E nem da pra escutar o ventilador rodando. Super silencioso. O que gostei muito é que ele vem um um atualizador de drivers e bios, deixando sempre o pc atual. Recomendo o produto.\n",
            "Comprei um notebook DELL em fevereiro de 2018, exatamente pela certeza de estar comprando algo de qualidade, paguei mais caro por isso, más para minha negativa surpresa, o meu notebook STI (dualcore) de 8 anos de uso tem um melhor desempenho que este I5 da DELL, vi que existem diversas outras reclamações no mesmo teor junto ao RECLAME AQUI e todas versando as mesmas dificuldades e insatisfações com o produto e com o pos-venda,  Desta forma registro aqui minha decepção com a DELL e seu produto e aguardo resolução o mais rápido possivel.     OBS: DIGO PARA TODOS OS CONSUMIDORES QUE PENSAM EM COMPRAR ESTE NOTEBOOK, EU PESQUISEI ANTES E VI ALGUMAS RECLAMAÇÕES, PENSEI QUE ERAM CASOS ISOLADOS, MÁS COMPREM OUTRA MARCA OU PELO MENOS ARRISQUEM EM OUTRA SERIE DE NOTEBOOKS, ESSE É UM LIXO.\n",
            "O notebook tem ótimo desempenho e atende às minhas necessidades, exceto por não possuir driver de cd e dvd. Tirando isso, gostei muito, ele é muito lindo!\n",
            "\"até atende as necessidades mas achei ele meio frágil e meio \"\"podre\"\" por dentro\"\n",
            "O notebook chegou antes do prazo, e ele veio perfeito sem defeito nenhum, recomendo.\n",
            "Perfeito. Trabalho online, jogo online. Fácil intalação fácil acesso. Tela grande muito boa, leve fácil de carregar. Só tenho elogios para fazer.\n",
            "COMPREI QUANDO MENOS ESPERA  UM PIXEL NA TELA  E RUIM QUE ATRAPALHA\n",
            "Notebook que atende às expectativas de usuários que o utilizam para pesquisar e produzir e editar documentos e planilhas.\n",
            "como sempre amo comprar na <empresa> entrega antes do prazo parabéns.\n",
            "Antes de comprar olhei no site e consta que eles tem driver para windows 7 64 bits, porem ao instalar outro sistema operacional, não reconhece os drivers  de wifi nem de USB.  Entrei em contato com o suporte e o mesmo informou que o que ta lá é o que tem ,  e que não podiam fazer nada!   É complicado uma empresa que fabrica os aparelhos fala que tem os drivers, mas não tem.\n",
            "Produto correspondeu as expectativas. A entrega foi antes da data prevista.\n",
            "Produto otimo e com designer maravilhoso, é super eficiente e roda jogos bem pesados. Aprovado!\n",
            "É  uma bela máquina. Preço bom. Atendeu perfeitamente.\n",
            "Notebook rápido, posso deixar várias janelas abertas e mexer em todas sem problemas! Só travou uma vez desde a compra, por motivos que ainda não descobri, mas só reiniciei e não tive mais problemas! Estou usando o note a aproximadamente dois meses, e estou muito satisfeita com sua performance!\n",
            "Uso mais para pesquisa e para trabalhos da faculdade, e estou muito satisfeita com o notebook! É rápido, não é muito grande (bom para transportar) nem pequeno demais. A bateria dura bastante tempo e carrega rápido. Só achei ele pesado.. mas não influencia na minha opinião sobre o notebook. Recomendo!\n",
            "produto muito bom, e muito rapido a entrega eu recomendo.\n",
            "Gostei muito do produto. Leve, pequeno, bonito, não esquenta e boa bateria.  Bom desempenho para o essencial. Para jogos mais simples, atende bem.\n",
            "Eu gostei do serviço da maneira façil de comprar sem ter que sair de casa .e a entrega também foi bem rápida parabéns.e eu recomendo\n",
            "Comprei estou bastante satisfeito recomendo só estranhei um ant-viros que tinha comprado, ficava travando mas troquei o ant-viros aí ficou ótimo os produtos da samsung são ótimos tenho vários.recomendo.\n",
            "Até agora correspondeu a expectativa.  Acabamento fino. Estou gostando muito até agora!!\n",
            "Comprei este notebook para substituir um Asus cansado de prestar bons serviços (mas ainda funcionando, tanto que irá para minha filha). Embora ainda com poucos programas instalados por mim, o Samsung trava a todo instante. Desinstalei o antivírus McFee que veio instalado, temendo que houvesse conflito com o Defender. De nada adiantou. Suspeito que haja tantos programas inúteis para mim instalados que o desempenho seja muito baixo. Involuímos.\n",
            "Ótimo custo beneficio, uso diariamente para trabalhar externamente e achei excelente: bateria, peso e velocidade. Fiquei totalmente satisfeito com à compra.\n",
            "\"Notebook Samsung Essentials E34 Intel Core i3 4GB 1TB Tela LED FULL HD 15.6\"\" Windows 10 - Branco  www.magazinevoce.com.br/magazinevendarapido/\"\n",
            "Produto muito bom, pena que a entrega deu uma boa atrasada, tirando isso, tudo certo\n",
            "O notebook n passa confiança,  temos a impressão que a qqr momento ele pode dar defeito, parece que foi feito nesse intuito,  n colocaram nada de qualidade nele. Por enquanto funcionando,  mas em uma vez demorou muito para ligar.\n",
            "Amei a cor,design, entrega super rápida. Usei pouco mais, gostei muito!!!\n",
            "Ótimo produto. Chegou antes do programado. Super recomendo.\n",
            "Com 43 dias de pouco uso, deu defeito, tentei trocar ou devolução do dinheiro mas não estou conseguindo. Comprei no Shoptime.\n",
            "Bom custo/benefício. Satisfaz para atividades corriqueiras.\n",
            "Ideal para a utilização de programas como o arcgis e Qgis. Utilizo imagens pesadas para as atividades de geoprocessamento, e o notebook sustenta toda esta demanda. Ainda não utilizei o notebook para jogos, mas creio que rode muito bem!\n",
            "É muito bom, chega antes do prazo estabelecido e atende minhas necessidades.\n",
            "mal chegou e ja chegou estando com vários problemas, um dele era a tela que estava com problema, não recomendo essa bomba pra ninguém, péssimo produto\n",
            "Trava muito.  Usa 3.0 não presta para HD externo, na transferência de ficheiros superior a 1,8 gb ela desconecta o dispositivo constantemente. Da muito bug no sistema, necessitando constante inicialização.  Não possui led para tecla capslook, vc tem que problemas na hora de digitar senhas.  Resumo da ópera quem compra vai passar raiva.\n",
            "Ótimo produto,me surpreendeu com tamanha qualidade\n",
            "Produto maravilhoso, chegou mto antes da data prevista, estou amando.\n",
            "Quero meu dinheiro se volta. Só isso!! Seu parceiro não me entregou o produto. To em processo de devolução do meu dinheiro.  E vcs sabem disso!!\n",
            "Não recebi produto. Depois de uma espera de 38 dias, pedi o cancelamento, pois já tinha passado o passo de entrega. Um descaso do consumidor, por colocar lojas parceiras que não cumprem corretamente com o consumidor.\n",
            "Recomendo, excelente atende minhas necessidades. Pra quem precisa de um notebook intermediário é uma boa opção.\n",
            "Comprei o produto considerando a marca Dell, porém não gostei, inicialização muito lenta e agora que completou os 12 meses da garantia, o produto começou apresentar falhar. Arrependimento total!!! Não compre, Dell só tem nome.\n",
            "amei, e quem comprar vai se apaixonar, tinha muito medo de comprar pela internet, mas vi que é muito seguro.\n",
            "Atendeu minhas necessidades um ótimo produto e a entrega muito rápida\n",
            "Material do produto parece descartável, pelo preço e pela marca se esperava algo melhor, a carcaça da impressão que é ressecado o plastico, tem que ter muito cuidado no manuseio para não danificar o produto, comprei e me arrependi, fazer o que né... agora engoliar o sapo e torcer pra não dar problema, tenho um sony vaio que já esta comigo em uso há quase 11 anos, material super resistente já caiu no chão e ta inteiro.... já esse aqui.... nem precisa cair no chão o simples fato de abrir a tela já corre o risco de danificar então fica a dica todo cuidado é pouco.\n",
            "netbook  muito ruim pequeno programação ruim  windo 10 muito ruim.\n",
            "OTIMO PRODUTO CHEGOU ANTES DA DATA TUDO CERTO.. PRAZO RESPEITADO E PRODUTO MUITO BOM, OTIMO CUSTO BENEFICIO\n",
            "Muito ruim não compre propaganda enganosa nxkskowoksnxxnnxncjcmd Nxjxnnxxxnxnxnncncmckmcc Dnxjxkcmmxmxmddd\n",
            "não recebi ainda, não tenho como avaliar, comprei para ser entregue em 36 dias e após a compra e o pagamento fui informada da mudança da entrega para praticamente 60 dias.\n",
            "Recomendo o produto Samsung Notebook e a entrega foi feita dentro do prazo.\n",
            "chegou super rápido, estou mega feliz, porque me entregaram em menos de dez dias mesmo com a previsão só pro dia 16 de junho recomendo demais\n",
            "gostei muito do produto, pena que não vem com o pacote da microsoft\n",
            "aparelho maravilhoso, entrega rápida parabéns estou muito satisfeita.\n",
            "Eu adorei, a tela é grande e não é dificil de utilizar\n",
            "Por esse motivo esse produto e de péssima qualidade  eu paguei à vista 2.063.99, só deu prazo de garantia consumidor, achando que fez uma boa compra , quero um reparação deste produto   deu problema no HD e bateria.  Atenciosamente:  Edilma  Sena.\n",
            "Possui um excelente desempenho, realmente um produto de boa qualidade, lindo design, leve e atende a todas as minhas necessidades de estudo, ótimo também para o trabalho.\n",
            "Recomendo o produto notebook de excelente qualidade...\n",
            "Entrega dentro do prazo, produto de excelente qualidade, recomendo\n",
            "Pela primeira vez estou insatisfeita com uma compra nas lojas <empresa>! Paguei por um produto novo e foi me reenviado um reembalado! Não recomendo!\n",
            "Produto excelente, uma ótima aquisição. Comprei para meus sobrinhos que estão amando o produto. Atendeu as expectativas.\n",
            "Achei um pouco lento para a configuração, que comprei. Esperava uma velocidade melhor.\n",
            "Otimo de se trabalhar, simples, duravel e facil de formatar. E quem é o acefalo q em pleno 2018 quer colocar windows 7 num notebook com hardware anos na frente?\n",
            "Atendeu as minhas expectativas, desagner moderno, entrega antes do programado como sempre...   Parabéns <empresa>\n",
            "FOI 4 vezes para assistencia em menos de um ano e é  a 5 vez que estragou e atendente nao quis receber aparelho novamente estou aqui com computador estragado e botei GARANTIA ESTENDIDA PELA <empresa> E AI QUEM VAI RESOLVER MEU PROBLEMA?\n",
            "O produto foi entregue e está sendo usado sem problema.\n",
            "Produto muito bom, mas o hd que vem de fábrica é lento, precisei comprar um ssd para não ter problema de velocidade.\n",
            "produto muito bom, porem, na opção com linux deveria vir outro SO ao inves do Mandriva,por exemplo, Ubuntu ou mint\n",
            "Trabalho com fotografia, e para minhas edições uso programas com lihgtroom. Esse note cumpre bem o propósito. Lindo, eficiente e bom preço. Terminando de pagar esse comprarei mais um\n",
            "Para trabalhos domésticos, lazer e consultas escolares.\n",
            "Comprei a pouco tempo, mas o produto é muito bom, ele é super leve e compacto, apesar de ter uma tela de 14’. A entrega foi extremamente rápida.\n",
            "Sorte que comprei em um site seguro. Devolvi o produto é fui ressarcido o valor pago. <empresa> me garantiu a devolução .\n",
            "Produto excelente , ótimo para estudos , chegou antes do prazo\n",
            "Meu primeiro notebook e eu amei , essa marca é a melhor , recomendo , coloca sony no bolso\n",
            "Recomendo à todos, ótimo produto. Estou muito satisfeito!\n",
            "O produto é excelente, sem contar com a entrega, chegou aqui na minha casa com 10 dias de antecedência.  Ótimo Produto.\n",
            "Ótimo produto, entrega muito rápida e o preço  está ótimo, gostei muito.O site é bem simples e bem funcional!!\n",
            "O produto é ótimo, o maior problema encontrado são as atualizações que levam quase 24h para serem completadas. Realmente se for para uso imediato atrapalha. Quanto a funcionalidade até agora dentro do esperado.\n",
            "Atende aos objetivos por sua portabilidade e recursos\n",
            "O produto n chegou em minha residência já vai fazer 30 dias pós compra. Então n pode ser avaliado. No site das <empresa> já fiz várias reclamações e n surtiu efeito. No último contato de vcs a atendendo informou q estava procurando o produto junto com a transportadora ou seja esta perdido?? varios prazos foram pedido por vcs e n foi cumprido. Eu vou esperar até o dia 20/05 caso n chegar entrarei com uma ação por n entrega e por n devolver o valor pago. Essa foi a mimha primeira compra c vcs Não recomendo pra ninguém pela demora na entrega, pela resposta demorada nas reclamações, por n cumprir com o prazo, por n ter contato c a transportadora. Por prometer um prazo enganoso no anúncio entre vários outros. Não vou nem agradecer  no fim dessa mensagem para vcs entenderem o nível de insatisfação q estou. Há faltou eu informar q fui na filial no cabo de Santo Agostinho Onde o produto esta mas foi negado a entrega mesmo estando esse tempo todo atrasado.\n",
            "Cumpriu as funcionalidades descritas no site. O notebook é leve e prático para ser transportado. Boa capacidade de memória.\n",
            "O suso a um mês, e o segredo é desinstalar o windows 10 original e instalar novamente, já que não aceita outros,  assim vai dar pra instalar novos programas e ainda sobra cerca de 10 gb de espaço, aí funciona normalmente. Outras opções e usar cartão de memória e HD externo, Mas não recomendo pars quem procura um note razoável.\n",
            "\"Chegou dentro do prazo, e em perfeito estado. Atende bem as minhas necessidades. É leve e com uma memória que serve bem aos meus objetivos. As vezes tenho a impressão que o cursor mouse \"\"some\"\" por rápidos instantes, mas nunca tive problemas. Uma pena que não venha com windows \"\"fixo\"\", vem apenas com o de teste por 30 dias e depois é preciso comprar ou formatar com nova instalação. Indico o produto.\"\n",
            "Ele também tem leitor de cartão de memória,coisa que não é citada aí.\n",
            "Esse produto nao recomendo niguem comprar so conseguir usar ele quatro dias dai ele nao fucionol mais ja liguei pra empresa responsavel ficaram de mim retornar a ligacao e ate agora nada to com o notebook em casa quebrado quero uma providencia desde ja\n",
            "gostei muito do produto não tenho o reclamar o meu filho esta muito feliz\n",
            "Ótimo note pra quem quer apenas trabalhar, acessar a internet e de quando em vez assistir algum filme; pra estas tarefas ele executa tudo muito bem. Como é um note de entrada o processador Celeron deixa um pouco a desejar mas ainda assim é um ótimo aparelho ´para as funções comuns. Recomendado.\n",
            "Produto lindo e versátil. Atendeu as espectativas. Faltou só reprodutor de DVD... No mais de boa tecnologia.  Entrega antes do previsto, bem embalado. Qualidade da <empresa>\n",
            "Ótimo custo benefício. Só tive que formatar para ficar mais rápido.\n",
            "O notebook veio com defeito, não ligava, acessando direto a BIOS. Desse modo, tive que devolvê-lo e comprei um novo da marca Dell, esse sim de ótima qualidade.\n",
            "Venho por meio deste demonstrar minha insatisfação com este produto. Comprei com o intuito de usar como ferramenta de trabalho, acreditando que era o melhor produto de sua categoria mais fui surpreendido pela péssima qualidade. O computador trava constantemente, é muito lento e pesado e as vezes o windows nem carrega ou dá pane. Receio pelos inúmeros arquivos que tenho salvo no computador, que hoje é o servidor do meu escritório de contabilidade, onde guardo todos os dados dos meus clientes nele.\n",
            "Não posso avaliar o produto, motivo que foi enganado pela a loja <empresa>,o produto não foi entregue, foi comprado e pago Estou aguardando uma resposta com urgência. Atenciosamente:\n",
            "Tivemos que reentalar várias vezes o Windows 10 e por consequência os demais programas e arquivos\n",
            "Notebook excelente, não trava. Foi entregue perfeitamente. Por um erro meu, o correio voltou o produto para o remetende e o rapaz da empresa SÓ LEDS foi muito atencioso e me entregou este notebook maravilhoso rapidamente.  Estou muito satisfeita.\n",
            "GENTE! eu recomendo muito, o produto chegou antes da data e o melhor, é maravilhoso, lindo e moderno.\n",
            "produto excelente e chegou muito antes da data marcada\n",
            "pensei q a marca dell ia ser melhor , notebook muito lento p inicar , no começo trava muito ate carrregar para começar a navegaçao na net ,, lento p tdo , ate p baixar volume ou qlqer funçao clicada demora muito , nao vale apena ,,\n",
            "Está em atraso produto não chegou espero que resolvam logo esse problema Urgentemente é um descaso\n",
            "Com dias d uso a tela ficou escura, ao aumentar maximo brilho ficava piscando, mais 1 semana d assistencia tecnica, estou indo buscar, espero que tenham resolvido d vdd.\n",
            "Este é o terceiro notebook que possuo desta marca e agora estou totalmente insatisfeito. O produto apagou totalmente e fui obrigado a formatar novamente onde perdi todos os meus arquivos e programas. Recentemente deu defeito no teclado onde estou tendo dificuldades em digitar pois algumas teclas quando usadas repetem varias vzs e para piorar a situação não consigo achar Assistência Técnica Autorizada em minha cidade (Belém-Pa) para efetuar o conserto pois o mesmo ainda está na garantia.\n",
            "Notebook está funcionando perfeito e dentro das expectativas, por outro lado o ato da compra via <empresa> foi uma decisão correta, tudo ocorreu dentro do esperado, desde as informações iniciais sobre o pedido até a entrega, dentro do prazo e com o produto bem acondicionado na embalagem\n",
            "Ótimo note, entrega super rápida bem antes do que esperava.\n",
            "Produto conforme o esperado e muito compacto, super recomendo para quem quer um notebook intermediário!\n",
            "<empresa>, como posso atender a solicitação de avaliação de um produto que já fiz o pagamento à 30 dias e ainda não me foi entregue? O produto é muito bom, pois tenho um conhecido que usa, mas a entrega demora mais que importar da China!\n",
            "Máquina muito boa mais está apresentando um defeitinho (Listra no meio da tela de fora a fora)\n",
            "Prático para o dia-a-dia, por pesar cerca de 1,7kg e ter uma bateria boa, que dispensa levar o carregador. O processamento dá conta de sofwares de edição de vídeo, coisa que os notes de 1,2kg (chromebook, por exemplo) não dão conta.\n",
            "Por ser windows 10 e eu estava acostumada com o 7, ainda estou aprendendo a mexer nele, achei um pouco lento, porém pra minhas necessidades funciona super bem.\n",
            "O notebook é muito bonito e leve. A bateria tem boa duração. Serve para navegar e usar office, mas às vezes dá umas travadinhas. Em geral achei o processador muito fraco. Comprei por 999,00 na blackfriday. Então teve um bom custo benefício. Vou vender e comprar outro no mínimo um core i3.\n",
            "Ótimo Custo Benefício. Vale a pena o valor pago e a praticidade no tamanho para mobilidade.\n",
            "Não sei , pois o prazo de receber era até dia 07/05/2018 e até o presente momento nem como reclamar     Super insatisfeita quero meu dinheiro de volta , me sentindo ludibriado   Sempre compro no site das <empresa> por confia , por acha que é seguro   Paguei mais caro por prazo mais curto na entrega  Não consigo acompanha o produto pq só fica atualizando em fim   Super insatisfação\n",
            "NÃO RECEBI O PRODUTO ATÉ AGORA NÃO RECEBI O PRODUTO ATÉ AGORANÃO RECEBI O PRODUTO ATÉ AGORANÃO RECEBI O PRODUTO ATÉ AGORANÃO RECEBI O PRODUTO ATÉ AGORANÃO RECEBI O PRODUTO ATÉ AGORAvvvNÃO RECEBI O PRODUTO ATÉ AGORa\n",
            "Acertei na escolha do Computador. Excelente (funcionalmente e esteticamente).\n",
            "Há mais de um mês que efetuei a compra e ainda nem recebi o produto. Péssimo serviço de transportadora. A <empresa> caiu e muito o conceito de prestação de serviços. Pensarei bastante antes de realizar uma nova compra. A entrega fica muito a desejar. Quanto ao produto, se ainda receber, terei como avaliar. Mas se for algo de urgência, não comprem. Transportadora sem compromisso, não atualiza status e demora uma eternidade.\n",
            "Não posso avaliar o produto pq ainda não recebi. E até agora não me deram nenhuma posição.\n",
            "Ainda não recebi esse produto é até agora não obtive nenhuma resposta\n",
            "Estou muita chateada e vou correr atrás dos meus direitos, Comprei com uma configuração venho com uma inferior ,reclamei mandaram devolver que entregaria outro e me entregaram com a mesma configuração.\n",
            "Dei de presente pro meu filho que está na faculdade, ele ficou fascinado com o notebook...excelente design, sofisticado. Me deu ate vontade de comprar um pra mim. A nossa única preocupação é que ele é branco e não tem textura lisa mas rugosa, creio dificultando a limpeza. Mas ele é muito lindo branco.\n",
            "LINDO...MARAVILHOSO E ATENDENEU MINHAS ESPECTATIVAS!!\n",
            "Comprei para o meu filho, ele está adorando, tudo funcionando perfeitamente, além de ser lindo e a entrega foi realizada antes do prazo previsto.\n",
            "Já são mais de 10 dias de atraso. 13 pra ser mais preciso.\n",
            "estou usando ha um mes e estou amando.  super rapido .\n",
            "O custo do frete inibe a compra do equipamento, acima de R$ 400,00. Seria bom rever este critério, como também dar desconto para pagamento a vista n o Boleto\n",
            "É leve, rápido, e construído com materiais de boa qualidade.  Pontos negativos: As portas USB são muito apertadas, dificultando na hora de conectar e principalmente desconectar dispositivos. Poderia ter um SSD no lugar do HD tradicional.\n",
            "Não tem falando geração de processador , tipo de memoria e etc... como vou saber essas coisas? :(\n",
            "\"Desde o início começou a esquentar além do normal. No quinto dia após a entrega \"\"morreu\"\". Segundo a assistência da Positivo, a fonte teria queimado. Tenho uma amiga que teve um positivo e que nunca deu problema. Infelizmente, fui sorteada para receber um produto com defeito, mas, a agilidade das <empresa> em cancelar a compra foi surpreendente. Desde a solicitação, fui acompanhada até o estorno do valor no cartão de crédito. No mesmo dia fiz nova compra nas <empresa>...só que....agora escolhi um Dell.\"\n",
            "Produto super prático e a entrega foi feita antes do previsto, já que estava até com medo de chegar atrasado por conta da greve mas deu tudo certo e como sempre recomendo a compra pela <empresa>!\n",
            "muito bom o produto chegou antes do prazo chegou em ótimo estado vale a pena eu recomento\n",
            "Apena poderiam colocar um teclado melhor. De resto é um otimo produto.\n",
            "Eu não estou conseguindo rastrear esse produto, favor me enviar localização desse objeto.\n",
            "o COMPUTADOR É MUITO BOM, PORÉM A ENTREGA DA <empresa>. COM É PÉSSIMA. DEMORARAM QUASE 10 DIAS A MAIS DO PRAZO PARA ENTREGAREM E NÃO RESPONDEM AS SOLICITAÇÕES SOBRE O ENVIO DO MESMO. PÉSSIMA EMPRESA PARA SE COMPRAR. NÃO RECOMENDO A <empresa> PARA NINGUÉM.\n",
            "Eu comprei para minha filha, e ela achou além de bonito é excelente para o trabalho dela\n",
            "Perfeito. Os melhores produtos só encontro aqui Fácil de instalar, chegou no prazo\n",
            "Recomendaria o produto se vocês me entregassem, há um mês atrás fiz a compra e até agora o status no rastreio é que o notebook não chegou a unidade dos Correios. Decepcionada com a <empresa> e o seu descaso ao atendimento ao cliente.\n",
            "Muito bom, recomendo para todas as tarefas, ótimo desempenho, rápido.\n",
            "DEPOIS QUE COMPREI UM EM 2012, ESPOSA E FILHA TEM DA MESMA MARCA.\n",
            "Produto atendeu minhas expectativas, é muito bom! Leve e de bom tamanho para transportar. Funciona muito bem, a bateria dura bastante. E a entrega foi super rápida, entregou em 4 dias (Lojas <empresa>). Super recomendo para quem quer um notebook para um uso de nível intermediário (que não vá rodar muitos programas de edição de imagem e vídeo).\n",
            "O pedido ainda não foi entregue e nem tem previsão e vocês mandam eu dar a opinião do produto? É uma piada? Já são quase duas semanas em atraso e nenhuma posição da loja.\n",
            "Compro sempre sempre nas <empresa> mas não sei se vou ainda comprar, pois o produto passou uma eternidade para chegar\n",
            "O produto é excelente e foi entregue sem problemas dentro do previsto.\n",
            "Um notebook que custa R$1650 com tela Full HD como esse já sai disparadamente á frente da concorrência não somente pela tela, mas pelo conjunto da obra: design, sistema operacional e possibilidade de upgrade, pois ao contrário de outras fabricantes, a Samsung criou essa facilidade com compartimentos acessíveis na parte inferior, ou seja, é só desparafusar uma pequena tampa. Para quem faz uso básico como assistir filmes, tarefas leves como enviar e-mail e acessar redes sociais esse notebook é perfeito. Porém, comprei para outra pessoa, pretendo comprar um mais robusto para meu uso profissional de edição de imagens e vídeos, ciente que esse modelo não atenderia, talvez o X51 Expert, mas não tem tela IPS. Espero que as fabricantes, inclusive a Samsung comecem a ofertar notebooks com tela IPS e SSD, pois é o mínimo que um profissional busca.\n",
            "Sempre que peço coisas pela as lojas <empresa> chegam sempre muito rápido e o notebook e excelente e surpreendeu minha expectativa é  e super rápido .\n",
            "ótimo para estudo e entretenimento! Prático e fácil de manusear, o único problema é que o Pacote Office tem validade e necessita ser comprado.\n",
            "Produto com defeito, quase 1 mês e ainda não resolveram meu problema\n",
            "Estou muito satisfeito com a compra e também estou muito satisfeito com a agilidade da entrega, notebook muito bom e ágil para as tarefas que preciso fazer no mesmo, recomendo a compra.\n",
            "Ótimo produto. Boa relação custo x benefício. Vale a pena.\n",
            "Produto excelente... leve.. rápido.. com muito espaço...o serviço de suporte assistido é fantástico... atendente virtual te ajuda com tudo...  O único ponto que eu colocaria era que poderia ter o Office instalado... pois é um pacote básico para qualquer computador. Não precisa ser o mais top, mas uma versão onde possa-se se usar o básico do word e excel...\n",
            "Excelente aparelho além de lindo. Entrega no prazo.  Eu recomendo\n",
            "Produto moderno, bonito e de facil uso, superou minhas expectativas e.\n",
            "Não é top, mas é um bom produto é com possibilidade de expansão\n",
            "Ótimo notebook muito bom para jogos não travou nenhum dos meus jogos!\n",
            "Nao dura uma hs. Contatei a equipe e nao resolveram.\n",
            "É um produto muito bom, alia qualidade a preço acessível.\n",
            "Maior arrependimento da vida ter comprado essa porcaria. Notebook lento, não dá nem pra usar internet e Word ao mesmo tempo que trava. Não tem nem dois meses sofrendo com esse notebook que já vou ter que levar na assistência simplesmente porque não liga mais. Não tenho nenhum programa baixado, nenhum jogo; uso apenas pra estudar e aconteceu isso.\n",
            "\"Comprei com a promessa de garantia à domicílio, porém ao acionar, eles não resolvem, joga a todo momento a responsabilidade para o cliente e você fica \"\"na mão\"\". A <empresa> também foi péssima, não auxiliou o cliente (de longa data), porém, não comprem nem produto DELL, muito menos do site <empresa>\"\n",
            "Poderia sair a tela mas é bem rápido e compacto. Muito bom\n",
            "Excelente produto, desempenho otimo...batetia dura em media 8 hs. O que deixou a desejar foi a demora de quase 2 semanas apos a data prevista pra entrega..<empresa> poderia rever isso...  Fora tdo ocorrido da entrega, recomendo o produto.  DELL É DELL\n",
            "A Dell caiu muito em qualidade não compro mais dessa marca. Quanto ao produto, não sei se era uma peça reoperada e/ou deixaram cair em algum momento pois veio com duas bolhas de proteção estourada dentro da caixa e com o plástico que o envolvia rasgado, sem falar que não veio com as proteções adesivas na tampa nem com a proteção do teclado, como todos produtos novos tem.  Não compro mais eletrônico pela internet pois o transporte pode tê-lo danificado, pois não funcionou direito, só deu problemas me causando imenso transtorno.   O barato sai caro!  Quando a esmola é demais o santo desconfia! Isso vale para todos produtos de sites, quando anunciados muito abaixo do valor real!  Decepcionada!\n",
            "Atendeu todas as minhas expectativas, chegou muito rápido\n",
            "Como avaliar um produto que não é entregue? Me explica? A única coisa que posso avaliar é o péssimo serviço prestado pela Empresa <empresa>.\n",
            "ATEndeu minhas necessidades , gostei do noteboook .\n",
            "quero devolução do meu dinheiro NÃO recebi  me devolvam meu dinheiro  passou do prazo\n",
            "Produto chegou em um dia queimou no outro, péssima qualidade. Cancelei a troca para receber um vale compra e comprar um notebook melhor.\n",
            "Até o momento possui um desenvolvimento bem satisfatório, colocando o Windows 10 nele fica perfeito!\n",
            "Recomendo... produto de qualidade e entrega rápida.\n",
            "Comprei e me arrependi. O computador apresenta erro de tela azul constante, o atendimento concierge que eles prometem é igual ao normal e já estou há 2 meses sendo enrolada pela Samsung, pois como não existe previsão de conserto (dizem que é incompatibilidade de SO, e que só uma atualização do windows estabilizaria ele) pedi meu dinheiro de volta.\n",
            "Produto de excelente qualidade, facil navegação, leve, com muito espaço para armazenamento.\n",
            "exelete notebook para atividades mais simples. Perfeito para navegar na internet ,editar arquivos de texto e planilhas eletronicas. som de ótima qualidade.  para jogos básicos é bem razoável. (testei com o CS-Go, no minimo roda a 50-60fps)  com um SSD fica muito rápido , iniciando em menos de 20 segundos.  Ponto negativo: Bateria (dura por volta de 4 horas) Ponto positivo: Design muito bonito, fino e portátil.   Recomendo!\n",
            "Pra dar pra minha filha de 10 anos jogar Minecraft...\n",
            "Entrega rápida, recomendo para quem precisa com urgência.\n",
            "Produto ótimo e a entrega chega antes do prazo previsto.\n",
            "Super atendeu as minhas expectativas e necessidades\n",
            "Como posso eu avaliar algo que ate entao nao recebi. Sendo que estava agendado para o dia 14/04.e ate agora NADA!!!\n",
            "Produto de excelente qualidade! Recomendo pois é de fácil uso e superou minhas expectativas para as minhas atividades diárias !\n",
            "Na verdade não comprei para mim. Mas a pessoa que está usando diz que é muito bom e o preço também.\n",
            "Estou muito revoltado com a Dell e me sentindo enganado por essa empresa. Não é possível que em um ano de compra e uso, este computador não sirva pra mais nada. Levo quase trinta minutos só para entrar na internet. Não aguento ser enganado, saber que 2.600 reais foram para o lixo comprando um produto de vocês é revoltante.  p.s.: não gostei desda primeira semana de compra.\n",
            "Como é que vocês têm coragem de me perguntar isso? Estou há mais de 7 dias esperando pelo produto de acordo com o prazo de entrega. Contabilizados 30 dias sem o produto\n",
            "O notebook não tem nem 2 meses está travando muito, é impossível mexer com o notebook dessa forma, hora tá lento hora tá bom, trava de uma forma que só desligando de vez pra vê se melhora. Estou muito arrependido de ter feito a compra desse produto, achei que iria ser uma boa escolha mais sinceramente já tô passando raiva, que fique aqui registrado minha reclamação que também vou registrar no suporte deles e se não tiver nenhuma solução vou também abrir no reclame aqui pra vê se vão resolver. Não sei se é só o meu notebook que está assim porque se for realmente foi um grande azar meu.\n",
            "Super Rápido e excelente produto. Entrega chegou antes.\n",
            "Produto ótimo, entrega rápida gostei da atenção da empresa.\n",
            "O anúncio está péssimo. Não tem informação nenhuma a respeito das configurações.\n",
            "Gostei muito, além de lindo, é muito eficiente, estou adorando.\n",
            "Desempenho e performance dentro do esperado. Bom para programar e jogar.\n",
            "produto de ótima qualidade e durabilidade,parabéns.\n",
            "\n"
          ]
        }
      ]
    },
    {
      "cell_type": "code",
      "source": [
        "# Este código foi baseado em https://medium.com/@CrlosSilva/usando-o-gpt-2-e-python-para-an%C3%A1lise-de-sentimento-1b2ca2e871fd\n",
        "\n",
        "import csv\n",
        "from transformers import GPT2Tokenizer, GPT2ForSequenceClassification\n",
        "import torch\n",
        "import warnings\n",
        "\n",
        "warnings.simplefilter(\"ignore\")\n",
        "\n",
        "# Carrega um modelo previamente treinado\n",
        "tokenizer = GPT2Tokenizer.from_pretrained('gpt2')\n",
        "model = GPT2ForSequenceClassification.from_pretrained('gpt2')\n",
        "\n",
        "# Cria uma função\n",
        "def prever_sentimento(texto):\n",
        "    # Codificar o texto\n",
        "    codificar_texto = tokenizer.encode(texto, return_tensors='pt')\n",
        "    # Prever o sentimento\n",
        "    sentimento = model(codificar_texto)[0]\n",
        "    # Decodificar o sentimento\n",
        "    return 'Positive' if sentimento.argmax().item() == 1 else 'Negative'\n",
        "\n",
        "# Função para ler frases de um arquivo e aplicar a previsão de sentimento\n",
        "def prever_sentimento_arquivo(nome_arquivo):\n",
        "    resultados = {}\n",
        "    with open('notebooks-challenge.txt', 'r') as arquivo:\n",
        "        for linha in arquivo:\n",
        "            # Remove espaços em branco extras e quebras de linha\n",
        "            texto = linha.strip()\n",
        "            # Prever o sentimento da linha\n",
        "            sentimento = prever_sentimento(texto)\n",
        "            resultados[texto] = sentimento\n",
        "    return resultados\n",
        "\n",
        "# Função para criar um arquivo CSV com as revisões e sentimentos associados\n",
        "def criar_csv(resultados, nome_arquivo):\n",
        "    with open(nome_arquivo, 'w', newline='') as csvfile:\n",
        "        writer = csv.writer(csvfile)\n",
        "        writer.writerow(['review_text', 'Sentimento'])\n",
        "        for review, sentimento in resultados.items():\n",
        "            writer.writerow([review, sentimento])\n",
        "\n",
        "# Testar o modelo com um arquivo e criar o CSV\n",
        "resultados = prever_sentimento_arquivo('notebooks-challenge.txt')\n",
        "criar_csv(resultados, 'sample_data/sentimentos.csv')"
      ],
      "metadata": {
        "colab": {
          "base_uri": "https://localhost:8080/"
        },
        "id": "PJyJoZi1NzvT",
        "outputId": "7b34649c-5e9f-4402-c147-1009773438b4"
      },
      "id": "PJyJoZi1NzvT",
      "execution_count": 244,
      "outputs": [
        {
          "output_type": "stream",
          "name": "stderr",
          "text": [
            "Some weights of GPT2ForSequenceClassification were not initialized from the model checkpoint at gpt2 and are newly initialized: ['score.weight']\n",
            "You should probably TRAIN this model on a down-stream task to be able to use it for predictions and inference.\n"
          ]
        }
      ]
    },
    {
      "cell_type": "code",
      "source": [
        "import pandas as pd\n",
        "\n",
        "# Carregar os dados dos arquivos CSV\n",
        "challenge_data = pd.read_csv(\"sample_data/sentimentos.csv\")\n",
        "train_data = pd.read_csv(\"notebooks-train.csv\", sep=\" \", header=None)\n",
        "\n",
        "# Filtrar apenas as reviews que estão presentes em ambos os conjuntos de dados\n",
        "common_reviews = pd.merge(challenge_data, train_data, left_on='Review', right_on='review_text')\n",
        "\n",
        "# Comparar os sentimentos previstos com os sentimentos reais para as reviews comuns\n",
        "differences = common_reviews[common_reviews['Sentimento'] != common_reviews['sentiment']]\n",
        "print(\"Diferenças encontradas entre os sentimentos previstos e os sentimentos reais:\")\n",
        "print(differences)\n",
        "\n",
        "# Calcular a acurácia apenas para as reviews comuns\n",
        "accuracy = (len(common_reviews) - len(differences)) / len(common_reviews)\n",
        "print(\"Accuracy do modelo:\", accuracy)\n"
      ],
      "metadata": {
        "colab": {
          "base_uri": "https://localhost:8080/",
          "height": 269
        },
        "id": "Jbne-uUvtB-B",
        "outputId": "9d43e289-063c-47eb-ef26-ee335b61a502"
      },
      "id": "Jbne-uUvtB-B",
      "execution_count": 269,
      "outputs": [
        {
          "output_type": "error",
          "ename": "ParserError",
          "evalue": "Error tokenizing data. C error: Expected 1 fields in line 2, saw 27\n",
          "traceback": [
            "\u001b[0;31m---------------------------------------------------------------------------\u001b[0m",
            "\u001b[0;31mParserError\u001b[0m                               Traceback (most recent call last)",
            "\u001b[0;32m<ipython-input-269-3ea2712afb5f>\u001b[0m in \u001b[0;36m<cell line: 5>\u001b[0;34m()\u001b[0m\n\u001b[1;32m      3\u001b[0m \u001b[0;31m# Carregar os dados dos arquivos CSV\u001b[0m\u001b[0;34m\u001b[0m\u001b[0;34m\u001b[0m\u001b[0m\n\u001b[1;32m      4\u001b[0m \u001b[0mchallenge_data\u001b[0m \u001b[0;34m=\u001b[0m \u001b[0mpd\u001b[0m\u001b[0;34m.\u001b[0m\u001b[0mread_csv\u001b[0m\u001b[0;34m(\u001b[0m\u001b[0;34m\"sample_data/sentimentos.csv\"\u001b[0m\u001b[0;34m)\u001b[0m\u001b[0;34m\u001b[0m\u001b[0;34m\u001b[0m\u001b[0m\n\u001b[0;32m----> 5\u001b[0;31m \u001b[0mtrain_data\u001b[0m \u001b[0;34m=\u001b[0m \u001b[0mpd\u001b[0m\u001b[0;34m.\u001b[0m\u001b[0mread_csv\u001b[0m\u001b[0;34m(\u001b[0m\u001b[0;34m\"notebooks-train.csv\"\u001b[0m\u001b[0;34m,\u001b[0m \u001b[0msep\u001b[0m\u001b[0;34m=\u001b[0m\u001b[0;34m\" \"\u001b[0m\u001b[0;34m,\u001b[0m \u001b[0mheader\u001b[0m\u001b[0;34m=\u001b[0m\u001b[0;32mNone\u001b[0m\u001b[0;34m)\u001b[0m\u001b[0;34m\u001b[0m\u001b[0;34m\u001b[0m\u001b[0m\n\u001b[0m\u001b[1;32m      6\u001b[0m \u001b[0;34m\u001b[0m\u001b[0m\n\u001b[1;32m      7\u001b[0m \u001b[0;31m# Filtrar apenas as reviews que estão presentes em ambos os conjuntos de dados\u001b[0m\u001b[0;34m\u001b[0m\u001b[0;34m\u001b[0m\u001b[0m\n",
            "\u001b[0;32m/usr/local/lib/python3.10/dist-packages/pandas/io/parsers/readers.py\u001b[0m in \u001b[0;36mread_csv\u001b[0;34m(filepath_or_buffer, sep, delimiter, header, names, index_col, usecols, dtype, engine, converters, true_values, false_values, skipinitialspace, skiprows, skipfooter, nrows, na_values, keep_default_na, na_filter, verbose, skip_blank_lines, parse_dates, infer_datetime_format, keep_date_col, date_parser, date_format, dayfirst, cache_dates, iterator, chunksize, compression, thousands, decimal, lineterminator, quotechar, quoting, doublequote, escapechar, comment, encoding, encoding_errors, dialect, on_bad_lines, delim_whitespace, low_memory, memory_map, float_precision, storage_options, dtype_backend)\u001b[0m\n\u001b[1;32m    910\u001b[0m     \u001b[0mkwds\u001b[0m\u001b[0;34m.\u001b[0m\u001b[0mupdate\u001b[0m\u001b[0;34m(\u001b[0m\u001b[0mkwds_defaults\u001b[0m\u001b[0;34m)\u001b[0m\u001b[0;34m\u001b[0m\u001b[0;34m\u001b[0m\u001b[0m\n\u001b[1;32m    911\u001b[0m \u001b[0;34m\u001b[0m\u001b[0m\n\u001b[0;32m--> 912\u001b[0;31m     \u001b[0;32mreturn\u001b[0m \u001b[0m_read\u001b[0m\u001b[0;34m(\u001b[0m\u001b[0mfilepath_or_buffer\u001b[0m\u001b[0;34m,\u001b[0m \u001b[0mkwds\u001b[0m\u001b[0;34m)\u001b[0m\u001b[0;34m\u001b[0m\u001b[0;34m\u001b[0m\u001b[0m\n\u001b[0m\u001b[1;32m    913\u001b[0m \u001b[0;34m\u001b[0m\u001b[0m\n\u001b[1;32m    914\u001b[0m \u001b[0;34m\u001b[0m\u001b[0m\n",
            "\u001b[0;32m/usr/local/lib/python3.10/dist-packages/pandas/io/parsers/readers.py\u001b[0m in \u001b[0;36m_read\u001b[0;34m(filepath_or_buffer, kwds)\u001b[0m\n\u001b[1;32m    581\u001b[0m \u001b[0;34m\u001b[0m\u001b[0m\n\u001b[1;32m    582\u001b[0m     \u001b[0;32mwith\u001b[0m \u001b[0mparser\u001b[0m\u001b[0;34m:\u001b[0m\u001b[0;34m\u001b[0m\u001b[0;34m\u001b[0m\u001b[0m\n\u001b[0;32m--> 583\u001b[0;31m         \u001b[0;32mreturn\u001b[0m \u001b[0mparser\u001b[0m\u001b[0;34m.\u001b[0m\u001b[0mread\u001b[0m\u001b[0;34m(\u001b[0m\u001b[0mnrows\u001b[0m\u001b[0;34m)\u001b[0m\u001b[0;34m\u001b[0m\u001b[0;34m\u001b[0m\u001b[0m\n\u001b[0m\u001b[1;32m    584\u001b[0m \u001b[0;34m\u001b[0m\u001b[0m\n\u001b[1;32m    585\u001b[0m \u001b[0;34m\u001b[0m\u001b[0m\n",
            "\u001b[0;32m/usr/local/lib/python3.10/dist-packages/pandas/io/parsers/readers.py\u001b[0m in \u001b[0;36mread\u001b[0;34m(self, nrows)\u001b[0m\n\u001b[1;32m   1702\u001b[0m                     \u001b[0mcolumns\u001b[0m\u001b[0;34m,\u001b[0m\u001b[0;34m\u001b[0m\u001b[0;34m\u001b[0m\u001b[0m\n\u001b[1;32m   1703\u001b[0m                     \u001b[0mcol_dict\u001b[0m\u001b[0;34m,\u001b[0m\u001b[0;34m\u001b[0m\u001b[0;34m\u001b[0m\u001b[0m\n\u001b[0;32m-> 1704\u001b[0;31m                 \u001b[0;34m)\u001b[0m \u001b[0;34m=\u001b[0m \u001b[0mself\u001b[0m\u001b[0;34m.\u001b[0m\u001b[0m_engine\u001b[0m\u001b[0;34m.\u001b[0m\u001b[0mread\u001b[0m\u001b[0;34m(\u001b[0m  \u001b[0;31m# type: ignore[attr-defined]\u001b[0m\u001b[0;34m\u001b[0m\u001b[0;34m\u001b[0m\u001b[0m\n\u001b[0m\u001b[1;32m   1705\u001b[0m                     \u001b[0mnrows\u001b[0m\u001b[0;34m\u001b[0m\u001b[0;34m\u001b[0m\u001b[0m\n\u001b[1;32m   1706\u001b[0m                 )\n",
            "\u001b[0;32m/usr/local/lib/python3.10/dist-packages/pandas/io/parsers/c_parser_wrapper.py\u001b[0m in \u001b[0;36mread\u001b[0;34m(self, nrows)\u001b[0m\n\u001b[1;32m    232\u001b[0m         \u001b[0;32mtry\u001b[0m\u001b[0;34m:\u001b[0m\u001b[0;34m\u001b[0m\u001b[0;34m\u001b[0m\u001b[0m\n\u001b[1;32m    233\u001b[0m             \u001b[0;32mif\u001b[0m \u001b[0mself\u001b[0m\u001b[0;34m.\u001b[0m\u001b[0mlow_memory\u001b[0m\u001b[0;34m:\u001b[0m\u001b[0;34m\u001b[0m\u001b[0;34m\u001b[0m\u001b[0m\n\u001b[0;32m--> 234\u001b[0;31m                 \u001b[0mchunks\u001b[0m \u001b[0;34m=\u001b[0m \u001b[0mself\u001b[0m\u001b[0;34m.\u001b[0m\u001b[0m_reader\u001b[0m\u001b[0;34m.\u001b[0m\u001b[0mread_low_memory\u001b[0m\u001b[0;34m(\u001b[0m\u001b[0mnrows\u001b[0m\u001b[0;34m)\u001b[0m\u001b[0;34m\u001b[0m\u001b[0;34m\u001b[0m\u001b[0m\n\u001b[0m\u001b[1;32m    235\u001b[0m                 \u001b[0;31m# destructive to chunks\u001b[0m\u001b[0;34m\u001b[0m\u001b[0;34m\u001b[0m\u001b[0m\n\u001b[1;32m    236\u001b[0m                 \u001b[0mdata\u001b[0m \u001b[0;34m=\u001b[0m \u001b[0m_concatenate_chunks\u001b[0m\u001b[0;34m(\u001b[0m\u001b[0mchunks\u001b[0m\u001b[0;34m)\u001b[0m\u001b[0;34m\u001b[0m\u001b[0;34m\u001b[0m\u001b[0m\n",
            "\u001b[0;32m/usr/local/lib/python3.10/dist-packages/pandas/_libs/parsers.pyx\u001b[0m in \u001b[0;36mpandas._libs.parsers.TextReader.read_low_memory\u001b[0;34m()\u001b[0m\n",
            "\u001b[0;32m/usr/local/lib/python3.10/dist-packages/pandas/_libs/parsers.pyx\u001b[0m in \u001b[0;36mpandas._libs.parsers.TextReader._read_rows\u001b[0;34m()\u001b[0m\n",
            "\u001b[0;32m/usr/local/lib/python3.10/dist-packages/pandas/_libs/parsers.pyx\u001b[0m in \u001b[0;36mpandas._libs.parsers.TextReader._tokenize_rows\u001b[0;34m()\u001b[0m\n",
            "\u001b[0;32m/usr/local/lib/python3.10/dist-packages/pandas/_libs/parsers.pyx\u001b[0m in \u001b[0;36mpandas._libs.parsers.TextReader._check_tokenize_status\u001b[0;34m()\u001b[0m\n",
            "\u001b[0;32m/usr/local/lib/python3.10/dist-packages/pandas/_libs/parsers.pyx\u001b[0m in \u001b[0;36mpandas._libs.parsers.raise_parser_error\u001b[0;34m()\u001b[0m\n",
            "\u001b[0;31mParserError\u001b[0m: Error tokenizing data. C error: Expected 1 fields in line 2, saw 27\n"
          ]
        }
      ]
    }
  ],
  "metadata": {
    "colab": {
      "collapsed_sections": [
        "kOHtl_lP8kEs",
        "93431f72-2e9e-4da9-9cb9-94c3bd19d908",
        "14b5487f-1289-4b9b-80d8-1465c234ce4e",
        "I-Xb6DkV4a2-",
        "c257d1ca-4f59-4a2a-8a2a-af5807d24438",
        "g6-07OQAojjn",
        "GDvd8I2opq7I",
        "MKg-iE7_vsEz",
        "FQRBUREUna_O",
        "fSBWo1rioZRZ",
        "BkYKGPPwdtSM",
        "LaPKBaU8HGfF",
        "0U7AVLkeEj-G",
        "Rcs77hqpAzQi"
      ],
      "provenance": []
    },
    "kernelspec": {
      "display_name": "Python 3 (ipykernel)",
      "language": "python",
      "name": "python3"
    },
    "language_info": {
      "codemirror_mode": {
        "name": "ipython",
        "version": 3
      },
      "file_extension": ".py",
      "mimetype": "text/x-python",
      "name": "python",
      "nbconvert_exporter": "python",
      "pygments_lexer": "ipython3",
      "version": "3.9.18"
    }
  },
  "nbformat": 4,
  "nbformat_minor": 5
}